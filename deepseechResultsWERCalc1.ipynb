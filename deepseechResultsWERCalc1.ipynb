{
 "cells": [
  {
   "cell_type": "code",
   "execution_count": 1,
   "metadata": {},
   "outputs": [],
   "source": [
    "## IMPORTANT NOTE:\n",
    "## I am NOT 100% sure that this is exactly what v051 uses during its test phase as the report.\n",
    "## Please try running with a test file used during a training run and compare to confirm."
   ]
  },
  {
   "cell_type": "code",
   "execution_count": 2,
   "metadata": {},
   "outputs": [],
   "source": [
    "##############################################################################\n",
    "##\n",
    "## Script to calculate the WER (word error rate) between model output\n",
    "##     and the ground truth sentences.\n",
    "##\n",
    "## Refer:\n",
    "##     https://discourse.mozilla.org/t/standalone-wer-script/29298/4\n",
    "## Code copied from here:\n",
    "##     https://github.com/mozilla/DeepSpeech/blob/27444d67ec4da563aea8a42ae8daec6fe877378b/util/text.py#L85-L97 \n",
    "##\n",
    "##############################################################################"
   ]
  },
  {
   "cell_type": "code",
   "execution_count": 3,
   "metadata": {},
   "outputs": [],
   "source": [
    "import pandas as pd"
   ]
  },
  {
   "cell_type": "code",
   "execution_count": 4,
   "metadata": {},
   "outputs": [],
   "source": [
    "## All this copied from here:\n",
    "## https://github.com/mozilla/DeepSpeech/blob/27444d67ec4da563aea8a42ae8daec6fe877378b/util/text.py#L85-L97\n",
    "##\n",
    "#\n",
    "def wer(original, result):\n",
    "    r\"\"\"\n",
    "    The WER is defined as the editing/Levenshtein distance on word level\n",
    "    divided by the amount of words in the original text.\n",
    "    In case of the original having more words (N) than the result and both\n",
    "    being totally different (all N words resulting in 1 edit operation each),\n",
    "    the WER will always be 1 (N / N = 1).\n",
    "    \"\"\"\n",
    "    # The WER ist calculated on word (and NOT on character) level.\n",
    "    # Therefore we split the strings into words first:\n",
    "    original = original.split()\n",
    "    result = result.split()\n",
    "    return levenshtein(original, result) / float(len(original))\n",
    "##\n",
    "#\n",
    "def wers(originals, results):\n",
    "    count = len(originals)\n",
    "    rates = []\n",
    "    mean = 0.0\n",
    "    assert count == len(results)\n",
    "    for i in range(count):\n",
    "        rate = wer(originals[i], results[i])\n",
    "        mean = mean + rate\n",
    "        rates.append(rate)\n",
    "    return rates, mean / float(count)\n",
    "##\n",
    "#\n",
    "# The following code is from: http://hetland.org/coding/python/levenshtein.py\n",
    "#\n",
    "# This is a straightforward implementation of a well-known algorithm, and thus\n",
    "# probably shouldn't be covered by copyright to begin with. But in case it is,\n",
    "# the author (Magnus Lie Hetland) has, to the extent possible under law,\n",
    "# dedicated all copyright and related and neighboring rights to this software\n",
    "# to the public domain worldwide, by distributing it under the CC0 license,\n",
    "# version 1.0. This software is distributed without any warranty. For more\n",
    "# information, see <http://creativecommons.org/publicdomain/zero/1.0>\n",
    "##\n",
    "#\n",
    "def levenshtein(a,b):\n",
    "    \"Calculates the Levenshtein distance between a and b.\"\n",
    "    n, m = len(a), len(b)\n",
    "    if n > m:\n",
    "        # Make sure n <= m, to use O(min(n,m)) space\n",
    "        a,b = b,a\n",
    "        n,m = m,n\n",
    "\n",
    "    current = list(range(n+1))\n",
    "    for i in range(1,m+1):\n",
    "        previous, current = current, [i]+[0]*n\n",
    "        for j in range(1,n+1):\n",
    "            add, delete = previous[j]+1, current[j-1]+1\n",
    "            change = previous[j-1]\n",
    "            if a[j-1] != b[i-1]:\n",
    "                change = change + 1\n",
    "            current[j] = min(add, delete, change)\n",
    "\n",
    "    return current[n]"
   ]
  },
  {
   "cell_type": "code",
   "execution_count": 5,
   "metadata": {},
   "outputs": [
    {
     "name": "stdout",
     "output_type": "stream",
     "text": [
      "orig=rohit is boy\t\topstr=rohit is boy\n",
      "levD = 0\tmean = 0.0\n",
      "orig=rohit is boy\t\topstr=mohit is boy\n",
      "levD = 1\tmean = 0.08333333333333333\n",
      "orig=rohit is boy\t\topstr=ro h it is toy\n",
      "levD = 4\tmean = 0.3333333333333333\n",
      "orig=rohit is boy\t\topstr=ro a it ist day\n",
      "levD = 5\tmean = 0.4166666666666667\n"
     ]
    }
   ],
   "source": [
    "## testing the lev dist func\n",
    "#\n",
    "orig = 'rohit is boy'\n",
    "opstr = 'rohit is boy'\n",
    "levD = levenshtein(orig.split(), opstr.split())\n",
    "print(f\"orig={orig}\\t\\topstr={opstr}\\nlevD = {levD}\\tmean = {levD / float(len(orig))}\")\n",
    "#\n",
    "orig = 'rohit is boy'\n",
    "opstr = 'mohit is boy'\n",
    "levD = levenshtein(orig.split(), opstr.split())\n",
    "print(f\"orig={orig}\\t\\topstr={opstr}\\nlevD = {levD}\\tmean = {levD / float(len(orig))}\")\n",
    "#\n",
    "orig = 'rohit is boy'\n",
    "opstr = 'ro h it is toy'\n",
    "levD = levenshtein(orig.split(), opstr.split())\n",
    "print(f\"orig={orig}\\t\\topstr={opstr}\\nlevD = {levD}\\tmean = {levD / float(len(orig))}\")\n",
    "#\n",
    "orig = 'rohit is boy'\n",
    "opstr = 'ro a it ist day'\n",
    "levD = levenshtein(orig.split(), opstr.split())\n",
    "print(f\"orig={orig}\\t\\topstr={opstr}\\nlevD = {levD}\\tmean = {levD / float(len(orig))}\")\n",
    "#"
   ]
  },
  {
   "cell_type": "code",
   "execution_count": 6,
   "metadata": {},
   "outputs": [
    {
     "name": "stdout",
     "output_type": "stream",
     "text": [
      "df shape = (3, 4)\n",
      "The columns are:\n",
      "['wavFileName', 'groundTruth_sent', 'baseline_NoLM_sent', 'baseline_YesLM_sent']\n"
     ]
    }
   ],
   "source": [
    "inFile = '/home/rohit/dpspTraining/data/modelComparisonJunkValues.csv'\n",
    "dfin = pd.read_csv(inFile)\n",
    "print(f\"df shape = {dfin.shape}\\nThe columns are:\\n{[col for col in dfin.columns]}\")"
   ]
  },
  {
   "cell_type": "code",
   "execution_count": 7,
   "metadata": {},
   "outputs": [
    {
     "data": {
      "text/html": [
       "<div>\n",
       "<style scoped>\n",
       "    .dataframe tbody tr th:only-of-type {\n",
       "        vertical-align: middle;\n",
       "    }\n",
       "\n",
       "    .dataframe tbody tr th {\n",
       "        vertical-align: top;\n",
       "    }\n",
       "\n",
       "    .dataframe thead th {\n",
       "        text-align: right;\n",
       "    }\n",
       "</style>\n",
       "<table border=\"1\" class=\"dataframe\">\n",
       "  <thead>\n",
       "    <tr style=\"text-align: right;\">\n",
       "      <th></th>\n",
       "      <th>wavFileName</th>\n",
       "      <th>groundTruth_sent</th>\n",
       "      <th>baseline_NoLM_sent</th>\n",
       "      <th>baseline_YesLM_sent</th>\n",
       "    </tr>\n",
       "  </thead>\n",
       "  <tbody>\n",
       "    <tr>\n",
       "      <th>0</th>\n",
       "      <td>f1.wav</td>\n",
       "      <td>hi my name is rohit</td>\n",
       "      <td>hia mi nam is e rohiat</td>\n",
       "      <td>hi my nae is roland</td>\n",
       "    </tr>\n",
       "    <tr>\n",
       "      <th>1</th>\n",
       "      <td>f2.wav</td>\n",
       "      <td>i work in heidelberg</td>\n",
       "      <td>ai wuk in hi dale bag</td>\n",
       "      <td>i work in heidelburg</td>\n",
       "    </tr>\n",
       "    <tr>\n",
       "      <th>2</th>\n",
       "      <td>f3.wav</td>\n",
       "      <td>john is learning about a uk visa from philip</td>\n",
       "      <td>joan es lurnin abuut ai euka isa forum flip</td>\n",
       "      <td>johan is learn about I eureka is a forum flipped</td>\n",
       "    </tr>\n",
       "  </tbody>\n",
       "</table>\n",
       "</div>"
      ],
      "text/plain": [
       "  wavFileName                              groundTruth_sent  \\\n",
       "0      f1.wav                           hi my name is rohit   \n",
       "1      f2.wav                          i work in heidelberg   \n",
       "2      f3.wav  john is learning about a uk visa from philip   \n",
       "\n",
       "                            baseline_NoLM_sent  \\\n",
       "0                       hia mi nam is e rohiat   \n",
       "1                        ai wuk in hi dale bag   \n",
       "2  joan es lurnin abuut ai euka isa forum flip   \n",
       "\n",
       "                                baseline_YesLM_sent  \n",
       "0                               hi my nae is roland  \n",
       "1                              i work in heidelburg  \n",
       "2  johan is learn about I eureka is a forum flipped  "
      ]
     },
     "execution_count": 7,
     "metadata": {},
     "output_type": "execute_result"
    }
   ],
   "source": [
    "dfin"
   ]
  },
  {
   "cell_type": "code",
   "execution_count": 8,
   "metadata": {},
   "outputs": [],
   "source": [
    "#\n",
    "## WER for Baseline No lm\n",
    "rates_base_Nolm, mean_base_Nolm = wers(dfin['groundTruth_sent'].to_list() , dfin['baseline_NoLM_sent'].to_list() )\n",
    "#\n",
    "## WER for Baseline WITH lm\n",
    "rates_base_Yeslm, mean_base_Yeslm = wers(dfin['groundTruth_sent'].to_list() , dfin['baseline_YesLM_sent'].to_list() )\n",
    "#"
   ]
  },
  {
   "cell_type": "code",
   "execution_count": 9,
   "metadata": {},
   "outputs": [
    {
     "name": "stdout",
     "output_type": "stream",
     "text": [
      "mean WER : Baseline No  lm = 1.0833333333333333\n",
      "mean WER : Baseline Yes lm = 0.512962962962963\n"
     ]
    }
   ],
   "source": [
    "print(f\"mean WER : Baseline No  lm = {mean_base_Nolm}\")\n",
    "print(f\"mean WER : Baseline Yes lm = {mean_base_Yeslm}\")"
   ]
  },
  {
   "cell_type": "code",
   "execution_count": 10,
   "metadata": {},
   "outputs": [
    {
     "data": {
      "text/plain": [
       "[1.0, 1.25, 1.0]"
      ]
     },
     "execution_count": 10,
     "metadata": {},
     "output_type": "execute_result"
    }
   ],
   "source": [
    "rates_base_Nolm"
   ]
  },
  {
   "cell_type": "code",
   "execution_count": 11,
   "metadata": {},
   "outputs": [
    {
     "data": {
      "text/plain": [
       "[0.4, 0.25, 0.8888888888888888]"
      ]
     },
     "execution_count": 11,
     "metadata": {},
     "output_type": "execute_result"
    }
   ],
   "source": [
    "rates_base_Yeslm"
   ]
  },
  {
   "cell_type": "code",
   "execution_count": null,
   "metadata": {},
   "outputs": [],
   "source": []
  }
 ],
 "metadata": {
  "kernelspec": {
   "display_name": "Python 3",
   "language": "python",
   "name": "python3"
  },
  "language_info": {
   "codemirror_mode": {
    "name": "ipython",
    "version": 3
   },
   "file_extension": ".py",
   "mimetype": "text/x-python",
   "name": "python",
   "nbconvert_exporter": "python",
   "pygments_lexer": "ipython3",
   "version": "3.6.9"
  }
 },
 "nbformat": 4,
 "nbformat_minor": 2
}
