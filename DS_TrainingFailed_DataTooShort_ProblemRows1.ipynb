{
 "cells": [
  {
   "cell_type": "code",
   "execution_count": 2,
   "metadata": {},
   "outputs": [],
   "source": [
    "##################\n",
    "#################\n",
    "## Training of Deepspeech for PDF2 failed in the TEST phase. The Train and Validation for 6 epochs had completed.\n",
    "##    Error was:\n",
    "##    tensorflow.python.framework.errors_impl.InvalidArgumentError: Data too short when trying to read string\n",
    "##\n",
    "## Found there were 6 entries in the Test file with only single character length for transcript column.\n",
    "##\n",
    "## Deleted those entries -- so now 1365 - 6 = 1359 data rows remain in our Test file.\n",
    "## Create a new test file and will be using it for the training.\n",
    "##"
   ]
  },
  {
   "cell_type": "code",
   "execution_count": 3,
   "metadata": {},
   "outputs": [],
   "source": [
    "import pandas as pd\n",
    "pd.set_option('max_columns', 500)\n",
    "pd.set_option('max_colwidth', -1)\n",
    "pd.set_option('max_rows', 500)"
   ]
  },
  {
   "cell_type": "code",
   "execution_count": 4,
   "metadata": {},
   "outputs": [],
   "source": [
    "inProblemFile = '/home/rohit/dpspTraining/data/wavFiles/domainSet2-pdf2_1_1050/csvFiles/3BSE069330_C_en_System_800xA_Solutions_Handbook.pdf_extracted_4_forDS_1_1050_TEST_PROBLEM_TooShortData.csv'\n",
    "dfProb = pd.read_csv( inProblemFile, sep=',', header=0, low_memory=False )"
   ]
  },
  {
   "cell_type": "code",
   "execution_count": 5,
   "metadata": {},
   "outputs": [
    {
     "data": {
      "text/plain": [
       "Index(['wav_filename', 'wav_filesize', 'transcript'], dtype='object')"
      ]
     },
     "execution_count": 5,
     "metadata": {},
     "output_type": "execute_result"
    }
   ],
   "source": [
    "dfProb.columns"
   ]
  },
  {
   "cell_type": "code",
   "execution_count": 6,
   "metadata": {},
   "outputs": [
    {
     "name": "stdout",
     "output_type": "stream",
     "text": [
      "(1365, 4)\n"
     ]
    }
   ],
   "source": [
    "dfProb['tranLen'] = dfProb['transcript'].apply(len)\n",
    "dfProbSorted = dfProb.sort_values(['tranLen'], ascending=True, inplace=False, na_position='first')\n",
    "print(dfProb.shape)"
   ]
  },
  {
   "cell_type": "code",
   "execution_count": 7,
   "metadata": {},
   "outputs": [
    {
     "data": {
      "text/html": [
       "<div>\n",
       "<style scoped>\n",
       "    .dataframe tbody tr th:only-of-type {\n",
       "        vertical-align: middle;\n",
       "    }\n",
       "\n",
       "    .dataframe tbody tr th {\n",
       "        vertical-align: top;\n",
       "    }\n",
       "\n",
       "    .dataframe thead th {\n",
       "        text-align: right;\n",
       "    }\n",
       "</style>\n",
       "<table border=\"1\" class=\"dataframe\">\n",
       "  <thead>\n",
       "    <tr style=\"text-align: right;\">\n",
       "      <th></th>\n",
       "      <th>transcript</th>\n",
       "      <th>tranLen</th>\n",
       "    </tr>\n",
       "  </thead>\n",
       "  <tbody>\n",
       "    <tr>\n",
       "      <td>0</td>\n",
       "      <td>virtualization presents one standard hardware type to all of the virtualized servers</td>\n",
       "      <td>84</td>\n",
       "    </tr>\n",
       "    <tr>\n",
       "      <td>1</td>\n",
       "      <td>electrical integration depends on the equipment supported protocol but iec six one eight five zero ethernet forwardslash ip and profibus could all prove useful</td>\n",
       "      <td>159</td>\n",
       "    </tr>\n",
       "    <tr>\n",
       "      <td>2</td>\n",
       "      <td>wirelesshartsystem eight zero zero xa extended automationthe power of integration continuedone supplier abbabb field key adapter together with system eight zero zero xa five</td>\n",
       "      <td>173</td>\n",
       "    </tr>\n",
       "    <tr>\n",
       "      <td>3</td>\n",
       "      <td>how an alarm is presented dictates how effectively it is handled</td>\n",
       "      <td>64</td>\n",
       "    </tr>\n",
       "    <tr>\n",
       "      <td>4</td>\n",
       "      <td>it will later require attention from the operator</td>\n",
       "      <td>49</td>\n",
       "    </tr>\n",
       "    <tr>\n",
       "      <td>5</td>\n",
       "      <td>cyber security</td>\n",
       "      <td>14</td>\n",
       "    </tr>\n",
       "    <tr>\n",
       "      <td>6</td>\n",
       "      <td>the process control system protects and controls low voltage switchgears motors and drives</td>\n",
       "      <td>90</td>\n",
       "    </tr>\n",
       "    <tr>\n",
       "      <td>7</td>\n",
       "      <td>spurious trip rate occurs as a result of a diagnosed failure within the safety system not from a process demand</td>\n",
       "      <td>111</td>\n",
       "    </tr>\n",
       "    <tr>\n",
       "      <td>8</td>\n",
       "      <td>alarm managementsystem eight zero zero xa extended automationthe power of integration continuedclient server role in alarm management system eight zero zero xa is based on a client server architecture which is especially advantageous when dealing with alarm management</td>\n",
       "      <td>268</td>\n",
       "    </tr>\n",
       "    <tr>\n",
       "      <td>9</td>\n",
       "      <td>only a set of pre approved and digitally protected applications are allowed to run</td>\n",
       "      <td>82</td>\n",
       "    </tr>\n",
       "    <tr>\n",
       "      <td>10</td>\n",
       "      <td>the trend is very clear consolidated centralized operations where fewer operators supervise and control larger process areas than before</td>\n",
       "      <td>136</td>\n",
       "    </tr>\n",
       "    <tr>\n",
       "      <td>11</td>\n",
       "      <td>one reason is that corrective and preventive maintenance strategies still dominate</td>\n",
       "      <td>82</td>\n",
       "    </tr>\n",
       "    <tr>\n",
       "      <td>12</td>\n",
       "      <td>high speed fiber networks also allow consolidating many individual network protocols onto a single glass fiber pair</td>\n",
       "      <td>115</td>\n",
       "    </tr>\n",
       "    <tr>\n",
       "      <td>13</td>\n",
       "      <td>one great example uses the distance covering features of fiber optic or wireless profibus dp to reach distant corners of a facility where the extremely short distance as i bus network may be required</td>\n",
       "      <td>199</td>\n",
       "    </tr>\n",
       "    <tr>\n",
       "      <td>14</td>\n",
       "      <td>this solution mainly uses vertical iec six one eight five zero communication</td>\n",
       "      <td>76</td>\n",
       "    </tr>\n",
       "  </tbody>\n",
       "</table>\n",
       "</div>"
      ],
      "text/plain": [
       "                                                                                                                                                                                                                                                                      transcript  \\\n",
       "0   virtualization presents one standard hardware type to all of the virtualized servers                                                                                                                                                                                           \n",
       "1   electrical integration depends on the equipment supported protocol but iec six one eight five zero ethernet forwardslash ip and profibus could all prove useful                                                                                                                \n",
       "2   wirelesshartsystem eight zero zero xa extended automationthe power of integration continuedone supplier abbabb field key adapter together with system eight zero zero xa five                                                                                                  \n",
       "3   how an alarm is presented dictates how effectively it is handled                                                                                                                                                                                                               \n",
       "4   it will later require attention from the operator                                                                                                                                                                                                                              \n",
       "5   cyber security                                                                                                                                                                                                                                                                 \n",
       "6   the process control system protects and controls low voltage switchgears motors and drives                                                                                                                                                                                     \n",
       "7   spurious trip rate occurs as a result of a diagnosed failure within the safety system not from a process demand                                                                                                                                                                \n",
       "8   alarm managementsystem eight zero zero xa extended automationthe power of integration continuedclient server role in alarm management system eight zero zero xa is based on a client server architecture which is especially advantageous when dealing with alarm management   \n",
       "9   only a set of pre approved and digitally protected applications are allowed to run                                                                                                                                                                                             \n",
       "10  the trend is very clear consolidated centralized operations where fewer operators supervise and control larger process areas than before                                                                                                                                       \n",
       "11  one reason is that corrective and preventive maintenance strategies still dominate                                                                                                                                                                                             \n",
       "12  high speed fiber networks also allow consolidating many individual network protocols onto a single glass fiber pair                                                                                                                                                            \n",
       "13  one great example uses the distance covering features of fiber optic or wireless profibus dp to reach distant corners of a facility where the extremely short distance as i bus network may be required                                                                        \n",
       "14  this solution mainly uses vertical iec six one eight five zero communication                                                                                                                                                                                                   \n",
       "\n",
       "    tranLen  \n",
       "0   84       \n",
       "1   159      \n",
       "2   173      \n",
       "3   64       \n",
       "4   49       \n",
       "5   14       \n",
       "6   90       \n",
       "7   111      \n",
       "8   268      \n",
       "9   82       \n",
       "10  136      \n",
       "11  82       \n",
       "12  115      \n",
       "13  199      \n",
       "14  76       "
      ]
     },
     "execution_count": 7,
     "metadata": {},
     "output_type": "execute_result"
    }
   ],
   "source": [
    "dfProb[['transcript', 'tranLen']].head(15)"
   ]
  },
  {
   "cell_type": "code",
   "execution_count": 8,
   "metadata": {},
   "outputs": [
    {
     "data": {
      "text/html": [
       "<div>\n",
       "<style scoped>\n",
       "    .dataframe tbody tr th:only-of-type {\n",
       "        vertical-align: middle;\n",
       "    }\n",
       "\n",
       "    .dataframe tbody tr th {\n",
       "        vertical-align: top;\n",
       "    }\n",
       "\n",
       "    .dataframe thead th {\n",
       "        text-align: right;\n",
       "    }\n",
       "</style>\n",
       "<table border=\"1\" class=\"dataframe\">\n",
       "  <thead>\n",
       "    <tr style=\"text-align: right;\">\n",
       "      <th></th>\n",
       "      <th>transcript</th>\n",
       "      <th>tranLen</th>\n",
       "    </tr>\n",
       "  </thead>\n",
       "  <tbody>\n",
       "    <tr>\n",
       "      <td>502</td>\n",
       "      <td>a</td>\n",
       "      <td>1</td>\n",
       "    </tr>\n",
       "    <tr>\n",
       "      <td>225</td>\n",
       "      <td>a</td>\n",
       "      <td>1</td>\n",
       "    </tr>\n",
       "    <tr>\n",
       "      <td>226</td>\n",
       "      <td>o</td>\n",
       "      <td>1</td>\n",
       "    </tr>\n",
       "    <tr>\n",
       "      <td>236</td>\n",
       "      <td>a</td>\n",
       "      <td>1</td>\n",
       "    </tr>\n",
       "    <tr>\n",
       "      <td>1044</td>\n",
       "      <td>o</td>\n",
       "      <td>1</td>\n",
       "    </tr>\n",
       "    <tr>\n",
       "      <td>277</td>\n",
       "      <td>c</td>\n",
       "      <td>1</td>\n",
       "    </tr>\n",
       "    <tr>\n",
       "      <td>51</td>\n",
       "      <td>eow x overview</td>\n",
       "      <td>14</td>\n",
       "    </tr>\n",
       "    <tr>\n",
       "      <td>5</td>\n",
       "      <td>cyber security</td>\n",
       "      <td>14</td>\n",
       "    </tr>\n",
       "    <tr>\n",
       "      <td>389</td>\n",
       "      <td>virtualization</td>\n",
       "      <td>14</td>\n",
       "    </tr>\n",
       "    <tr>\n",
       "      <td>177</td>\n",
       "      <td>alarm analysis</td>\n",
       "      <td>14</td>\n",
       "    </tr>\n",
       "    <tr>\n",
       "      <td>1185</td>\n",
       "      <td>cyber security</td>\n",
       "      <td>14</td>\n",
       "    </tr>\n",
       "    <tr>\n",
       "      <td>713</td>\n",
       "      <td>alarm analysis</td>\n",
       "      <td>14</td>\n",
       "    </tr>\n",
       "    <tr>\n",
       "      <td>678</td>\n",
       "      <td>too many alarms</td>\n",
       "      <td>15</td>\n",
       "    </tr>\n",
       "    <tr>\n",
       "      <td>109</td>\n",
       "      <td>too many alarms</td>\n",
       "      <td>15</td>\n",
       "    </tr>\n",
       "    <tr>\n",
       "      <td>750</td>\n",
       "      <td>up to sil three</td>\n",
       "      <td>15</td>\n",
       "    </tr>\n",
       "  </tbody>\n",
       "</table>\n",
       "</div>"
      ],
      "text/plain": [
       "           transcript  tranLen\n",
       "502   a                1      \n",
       "225   a                1      \n",
       "226   o                1      \n",
       "236   a                1      \n",
       "1044  o                1      \n",
       "277   c                1      \n",
       "51    eow x overview   14     \n",
       "5     cyber security   14     \n",
       "389   virtualization   14     \n",
       "177   alarm analysis   14     \n",
       "1185  cyber security   14     \n",
       "713   alarm analysis   14     \n",
       "678   too many alarms  15     \n",
       "109   too many alarms  15     \n",
       "750   up to sil three  15     "
      ]
     },
     "execution_count": 8,
     "metadata": {},
     "output_type": "execute_result"
    }
   ],
   "source": [
    "dfProbSorted[['transcript', 'tranLen']].head(15)"
   ]
  },
  {
   "cell_type": "code",
   "execution_count": 9,
   "metadata": {},
   "outputs": [],
   "source": [
    "##################\n",
    "#################\n",
    "## Delete the 6 rows from the Test file and write NEW TEST file."
   ]
  },
  {
   "cell_type": "code",
   "execution_count": 10,
   "metadata": {},
   "outputs": [
    {
     "data": {
      "text/html": [
       "<div>\n",
       "<style scoped>\n",
       "    .dataframe tbody tr th:only-of-type {\n",
       "        vertical-align: middle;\n",
       "    }\n",
       "\n",
       "    .dataframe tbody tr th {\n",
       "        vertical-align: top;\n",
       "    }\n",
       "\n",
       "    .dataframe thead th {\n",
       "        text-align: right;\n",
       "    }\n",
       "</style>\n",
       "<table border=\"1\" class=\"dataframe\">\n",
       "  <thead>\n",
       "    <tr style=\"text-align: right;\">\n",
       "      <th></th>\n",
       "      <th>wav_filename</th>\n",
       "      <th>wav_filesize</th>\n",
       "      <th>transcript</th>\n",
       "      <th>tranLen</th>\n",
       "    </tr>\n",
       "  </thead>\n",
       "  <tbody>\n",
       "    <tr>\n",
       "      <td>225</td>\n",
       "      <td>/home/rohit/dpspTraining/data/wavFiles/azure1/pdfExtraction/PDF2/workerLogic_401_800_5200wavs/convertedWavs_401_800_5200wavs/azureSTT_415_en-US-JessaRUS_20191211-144747.wav</td>\n",
       "      <td>28722</td>\n",
       "      <td>a</td>\n",
       "      <td>1</td>\n",
       "    </tr>\n",
       "    <tr>\n",
       "      <td>226</td>\n",
       "      <td>/home/rohit/dpspTraining/data/wavFiles/azure1/pdfExtraction/PDF2/workerLogic_401_800_5200wavs/convertedWavs_401_800_5200wavs/azureSTT_414_en-IN-Heera-Apollo_20191211-144733.wav</td>\n",
       "      <td>27740</td>\n",
       "      <td>o</td>\n",
       "      <td>1</td>\n",
       "    </tr>\n",
       "    <tr>\n",
       "      <td>236</td>\n",
       "      <td>/home/rohit/dpspTraining/data/wavFiles/azure1/pdfExtraction/PDF2/workerLogic_401_800_5200wavs/convertedWavs_401_800_5200wavs/azureSTT_415_en-CA-HeatherRUS_20191211-144745.wav</td>\n",
       "      <td>32046</td>\n",
       "      <td>a</td>\n",
       "      <td>1</td>\n",
       "    </tr>\n",
       "    <tr>\n",
       "      <td>277</td>\n",
       "      <td>/home/rohit/dpspTraining/data/wavFiles/azure1/pdfExtraction/PDF2/workerLogic_801_1178_4914wavs/convertedWavs_801_1178_4914wavs/azureSTT_876_en-AU-Catherine_20191211-151009.wav</td>\n",
       "      <td>49850</td>\n",
       "      <td>c</td>\n",
       "      <td>1</td>\n",
       "    </tr>\n",
       "    <tr>\n",
       "      <td>502</td>\n",
       "      <td>/home/rohit/dpspTraining/data/wavFiles/azure1/pdfExtraction/PDF2/workerLogic_401_800_5200wavs/convertedWavs_401_800_5200wavs/azureSTT_415_en-GB-HazelRUS_20191211-144746.wav</td>\n",
       "      <td>8242</td>\n",
       "      <td>a</td>\n",
       "      <td>1</td>\n",
       "    </tr>\n",
       "    <tr>\n",
       "      <td>1044</td>\n",
       "      <td>/home/rohit/dpspTraining/data/wavFiles/azure1/pdfExtraction/PDF2/workerLogic_401_800_5200wavs/convertedWavs_401_800_5200wavs/azureSTT_414_en-US-ZiraRUS_20191211-144744.wav</td>\n",
       "      <td>32284</td>\n",
       "      <td>o</td>\n",
       "      <td>1</td>\n",
       "    </tr>\n",
       "  </tbody>\n",
       "</table>\n",
       "</div>"
      ],
      "text/plain": [
       "                                                                                                                                                                          wav_filename  \\\n",
       "225   /home/rohit/dpspTraining/data/wavFiles/azure1/pdfExtraction/PDF2/workerLogic_401_800_5200wavs/convertedWavs_401_800_5200wavs/azureSTT_415_en-US-JessaRUS_20191211-144747.wav       \n",
       "226   /home/rohit/dpspTraining/data/wavFiles/azure1/pdfExtraction/PDF2/workerLogic_401_800_5200wavs/convertedWavs_401_800_5200wavs/azureSTT_414_en-IN-Heera-Apollo_20191211-144733.wav   \n",
       "236   /home/rohit/dpspTraining/data/wavFiles/azure1/pdfExtraction/PDF2/workerLogic_401_800_5200wavs/convertedWavs_401_800_5200wavs/azureSTT_415_en-CA-HeatherRUS_20191211-144745.wav     \n",
       "277   /home/rohit/dpspTraining/data/wavFiles/azure1/pdfExtraction/PDF2/workerLogic_801_1178_4914wavs/convertedWavs_801_1178_4914wavs/azureSTT_876_en-AU-Catherine_20191211-151009.wav    \n",
       "502   /home/rohit/dpspTraining/data/wavFiles/azure1/pdfExtraction/PDF2/workerLogic_401_800_5200wavs/convertedWavs_401_800_5200wavs/azureSTT_415_en-GB-HazelRUS_20191211-144746.wav       \n",
       "1044  /home/rohit/dpspTraining/data/wavFiles/azure1/pdfExtraction/PDF2/workerLogic_401_800_5200wavs/convertedWavs_401_800_5200wavs/azureSTT_414_en-US-ZiraRUS_20191211-144744.wav        \n",
       "\n",
       "      wav_filesize transcript  tranLen  \n",
       "225   28722         a          1        \n",
       "226   27740         o          1        \n",
       "236   32046         a          1        \n",
       "277   49850         c          1        \n",
       "502   8242          a          1        \n",
       "1044  32284         o          1        "
      ]
     },
     "execution_count": 10,
     "metadata": {},
     "output_type": "execute_result"
    }
   ],
   "source": [
    "## the invalid rows\n",
    "dfProb[dfProb['tranLen'] < 2]"
   ]
  },
  {
   "cell_type": "code",
   "execution_count": 11,
   "metadata": {},
   "outputs": [
    {
     "data": {
      "text/plain": [
       "(1359, 4)"
      ]
     },
     "execution_count": 11,
     "metadata": {},
     "output_type": "execute_result"
    }
   ],
   "source": [
    "dfCorrected = dfProb[dfProb['tranLen'] > 1].copy()\n",
    "dfCorrected.shape"
   ]
  },
  {
   "cell_type": "code",
   "execution_count": 12,
   "metadata": {},
   "outputs": [
    {
     "data": {
      "text/html": [
       "<div>\n",
       "<style scoped>\n",
       "    .dataframe tbody tr th:only-of-type {\n",
       "        vertical-align: middle;\n",
       "    }\n",
       "\n",
       "    .dataframe tbody tr th {\n",
       "        vertical-align: top;\n",
       "    }\n",
       "\n",
       "    .dataframe thead th {\n",
       "        text-align: right;\n",
       "    }\n",
       "</style>\n",
       "<table border=\"1\" class=\"dataframe\">\n",
       "  <thead>\n",
       "    <tr style=\"text-align: right;\">\n",
       "      <th></th>\n",
       "      <th>wav_filename</th>\n",
       "      <th>wav_filesize</th>\n",
       "      <th>transcript</th>\n",
       "      <th>tranLen</th>\n",
       "    </tr>\n",
       "  </thead>\n",
       "  <tbody>\n",
       "  </tbody>\n",
       "</table>\n",
       "</div>"
      ],
      "text/plain": [
       "Empty DataFrame\n",
       "Columns: [wav_filename, wav_filesize, transcript, tranLen]\n",
       "Index: []"
      ]
     },
     "execution_count": 12,
     "metadata": {},
     "output_type": "execute_result"
    }
   ],
   "source": [
    "## no invalid rows now\n",
    "dfCorrected[dfCorrected['tranLen'] < 2]"
   ]
  },
  {
   "cell_type": "code",
   "execution_count": 13,
   "metadata": {},
   "outputs": [
    {
     "data": {
      "text/plain": [
       "Index(['wav_filename', 'wav_filesize', 'transcript', 'tranLen'], dtype='object')"
      ]
     },
     "execution_count": 13,
     "metadata": {},
     "output_type": "execute_result"
    }
   ],
   "source": [
    "dfCorrected.columns"
   ]
  },
  {
   "cell_type": "code",
   "execution_count": 14,
   "metadata": {},
   "outputs": [
    {
     "data": {
      "text/plain": [
       "Index(['wav_filename', 'wav_filesize', 'transcript'], dtype='object')"
      ]
     },
     "execution_count": 14,
     "metadata": {},
     "output_type": "execute_result"
    }
   ],
   "source": [
    "dfCorrected = dfCorrected.drop(columns=['tranLen'])\n",
    "dfCorrected.columns"
   ]
  },
  {
   "cell_type": "code",
   "execution_count": 15,
   "metadata": {},
   "outputs": [],
   "source": [
    "opFile = '/home/rohit/dpspTraining/data/wavFiles/domainSet2-pdf2_1_1050/csvFiles/3BSE069330_C_en_System_800xA_Solutions_Handbook.pdf_extracted_4_forDS_1_1050_TEST_FIXED_TooShortData.csv'\n",
    "dfCorrected.to_csv(opFile, index=False)"
   ]
  },
  {
   "cell_type": "code",
   "execution_count": null,
   "metadata": {},
   "outputs": [],
   "source": []
  }
 ],
 "metadata": {
  "kernelspec": {
   "display_name": "Python 3",
   "language": "python",
   "name": "python3"
  },
  "language_info": {
   "codemirror_mode": {
    "name": "ipython",
    "version": 3
   },
   "file_extension": ".py",
   "mimetype": "text/x-python",
   "name": "python",
   "nbconvert_exporter": "python",
   "pygments_lexer": "ipython3",
   "version": "3.6.9"
  }
 },
 "nbformat": 4,
 "nbformat_minor": 2
}
