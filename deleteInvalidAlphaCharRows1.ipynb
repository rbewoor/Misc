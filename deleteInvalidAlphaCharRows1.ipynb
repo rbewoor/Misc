{
 "cells": [
  {
   "cell_type": "code",
   "execution_count": 1,
   "metadata": {},
   "outputs": [],
   "source": [
    "#############################################################\n",
    "#############################################################\n",
    "###  Check that the sentences contain only valid characters.\n",
    "###  and delete invalid sentences.\n",
    "###\n",
    "###  Valid characters are specified as a string and be used\n",
    "###      in a regex check.\n",
    "#############################################################\n",
    "#############################################################"
   ]
  },
  {
   "cell_type": "code",
   "execution_count": 2,
   "metadata": {},
   "outputs": [],
   "source": [
    "import pandas as pd\n",
    "import numpy as np\n",
    "import re\n",
    "import os\n",
    "import logging"
   ]
  },
  {
   "cell_type": "code",
   "execution_count": 3,
   "metadata": {
    "scrolled": false
   },
   "outputs": [
    {
     "name": "stdout",
     "output_type": "stream",
     "text": [
      "\n",
      "No. of Rows in input File = 12220\n",
      "dfIn.shape = (12220, 3)\n",
      "\n",
      "\n",
      "Valid characters specified = \n",
      "abcdefghijklmnopqrstuvwxyz' \n",
      "\n",
      "Count of Invalid Rows = 234\n",
      "Count of Valid   Rows = 11986\n",
      "\n",
      "\n",
      "No. of rows written to output file = 11986\n",
      "\n",
      "Output file =\n",
      "/home/rohit/dpspTraining/data/wavFiles/domainSet1-pdf1_1_950/System_800xA_Summary.pdf_extractedText_4_forDS_1_950_OUT.csv\n",
      "Input file =\n",
      "/home/rohit/dpspTraining/data/wavFiles/domainSet1-pdf1_1_950/System_800xA_Summary.pdf_extractedText_4_forDS_1_950.csv\n",
      "\n",
      "\n",
      "\n",
      "Normal exit.\n"
     ]
    }
   ],
   "source": [
    "logFilenameWithPath = '/home/rohit/dpspTraining/data/wavFiles/domainSet1-pdf1_1_950/LOG_deleteInvalidAlphaCharRows1.log'\n",
    "logging.basicConfig(level=logging.WARNING, filename=logFilenameWithPath,                      \\\n",
    "    filemode='w', format='%(asctime)s : %(message)s')\n",
    "#\n",
    "inFile = '/home/rohit/dpspTraining/data/wavFiles/domainSet1-pdf1_1_950/System_800xA_Summary.pdf_extractedText_4_forDS_1_950.csv'\n",
    "outFile = '/home/rohit/dpspTraining/data/wavFiles/domainSet1-pdf1_1_950/System_800xA_Summary.pdf_extractedText_4_forDS_1_950_OUT.csv'\n",
    "#\n",
    "## specify the column to check\n",
    "colToCheck = 'transcript'\n",
    "#\n",
    "dfIn = pd.read_csv( inFile, sep=',', header = 0, dtype=str, keep_default_na=False, low_memory=False )\n",
    "#\n",
    "myStr = f'\\nNo. of Rows in input File = {dfIn.shape[0]}\\ndfIn.shape = {dfIn.shape}\\n'\n",
    "print(f\"{myStr}\")\n",
    "logging.warning(f\"{myStr}\")\n",
    "#\n",
    "## write ALL the valid characters once in the square brackets\n",
    "##       this has the lower case alphas, apostrophe and space\n",
    "validCharsString = r'''abcdefghijklmnopqrstuvwxyz' '''\n",
    "#\n",
    "print(f\"\\nValid characters specified = \\n{validCharsString}\")\n",
    "logging.warning(f\"\\nValid characters specified = \\n{validCharsString}\")\n",
    "#\n",
    "validCharsStringRegex = r\"^[\" + validCharsString + r\"]+$\"\n",
    "#\n",
    "validRowsPos = dfIn[colToCheck].str.match(validCharsStringRegex)\n",
    "invalidRowsPos = ~validRowsPos\n",
    "countInvalidRows = invalidRowsPos[invalidRowsPos == True].count()\n",
    "countValidRows = validRowsPos[validRowsPos == True].count()\n",
    "#\n",
    "myStr = f\"\\n\" + \\\n",
    "f\"Count of Invalid Rows = {countInvalidRows}\\n\" + \\\n",
    "f\"Count of Valid   Rows = {countValidRows}\"   + \\\n",
    "f\"\\n\"\n",
    "print(f\"{myStr}\")\n",
    "logging.warning(f\"{myStr}\")\n",
    "#\n",
    "dfOut = dfIn.loc[validRowsPos]\n",
    "dfOut.to_csv(outFile, index=False)\n",
    "#\n",
    "myStr = f\"\\nNo. of rows written to output file = {len(dfOut)}\\n\\nOutput file =\\n{outFile}\\nInput file =\\n{inFile}\\n\"\n",
    "print(f\"{myStr}\")\n",
    "logging.warning(f\"{myStr}\")\n",
    "#\n",
    "print(f\"\\n\\nNormal exit.\")\n",
    "logging.warning(f\"\\n\\nNormal exit.\")"
   ]
  },
  {
   "cell_type": "code",
   "execution_count": null,
   "metadata": {},
   "outputs": [],
   "source": []
  }
 ],
 "metadata": {
  "kernelspec": {
   "display_name": "Python 3",
   "language": "python",
   "name": "python3"
  },
  "language_info": {
   "codemirror_mode": {
    "name": "ipython",
    "version": 3
   },
   "file_extension": ".py",
   "mimetype": "text/x-python",
   "name": "python",
   "nbconvert_exporter": "python",
   "pygments_lexer": "ipython3",
   "version": "3.6.9"
  }
 },
 "nbformat": 4,
 "nbformat_minor": 2
}
