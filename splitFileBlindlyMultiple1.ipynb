{
 "cells": [
  {
   "cell_type": "code",
   "execution_count": null,
   "metadata": {},
   "outputs": [],
   "source": [
    "#############"
   ]
  },
  {
   "cell_type": "code",
   "execution_count": 1,
   "metadata": {},
   "outputs": [
    {
     "name": "stdout",
     "output_type": "stream",
     "text": [
      "1 = /with/path/filewithext.txt\n",
      "PATH = /with/path\n",
      "file with ext = filewithext.txt\n",
      "file without ext = filewithext\n",
      "extension = .txt\n",
      "\n",
      "2 = /with/path/filenoext\n",
      "PATH = /with/path\n",
      "file with ext = filenoext\n",
      "file without ext = filenoext\n",
      "extension = \n",
      "\n",
      "3 = /only/path/nofile/\n",
      "PATH = /only/path/nofile\n",
      "file with ext = \n",
      "file without ext = \n",
      "extension = \n",
      "\n",
      "4 = onlyfilewithext.txt\n",
      "PATH = \n",
      "file with ext = onlyfilewithext.txt\n",
      "file without ext = onlyfilewithext\n",
      "extension = .txt\n",
      "\n",
      "5 = onlyfilenoext\n",
      "PATH = \n",
      "file with ext = onlyfilenoext\n",
      "file without ext = onlyfilenoext\n",
      "extension = \n",
      "\n",
      "6 = .txt\n",
      "PATH = \n",
      "file with ext = .txt\n",
      "file without ext = .txt\n",
      "extension = \n",
      "\n",
      "7 = /\n",
      "PATH = /\n",
      "file with ext = \n",
      "file without ext = \n",
      "extension = \n",
      "\n",
      "8 = \n",
      "PATH = \n",
      "file with ext = \n",
      "file without ext = \n",
      "extension = \n",
      "\n"
     ]
    }
   ],
   "source": [
    "import os\n",
    "#\n",
    "list1 = ['/with/path/filewithext.txt', '/with/path/filenoext', '/only/path/nofile/',\n",
    "        'onlyfilewithext.txt', 'onlyfilenoext', '.txt', '/', '']\n",
    "#\n",
    "for i, inp in enumerate(list1):\n",
    "    fPath, fileWE = os.path.split(inp)\n",
    "    fileWOE, fExt = os.path.splitext(fileWE)\n",
    "    #if fPath != '':\n",
    "    #    fPath += r'/'\n",
    "    print(f\"{i+1} = {inp}\\nPATH = {fPath}\\nfile with ext = {fileWE}\")\n",
    "    print(f\"file without ext = {fileWOE}\\nextension = {fExt}\\n\")"
   ]
  },
  {
   "cell_type": "code",
   "execution_count": 2,
   "metadata": {},
   "outputs": [],
   "source": [
    "#############"
   ]
  },
  {
   "cell_type": "code",
   "execution_count": 3,
   "metadata": {},
   "outputs": [],
   "source": [
    "#############"
   ]
  },
  {
   "cell_type": "code",
   "execution_count": 4,
   "metadata": {},
   "outputs": [],
   "source": [
    "#######################################################################################\n",
    "###\n",
    "###  Script to split on input CSV file into equal sized output files.\n",
    "###  Will ouput necessary number of files in same location as input file.\n",
    "###  Each output file appended with the row number start to end.\n",
    "###     E.g. input file has 1000 rows and the number of rows specified = 300.\n",
    "###          4 output files with names as:\n",
    "###            file_1_300, file_301_600, file_601_900, file_901_1000\n",
    "###\n",
    "###  Expects exactly 5 Command line arguments (including the script name) for both cases.\n",
    "###\n",
    "###  0)  ScriptName.py\n",
    "###  1)  Absolute path and name of the input file\n",
    "###  2)  Number of rows in each output file\n",
    "###  3)  Indicate whether Header is present or not: H => Header is present, NH => No header present\n",
    "###  4)  Log file name with path\n",
    "###\n",
    "###  Usage example with position numbers indicated:\n",
    "###                        0                          1                           2                   3                        4\n",
    "###  python </script/path/programName.py> <path/with/inputFilename.csv> <rows per output file> <H or NH> </path/for/logFile/logFileName.log>\n",
    "###\n",
    "###  example:\n",
    "###  python </script/path/programName.py> <path/with/inputFilename.csv> 100 <H or NH> </path/for/logFile/logFileName.log>\n",
    "###\n",
    "#######################################################################################\n",
    "#\n",
    "#import logging\n",
    "import csv\n",
    "import sys\n",
    "import os\n",
    "import pandas as pd\n",
    "#\n",
    "### ----------------- FUNCTIONs AND CLASS DEFINITIONS START ------------- ###\n",
    "####\n",
    "### ----------------- FUNCTIONs AND CLASS DEFINITIONS  END  ------------- ###\n",
    "###\n",
    "### ------------------- MAIN LOGIC STARTS HERE  -------------- ###\n",
    "#\n",
    "#print(f\"\\n\\n\")\n",
    "#"
   ]
  },
  {
   "cell_type": "code",
   "execution_count": 5,
   "metadata": {},
   "outputs": [],
   "source": [
    "inFileWithPath= '/home/rohit/dpspTraining/data/domainSet_1_20-260total/splitBlindly/testFile2Split_yesHeader.txt'\n",
    "#inFileWithPath= '/home/rohit/dpspTraining/data/domainSet_1_20-260total/splitBlindly/testFile2Split_noHeader.txt'\n",
    "numRowsPerOpFile= 3\n",
    "#headerIndicator= 'H'\n",
    "headerIndicator= 'NH'\n",
    "#logFileWithPath= '/home/rohit/dpspTraining/data/domainSet_1_20-260total/splitBlindly/LOG_splitFileBlindlyMultple1.log'"
   ]
  },
  {
   "cell_type": "code",
   "execution_count": 6,
   "metadata": {},
   "outputs": [],
   "source": [
    "#\n",
    "## extract the path, only filename and the extension for use later\n",
    "inFilePath, inFileWithExt = os.path.split(inFileWithPath)\n",
    "inFilenameOnlyWithoutExt, InFileExt = os.path.splitext(inFileWithExt)\n",
    "if inFilePath != '':\n",
    "    inFilePath += r'/'\n",
    "#"
   ]
  },
  {
   "cell_type": "code",
   "execution_count": 7,
   "metadata": {},
   "outputs": [
    {
     "name": "stdout",
     "output_type": "stream",
     "text": [
      "Input = /home/rohit/dpspTraining/data/domainSet_1_20-260total/splitBlindly/testFile2Split_yesHeader.txt\n",
      "PATH = /home/rohit/dpspTraining/data/domainSet_1_20-260total/splitBlindly/\n",
      "file with ext = testFile2Split_yesHeader.txt\n",
      "file without ext = testFile2Split_yesHeader\n",
      "extension = .txt\n",
      "\n"
     ]
    }
   ],
   "source": [
    "print(f\"Input = {inFileWithPath}\\nPATH = {inFilePath}\\nfile with ext = {inFileWithExt}\")\n",
    "print(f\"file without ext = {inFilenameOnlyWithoutExt}\\nextension = {InFileExt}\\n\")"
   ]
  },
  {
   "cell_type": "code",
   "execution_count": 8,
   "metadata": {},
   "outputs": [
    {
     "name": "stdout",
     "output_type": "stream",
     "text": [
      "11\n"
     ]
    }
   ],
   "source": [
    "#\n",
    "countDataLinesInInputFile = 0\n",
    "#\n",
    "## not using pandas read_csv as want to handle any kind of file and separator unknown\n",
    "with open(inFileWithPath, 'r') as inF:\n",
    "    for line in inF:\n",
    "        countDataLinesInInputFile += 1\n",
    "#\n",
    "if headerIndicator.lower() == 'h':\n",
    "    headerPresent = True\n",
    "    countDataLinesInInputFile -= 1\n",
    "else:\n",
    "    headerPresent = False\n",
    "#\n",
    "print(countDataLinesInInputFile)"
   ]
  },
  {
   "cell_type": "code",
   "execution_count": 9,
   "metadata": {},
   "outputs": [
    {
     "name": "stdout",
     "output_type": "stream",
     "text": [
      "\n",
      "Number of lines in input file = 11\n",
      "\n",
      "\n",
      "Number of output files required = 4\n"
     ]
    }
   ],
   "source": [
    "#\n",
    "print(f\"\\nNumber of lines in input file = {countDataLinesInInputFile}\\n\")\n",
    "#\n",
    "## calculate how many files will be output\n",
    "if countDataLinesInInputFile % numRowsPerOpFile == 0:\n",
    "    numOpFilesRequired = int( countDataLinesInInputFile / numRowsPerOpFile)\n",
    "else:\n",
    "    numOpFilesRequired = int( countDataLinesInInputFile / numRowsPerOpFile) + 1\n",
    "print(f\"\\nNumber of output files required = {numOpFilesRequired}\")\n",
    "#"
   ]
  },
  {
   "cell_type": "code",
   "execution_count": 10,
   "metadata": {},
   "outputs": [],
   "source": [
    "## make list of output filenames -- filename, startRowPosition, endRowPosition\n",
    "opFilenamesAndRowsList = []\n",
    "for i in range(numOpFilesRequired):\n",
    "    listValues = []\n",
    "    startRowPos = int( i * numRowsPerOpFile + 1 )\n",
    "    if i == numOpFilesRequired - 1:\n",
    "        ## this is for the last file to be created\n",
    "        endRowPos = countDataLinesInInputFile\n",
    "    else:\n",
    "        endRowPos = int( (i+1) * numRowsPerOpFile )\n",
    "    listValues.append( inFilePath + inFilenameOnlyWithoutExt + '_' + str(startRowPos) + '_' + str(endRowPos) + InFileExt )\n",
    "    listValues.append(startRowPos)\n",
    "    listValues.append(endRowPos)\n",
    "    opFilenamesAndRowsList.append(listValues)\n",
    "#"
   ]
  },
  {
   "cell_type": "code",
   "execution_count": 11,
   "metadata": {},
   "outputs": [
    {
     "data": {
      "text/plain": [
       "[['/home/rohit/dpspTraining/data/domainSet_1_20-260total/splitBlindly/testFile2Split_yesHeader_1_3.txt',\n",
       "  1,\n",
       "  3],\n",
       " ['/home/rohit/dpspTraining/data/domainSet_1_20-260total/splitBlindly/testFile2Split_yesHeader_4_6.txt',\n",
       "  4,\n",
       "  6],\n",
       " ['/home/rohit/dpspTraining/data/domainSet_1_20-260total/splitBlindly/testFile2Split_yesHeader_7_9.txt',\n",
       "  7,\n",
       "  9],\n",
       " ['/home/rohit/dpspTraining/data/domainSet_1_20-260total/splitBlindly/testFile2Split_yesHeader_10_11.txt',\n",
       "  10,\n",
       "  11]]"
      ]
     },
     "execution_count": 11,
     "metadata": {},
     "output_type": "execute_result"
    }
   ],
   "source": [
    "opFilenamesAndRowsList"
   ]
  },
  {
   "cell_type": "code",
   "execution_count": 12,
   "metadata": {},
   "outputs": [],
   "source": [
    "## https://realpython.com/read-write-files-python/\n",
    "with open(inFileWithPath, 'r') as inF:\n",
    "    ## save the header if required\n",
    "    if headerPresent:\n",
    "        headerLineData = inF.readline()\n",
    "    for currOpFile, startPos, endPos in opFilenamesAndRowsList:\n",
    "        with open(currOpFile, 'w') as currOutF:\n",
    "            if headerPresent:\n",
    "                currOutF.write( headerLineData )\n",
    "            for _ in range( endPos - startPos + 1 ):\n",
    "                currOutF.write( inF.readline() )\n",
    "        #\n",
    "    #\n",
    "#"
   ]
  },
  {
   "cell_type": "code",
   "execution_count": 13,
   "metadata": {},
   "outputs": [
    {
     "name": "stdout",
     "output_type": "stream",
     "text": [
      "\n",
      "\n",
      " ########## SUMMARY ########## SUMMARY ########## SUMMARY #########\n",
      "\n",
      "Input file  =\n",
      "\t/home/rohit/dpspTraining/data/domainSet_1_20-260total/splitBlindly/testFile2Split_yesHeader.txt\n",
      "\n",
      "Input file treated as WITHOUT HEADER.\n",
      "Number of lines in input file = 11\n",
      "No. of output files = 4\n",
      "\n",
      "Output Files are:::\n",
      "\tFile 1 with 3 data rows =  /home/rohit/dpspTraining/data/domainSet_1_20-260total/splitBlindly/testFile2Split_yesHeader_1_3.txt\n",
      "\tFile 2 with 3 data rows =  /home/rohit/dpspTraining/data/domainSet_1_20-260total/splitBlindly/testFile2Split_yesHeader_4_6.txt\n",
      "\tFile 3 with 3 data rows =  /home/rohit/dpspTraining/data/domainSet_1_20-260total/splitBlindly/testFile2Split_yesHeader_7_9.txt\n",
      "\tFile 4 with 2 data rows =  /home/rohit/dpspTraining/data/domainSet_1_20-260total/splitBlindly/testFile2Split_yesHeader_10_11.txt\n",
      "\n",
      "\n",
      "Normal Exit\n"
     ]
    }
   ],
   "source": [
    "#\n",
    "# Print the summary info\n",
    "#\n",
    "myStr = f\"\\n\\n\" + f\" ########## SUMMARY\" * 3 + f\" #########\\n\"\n",
    "myStr += f\"\\nInput file  =\\n\\t{inFileWithPath}\\n\\nInput file treated as {'WITH HEADER' if headerPresent else 'WITHOUT HEADER'}.\"\n",
    "myStr += f\"\\nNumber of lines in input file = {countDataLinesInInputFile}\"\n",
    "myStr += f\"\\nNo. of output files = {numOpFilesRequired}\"\n",
    "myStr += f\"\\n\\nOutput Files are:::\"\n",
    "print(f\"{myStr}\")\n",
    "for i, (opFile, startPos, endPos) in enumerate(opFilenamesAndRowsList):\n",
    "    myStr = f\"\\tFile {i+1} with {endPos - startPos + 1} data rows =  {opFile}\"\n",
    "    print(f\"{myStr}\")\n",
    "#\n",
    "print(f\"\\n\\nNormal Exit\")"
   ]
  },
  {
   "cell_type": "code",
   "execution_count": null,
   "metadata": {},
   "outputs": [],
   "source": []
  },
  {
   "cell_type": "code",
   "execution_count": null,
   "metadata": {},
   "outputs": [],
   "source": []
  }
 ],
 "metadata": {
  "kernelspec": {
   "display_name": "Python 3",
   "language": "python",
   "name": "python3"
  },
  "language_info": {
   "codemirror_mode": {
    "name": "ipython",
    "version": 3
   },
   "file_extension": ".py",
   "mimetype": "text/x-python",
   "name": "python",
   "nbconvert_exporter": "python",
   "pygments_lexer": "ipython3",
   "version": "3.6.9"
  }
 },
 "nbformat": 4,
 "nbformat_minor": 2
}
