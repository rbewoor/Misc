{
 "cells": [
  {
   "cell_type": "code",
   "execution_count": 1,
   "metadata": {},
   "outputs": [],
   "source": [
    "#############################################################\n",
    "#############################################################\n",
    "###  Concatenate the input files, remove duplicates,\n",
    "###  and write output file.\n",
    "###\n",
    "###  For Deespeech - use to merge different vocabular files.\n",
    "#############################################################\n",
    "#############################################################"
   ]
  },
  {
   "cell_type": "code",
   "execution_count": 2,
   "metadata": {},
   "outputs": [],
   "source": [
    "import pandas as pd\n",
    "import os \n",
    "import logging"
   ]
  },
  {
   "cell_type": "code",
   "execution_count": 3,
   "metadata": {
    "scrolled": false
   },
   "outputs": [
    {
     "name": "stdout",
     "output_type": "stream",
     "text": [
      "\n",
      "Going to concatenate following files =\n",
      "File 1 ::: /home/rohit/dpspTraining/data/vocabDirTEST/vocabFullValidated625733.txt\n",
      "File 2 ::: /home/rohit/dpspTraining/data/vocabDirTEST/vocabFullValidated625733COPY.txt\n",
      "\n",
      "\n",
      "\n",
      "File 1 lines before deduplication =\t625733\n",
      "File 1 lines after deduplication =\t83080\n",
      "File 2 lines before deduplication =\t625733\n",
      "File 2 lines after deduplication =\t83080\n",
      "\n",
      "Read in all files, removed duplicates in each, then concatenated contents.\n",
      "\n",
      "\n",
      "Output Dataframe: Total lines before deduplication =\t166160\n",
      "\n",
      "Output File: Total lines after deduplication =\t83080\n",
      "\n",
      "\n",
      "Normal exit.\n"
     ]
    }
   ],
   "source": [
    "logFilenameWithPath = '/home/rohit/dpspTraining/data/vocabDirTEST/LOG_concatFilesRemoveDuplicates2.log'\n",
    "logging.basicConfig(level=logging.WARNING, filename=logFilenameWithPath,                      \\\n",
    "    filemode='w', format='%(asctime)s : %(message)s')\n",
    "#\n",
    "inFilesList = [ r'/home/rohit/dpspTraining/data/vocabDirTEST/vocabFullValidated625733.txt',\n",
    "           r'/home/rohit/dpspTraining/data/vocabDirTEST/vocabFullValidated625733COPY.txt', ]\n",
    "outFile = r'/home/rohit/dpspTraining/data/vocabDirTEST/vocab_combined.txt'\n",
    "#\n",
    "## change this to indicate if there is a header or not\n",
    "headerInFilesFlag = False\n",
    "#\n",
    "myStr = f\"\\nGoing to concatenate following files =\"\n",
    "for fileNum, inFile in enumerate(inFilesList):\n",
    "    myStr += f\"\\nFile {fileNum + 1} ::: {inFile}\"\n",
    "print(f\"{myStr}\")\n",
    "logging.warning(f\"{myStr}\")\n",
    "#\n",
    "dfOut = pd.DataFrame()\n",
    "print(f\"\\n\\n\")\n",
    "logging.warning(f\"\\n\\n\")\n",
    "#\n",
    "## make sure to use a separator that is not present in the input data\n",
    "for fileNum, inFile in enumerate(inFilesList):\n",
    "    if headerInFilesFlag == True:\n",
    "        dfIn = pd.read_csv( inFile, sep=r'|', header = 0, dtype=str, keep_default_na=False, low_memory=False )\n",
    "    else:\n",
    "        dfIn = pd.read_csv( inFile, sep=r'|', header = None, dtype=str, keep_default_na=False, low_memory=False )\n",
    "    #\n",
    "    myStr = f\"File {fileNum + 1} lines before deduplication =\\t{len(dfIn)}\"\n",
    "    print(f\"{myStr}\")\n",
    "    logging.warning(f\"{myStr}\")\n",
    "    dfIn.drop_duplicates( keep='first', inplace=True )\n",
    "    myStr = f\"File {fileNum + 1} lines after deduplication =\\t{len(dfIn)}\"\n",
    "    print(f\"{myStr}\")\n",
    "    logging.warning(f\"{myStr}\")\n",
    "    dfOut = pd.concat([dfOut, dfIn], ignore_index=True)\n",
    "#\n",
    "print(f\"\\nRead in all files, removed duplicates in each, then concatenated contents.\\n\")\n",
    "logging.warning(f\"\\nRead in all files, removed duplicates in each, then concatenated contents.\\n\")\n",
    "#\n",
    "print(f\"\\nOutput Dataframe: Total lines before deduplication =\\t{len(dfOut)}\")\n",
    "logging.warning(f\"\\nOutput Dataframe: Total lines before deduplication =\\t{len(dfOut)}\")\n",
    "#\n",
    "dfOut.drop_duplicates( keep='first', inplace=True )\n",
    "if headerInFilesFlag == True:\n",
    "    dfOut.to_csv(outFile, index=False, header=True)\n",
    "else:\n",
    "    dfOut.to_csv(outFile, index=False, header=False)\n",
    "#\n",
    "print(f\"\\nOutput File: Total lines after deduplication =\\t{len(dfOut)}\")\n",
    "logging.warning(f\"\\nOutput File: Total lines after deduplication =\\t{len(dfOut)}\")\n",
    "#\n",
    "print(f\"\\n\\nNormal exit.\")\n",
    "logging.warning(f\"\\n\\nNormal exit.\")"
   ]
  },
  {
   "cell_type": "code",
   "execution_count": null,
   "metadata": {},
   "outputs": [],
   "source": []
  }
 ],
 "metadata": {
  "kernelspec": {
   "display_name": "Python 3",
   "language": "python",
   "name": "python3"
  },
  "language_info": {
   "codemirror_mode": {
    "name": "ipython",
    "version": 3
   },
   "file_extension": ".py",
   "mimetype": "text/x-python",
   "name": "python",
   "nbconvert_exporter": "python",
   "pygments_lexer": "ipython3",
   "version": "3.6.9"
  }
 },
 "nbformat": 4,
 "nbformat_minor": 2
}
