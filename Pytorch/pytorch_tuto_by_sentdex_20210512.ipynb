{
 "cells": [
  {
   "cell_type": "markdown",
   "id": "cb71467a",
   "metadata": {},
   "source": [
    "# Check If PyTorch Is Using The GPU\n",
    "Feb 2020<br>\n",
    "https://chrisalbon.com/deep_learning/pytorch/basics/check_if_pytorch_is_using_gpu/"
   ]
  },
  {
   "cell_type": "code",
   "execution_count": 1,
   "id": "d688d449",
   "metadata": {},
   "outputs": [],
   "source": [
    "import torch"
   ]
  },
  {
   "cell_type": "code",
   "execution_count": 2,
   "id": "acefcc2f",
   "metadata": {},
   "outputs": [
    {
     "name": "stdout",
     "output_type": "stream",
     "text": [
      "1\n"
     ]
    }
   ],
   "source": [
    "# How many GPUs are there?\n",
    "print(torch.cuda.device_count())"
   ]
  },
  {
   "cell_type": "code",
   "execution_count": 3,
   "id": "cbe6366a",
   "metadata": {},
   "outputs": [
    {
     "name": "stdout",
     "output_type": "stream",
     "text": [
      "0\n"
     ]
    }
   ],
   "source": [
    "# Which GPU Is The Current GPU?\n",
    "print(torch.cuda.current_device())"
   ]
  },
  {
   "cell_type": "code",
   "execution_count": 4,
   "id": "23abb782",
   "metadata": {},
   "outputs": [
    {
     "name": "stdout",
     "output_type": "stream",
     "text": [
      "True\n"
     ]
    }
   ],
   "source": [
    "# Is PyTorch using a GPU?\n",
    "print(torch.cuda.is_available())"
   ]
  },
  {
   "cell_type": "code",
   "execution_count": 5,
   "id": "3edd9547",
   "metadata": {},
   "outputs": [
    {
     "name": "stdout",
     "output_type": "stream",
     "text": [
      "GeForce GTX 1050 Ti\n"
     ]
    }
   ],
   "source": [
    "# Get the name of the current GPU\n",
    "print(torch.cuda.get_device_name(device=None))\n",
    "#print(torch.cuda.get_device_name(torch.cuda.current_device()))"
   ]
  },
  {
   "cell_type": "code",
   "execution_count": 6,
   "id": "262ca8c3",
   "metadata": {},
   "outputs": [
    {
     "data": {
      "text/plain": [
       "(6, 1)"
      ]
     },
     "execution_count": 6,
     "metadata": {},
     "output_type": "execute_result"
    }
   ],
   "source": [
    "# Gets the cuda capability of a device.\n",
    "# device = device for which to return the device capability.\n",
    "#     This function is a no-op if this argument is a negative integer.\n",
    "#     It uses the current device, given by current_device(), if device is None (default).\n",
    "# Returns the the major and minor cuda capability of the device\n",
    "torch.cuda.get_device_capability(device=None)"
   ]
  },
  {
   "cell_type": "code",
   "execution_count": 7,
   "id": "ce227d81",
   "metadata": {},
   "outputs": [
    {
     "data": {
      "text/plain": [
       "_CudaDeviceProperties(name='GeForce GTX 1050 Ti', major=6, minor=1, total_memory=4040MB, multi_processor_count=6)"
      ]
     },
     "execution_count": 7,
     "metadata": {},
     "output_type": "execute_result"
    }
   ],
   "source": [
    "# Get device properties\n",
    "torch.cuda.get_device_properties(device=None)"
   ]
  },
  {
   "cell_type": "markdown",
   "id": "d66a68e8",
   "metadata": {},
   "source": [
    "# YouTube - series by Sentdex\n",
    "\n",
    "Introduction - Deep Learning and Neural Networks with Python and Pytorch p.1<br>\n",
    "https://www.youtube.com/watch?v=BzcBsTou0C0\n",
    "\n",
    "Data - Deep Learning and Neural Networks with Python and Pytorch p.2<br>\n",
    "https://www.youtube.com/watch?v=i2yPxY2rOzs\n",
    "\n",
    "Building our Neural Network - Deep Learning and Neural Networks with Python and Pytorch p.3<br>\n",
    "https://www.youtube.com/watch?v=ixathu7U-LQ\n",
    "\n",
    "Training Model - Deep Learning and Neural Networks with Python and Pytorch p.4<br>\n",
    "https://www.youtube.com/watch?v=9j-_dOze4IM\n",
    "\n",
    "Convnet Intro - Deep Learning and Neural Networks with Python and Pytorch p.5<br>\n",
    "https://www.youtube.com/watch?v=9aYuQmMJvjA\n",
    "\n",
    "Training Convnet - Deep Learning and Neural Networks with Python and Pytorch p.6<br>\n",
    "https://www.youtube.com/watch?v=1gQR24B3ISE\n",
    "\n",
    "On the GPU - Deep Learning and Neural Networks with Python and Pytorch p.7<br>\n",
    "https://www.youtube.com/watch?v=6gk7giKER6s\n",
    "\n",
    "Model Analysis - Deep Learning and Neural Networks with Python and Pytorch p.8<br>\n",
    "https://www.youtube.com/watch?v=UuteCccDXCE"
   ]
  },
  {
   "cell_type": "markdown",
   "id": "b643b3ff",
   "metadata": {},
   "source": [
    "# VIRTUAL ENVIRONMENT SETUP AND PACKAGES INSTALLED\n",
    "\n",
    "python3 -m venv pv5pytorchGpu1<br>\n",
    "source ~/.venvPython/pv5pytorchGpu1/bin/activate\n",
    "\n",
    "pip3 install jupyter<br>\n",
    "pip3 install pandas<br>\n",
    "pip3 install matplotlib<br>\n",
    "pip3 install opencv-python<br>\n",
    "\n",
    "### for CPU version\n",
    "pip3 install torch==1.8.1+cpu torchvision==0.9.1+cpu torchaudio==0.8.1 -f<br> https://download.pytorch.org/whl/torch_stable.html<br>\n",
    "\n",
    "### for GPU version\n",
    "pip3 install torch torchvision torchaudio\n",
    "\n",
    "### Not used so far\n",
    "pip3 install torchsummary"
   ]
  },
  {
   "cell_type": "markdown",
   "id": "9594f649",
   "metadata": {},
   "source": [
    "# Data - Deep Learning and Neural Networks with Python and Pytorch p.2\n",
    "\n",
    "# Building our Neural Network - Deep Learning and Neural Networks with Python and Pytorch p.3\n",
    "\n",
    "# Training Model - Deep Learning and Neural Networks with Python and Pytorch p.4"
   ]
  },
  {
   "cell_type": "markdown",
   "id": "baea6716",
   "metadata": {},
   "source": [
    "Train using MNIST data and thus designing the neural network as a classifier with 10 classes.\n",
    "MNIST data is handwritten digits (0 to 9) as black and white images of size 28x28 pixels."
   ]
  },
  {
   "cell_type": "code",
   "execution_count": 8,
   "id": "06f760ab",
   "metadata": {},
   "outputs": [],
   "source": [
    "import torch\n",
    "import torchvision\n",
    "from torchvision import transforms, datasets\n",
    "\n",
    "import torch.nn as nn\n",
    "import torch.nn.functional as F\n",
    "\n",
    "import torch.optim as optim\n",
    "\n",
    "import matplotlib.pyplot as plt\n",
    "\n",
    "import pandas as pd\n",
    "import numpy as np"
   ]
  },
  {
   "cell_type": "code",
   "execution_count": 9,
   "id": "b826b4dd",
   "metadata": {},
   "outputs": [],
   "source": [
    "train = datasets.MNIST('/home/rohit/PyWDUbuntu/generic/pytorch_tutorials/MNIST', \n",
    "                      train=True, download=True,\n",
    "                      transform=transforms.Compose([transforms.ToTensor()]))\n",
    "\n",
    "test = datasets.MNIST('/home/rohit/PyWDUbuntu/generic/pytorch_tutorials/MNIST', \n",
    "                      train=False, download=True,\n",
    "                      transform=transforms.Compose([transforms.ToTensor()]))"
   ]
  },
  {
   "cell_type": "code",
   "execution_count": 10,
   "id": "306a1eea",
   "metadata": {},
   "outputs": [],
   "source": [
    "trainset = torch.utils.data.DataLoader(train, batch_size=32, shuffle=True)\n",
    "testset = torch.utils.data.DataLoader(test, batch_size=32, shuffle=True)"
   ]
  },
  {
   "cell_type": "code",
   "execution_count": 11,
   "id": "f629cde8",
   "metadata": {},
   "outputs": [],
   "source": [
    "#Batching pros:\n",
    "#    data too large to fit in memory,\n",
    "#    allow stepping more often and not only at end of epoch,\n",
    "#    allows the algorithm to update the weights with more generalization properties and \n",
    "#        somewhat prevents overfitting.\n",
    "#\n",
    "# Generally used between 8 and 64, but people do go larger to speed up training.\n",
    "# Also, people use base8 numbers."
   ]
  },
  {
   "cell_type": "code",
   "execution_count": 12,
   "id": "36aefb4d",
   "metadata": {},
   "outputs": [],
   "source": [
    "def get_list_shape(_inlist):\n",
    "    out_shape = list()\n",
    "    x = _inlist\n",
    "    for _ in range(10):\n",
    "        try:\n",
    "            out_shape.append(len(x))\n",
    "            x = x[0]\n",
    "        except:\n",
    "            break\n",
    "    return tuple(out_shape)"
   ]
  },
  {
   "cell_type": "code",
   "execution_count": 13,
   "id": "4340fe7c",
   "metadata": {},
   "outputs": [
    {
     "name": "stdout",
     "output_type": "stream",
     "text": [
      "type(data) = <class 'list'>\n",
      "\n",
      "Shape of this list: (2, 32, 1, 28, 28)\n",
      "\n",
      "data =\n",
      "[tensor([[[[0., 0., 0.,  ..., 0., 0., 0.],\n",
      "          [0., 0., 0.,  ..., 0., 0., 0.],\n",
      "          [0., 0., 0.,  ..., 0., 0., 0.],\n",
      "          ...,\n",
      "          [0., 0., 0.,  ..., 0., 0., 0.],\n",
      "          [0., 0., 0.,  ..., 0., 0., 0.],\n",
      "          [0., 0., 0.,  ..., 0., 0., 0.]]],\n",
      "\n",
      "\n",
      "        [[[0., 0., 0.,  ..., 0., 0., 0.],\n",
      "          [0., 0., 0.,  ..., 0., 0., 0.],\n",
      "          [0., 0., 0.,  ..., 0., 0., 0.],\n",
      "          ...,\n",
      "          [0., 0., 0.,  ..., 0., 0., 0.],\n",
      "          [0., 0., 0.,  ..., 0., 0., 0.],\n",
      "          [0., 0., 0.,  ..., 0., 0., 0.]]],\n",
      "\n",
      "\n",
      "        [[[0., 0., 0.,  ..., 0., 0., 0.],\n",
      "          [0., 0., 0.,  ..., 0., 0., 0.],\n",
      "          [0., 0., 0.,  ..., 0., 0., 0.],\n",
      "          ...,\n",
      "          [0., 0., 0.,  ..., 0., 0., 0.],\n",
      "          [0., 0., 0.,  ..., 0., 0., 0.],\n",
      "          [0., 0., 0.,  ..., 0., 0., 0.]]],\n",
      "\n",
      "\n",
      "        ...,\n",
      "\n",
      "\n",
      "        [[[0., 0., 0.,  ..., 0., 0., 0.],\n",
      "          [0., 0., 0.,  ..., 0., 0., 0.],\n",
      "          [0., 0., 0.,  ..., 0., 0., 0.],\n",
      "          ...,\n",
      "          [0., 0., 0.,  ..., 0., 0., 0.],\n",
      "          [0., 0., 0.,  ..., 0., 0., 0.],\n",
      "          [0., 0., 0.,  ..., 0., 0., 0.]]],\n",
      "\n",
      "\n",
      "        [[[0., 0., 0.,  ..., 0., 0., 0.],\n",
      "          [0., 0., 0.,  ..., 0., 0., 0.],\n",
      "          [0., 0., 0.,  ..., 0., 0., 0.],\n",
      "          ...,\n",
      "          [0., 0., 0.,  ..., 0., 0., 0.],\n",
      "          [0., 0., 0.,  ..., 0., 0., 0.],\n",
      "          [0., 0., 0.,  ..., 0., 0., 0.]]],\n",
      "\n",
      "\n",
      "        [[[0., 0., 0.,  ..., 0., 0., 0.],\n",
      "          [0., 0., 0.,  ..., 0., 0., 0.],\n",
      "          [0., 0., 0.,  ..., 0., 0., 0.],\n",
      "          ...,\n",
      "          [0., 0., 0.,  ..., 0., 0., 0.],\n",
      "          [0., 0., 0.,  ..., 0., 0., 0.],\n",
      "          [0., 0., 0.,  ..., 0., 0., 0.]]]]), tensor([0, 4, 1, 1, 6, 7, 6, 2, 7, 3, 9, 8, 8, 2, 9, 9, 2, 4, 7, 8, 8, 2, 5, 0,\n",
      "        6, 9, 3, 4, 7, 2, 0, 4])]\n"
     ]
    }
   ],
   "source": [
    "for data in trainset:\n",
    "    print(f\"type(data) = {type(data)}\") # data here is a list\n",
    "    print(f\"\\nShape of this list: {get_list_shape(data)}\")\n",
    "    print(f\"\\ndata =\\n{data}\")\n",
    "    break\n",
    "\n",
    "# len(data) = 2\n",
    "# len(data[0]) = 16\n",
    "# len(data[0][0]) = 1\n",
    "# len(data[0][0][0]) = 28\n",
    "# len(data[0][0][0][0]) = 28\n",
    "# len(data[0][0][0][0][0]) : fails with 'TypeError: len() of a 0-d tensor'"
   ]
  },
  {
   "cell_type": "code",
   "execution_count": 14,
   "id": "f543df6b",
   "metadata": {},
   "outputs": [
    {
     "name": "stdout",
     "output_type": "stream",
     "text": [
      "torch.Size([32, 1, 28, 28]) torch.Size([32])\n"
     ]
    }
   ],
   "source": [
    "x, y = data[0], data[1]\n",
    "print(x.shape, y.shape)"
   ]
  },
  {
   "cell_type": "code",
   "execution_count": 15,
   "id": "fd633ddc",
   "metadata": {},
   "outputs": [
    {
     "name": "stdout",
     "output_type": "stream",
     "text": [
      "torch.Size([1, 28, 28]) torch.Size([])\n"
     ]
    }
   ],
   "source": [
    "# access first image info only\n",
    "x, y = data[0][0], data[1][0]\n",
    "print(x.shape, y.shape)"
   ]
  },
  {
   "cell_type": "code",
   "execution_count": 16,
   "id": "271a4d60",
   "metadata": {},
   "outputs": [
    {
     "data": {
      "image/png": "[encoded data removed]",
      "text/plain": [
       "<Figure size 432x288 with 1 Axes>"
      ]
     },
     "metadata": {
      "needs_background": "light"
     },
     "output_type": "display_data"
    }
   ],
   "source": [
    "plt.imshow(x.view(28,28))\n",
    "plt.show()"
   ]
  },
  {
   "cell_type": "markdown",
   "id": "ebffed09",
   "metadata": {},
   "source": [
    "### check the balancing of the data - i.e. the samples have equal distribution\n",
    "\n",
    "We find the data is balanced well enought with around 10% per digit as expected."
   ]
  },
  {
   "cell_type": "code",
   "execution_count": 17,
   "id": "6f2e148d",
   "metadata": {},
   "outputs": [
    {
     "name": "stdout",
     "output_type": "stream",
     "text": [
      "{0: 5923, 1: 6742, 2: 5958, 3: 6131, 4: 5842, 5: 5421, 6: 5918, 7: 6265, 8: 5851, 9: 5949}\n",
      "60000\n"
     ]
    }
   ],
   "source": [
    "total = 0\n",
    "counter_dict = dict()\n",
    "for i in range(10):\n",
    "    counter_dict[i] = 0\n",
    "for data in trainset:\n",
    "    ys = list(data[1].detach().numpy())\n",
    "    for y in ys:\n",
    "        counter_dict[y] += 1\n",
    "        total += 1\n",
    "print(counter_dict)\n",
    "print(total)"
   ]
  },
  {
   "cell_type": "code",
   "execution_count": 18,
   "id": "1e890005",
   "metadata": {
    "scrolled": false
   },
   "outputs": [
    {
     "name": "stdout",
     "output_type": "stream",
     "text": [
      "0: total=5923\t%=9.87\n",
      "1: total=6742\t%=11.24\n",
      "2: total=5958\t%=9.93\n",
      "3: total=6131\t%=10.22\n",
      "4: total=5842\t%=9.74\n",
      "5: total=5421\t%=9.04\n",
      "6: total=5918\t%=9.86\n",
      "7: total=6265\t%=10.44\n",
      "8: total=5851\t%=9.75\n",
      "9: total=5949\t%=9.92\n",
      "\n",
      "\n"
     ]
    },
    {
     "data": {
      "text/plain": [
       "<AxesSubplot:>"
      ]
     },
     "execution_count": 18,
     "metadata": {},
     "output_type": "execute_result"
    },
    {
     "data": {
      "image/png": "[encoded data removed]",
      "text/plain": [
       "<Figure size 432x288 with 1 Axes>"
      ]
     },
     "metadata": {
      "needs_background": "light"
     },
     "output_type": "display_data"
    }
   ],
   "source": [
    "for k, v in counter_dict.items():\n",
    "    print(f\"{k}: total={v}\\t%={v/total*100:.2f}\")\n",
    "print(f\"\")\n",
    "tempdf = pd.DataFrame.from_dict(counter_dict, columns=['count'], orient='index')\n",
    "tempdf.reset_index(inplace=True)\n",
    "tempdf.rename(columns={'index': 'digit'})\n",
    "#print(tempdf)\n",
    "print(\"\")\n",
    "tempdf.plot.bar(rot=0)"
   ]
  },
  {
   "cell_type": "markdown",
   "id": "9498a0ba",
   "metadata": {},
   "source": [
    "For the actual network, we want to input the 28x28 flattened image.\n",
    "Take output from 10 neurons where each neuron corresponds to the ten digits 0-9.\n",
    "Ideally for any input image, we want exactly one of these neurons to be a 1 and all the others to be 0."
   ]
  },
  {
   "cell_type": "code",
   "execution_count": 19,
   "id": "91015bac",
   "metadata": {},
   "outputs": [
    {
     "name": "stdout",
     "output_type": "stream",
     "text": [
      "Net(\n",
      "  (fc1): Linear(in_features=784, out_features=64, bias=True)\n",
      "  (fc2): Linear(in_features=64, out_features=64, bias=True)\n",
      "  (fc3): Linear(in_features=64, out_features=64, bias=True)\n",
      "  (fc4): Linear(in_features=64, out_features=10, bias=True)\n",
      ")\n"
     ]
    }
   ],
   "source": [
    "class Net(nn.Module):\n",
    "    def __init__(self):\n",
    "        super().__init__()\n",
    "        self.fc1 = nn.Linear(in_features=28*28, out_features=64)\n",
    "        self.fc2 = nn.Linear(in_features=64, out_features=64)\n",
    "        self.fc3 = nn.Linear(in_features=64, out_features=64)\n",
    "        self.fc4 = nn.Linear(in_features=64, out_features=10)\n",
    "\n",
    "net = Net()\n",
    "print(net)"
   ]
  },
  {
   "cell_type": "markdown",
   "id": "66cbf18a",
   "metadata": {},
   "source": [
    "Using ReLu for most layers except final one. There using softmax as this is a \n",
    "multi-class (10 classes) classifiction problem."
   ]
  },
  {
   "cell_type": "code",
   "execution_count": 20,
   "id": "ea322bc5",
   "metadata": {
    "scrolled": false
   },
   "outputs": [
    {
     "name": "stdout",
     "output_type": "stream",
     "text": [
      "Net(\n",
      "  (fc1): Linear(in_features=784, out_features=64, bias=True)\n",
      "  (fc2): Linear(in_features=64, out_features=64, bias=True)\n",
      "  (fc3): Linear(in_features=64, out_features=64, bias=True)\n",
      "  (fc4): Linear(in_features=64, out_features=10, bias=True)\n",
      ")\n"
     ]
    }
   ],
   "source": [
    "class Net(nn.Module):\n",
    "    def __init__(self):\n",
    "        super().__init__()\n",
    "        self.fc1 = nn.Linear(in_features=28*28, out_features=64)\n",
    "        self.fc2 = nn.Linear(in_features=64, out_features=64)\n",
    "        self.fc3 = nn.Linear(in_features=64, out_features=64)\n",
    "        self.fc4 = nn.Linear(in_features=64, out_features=10)\n",
    "        \n",
    "    def forward(self, x):\n",
    "        x = F.relu(self.fc1(x))\n",
    "        x = F.relu(self.fc2(x))\n",
    "        x = F.relu(self.fc3(x))\n",
    "        x = self.fc4(x)\n",
    "        \n",
    "        # dim=1, to specify which dimension values do we want the softmaxed probabilities\n",
    "        #        to sum to 1? dim=0, would point to the batch_Size dimension.\n",
    "        x = F.log_softmax(x, dim=1)\n",
    "        \n",
    "        return x\n",
    "\n",
    "net = Net()\n",
    "print(net)"
   ]
  },
  {
   "cell_type": "markdown",
   "id": "f247378d",
   "metadata": {},
   "source": [
    "### Pass some random 28x28 pixel values to the network and see it produces an output"
   ]
  },
  {
   "cell_type": "code",
   "execution_count": 21,
   "id": "12977217",
   "metadata": {},
   "outputs": [],
   "source": [
    "X = torch.rand((28,28))"
   ]
  },
  {
   "cell_type": "code",
   "execution_count": 22,
   "id": "b531aaba",
   "metadata": {},
   "outputs": [
    {
     "ename": "RuntimeError",
     "evalue": "mat1 and mat2 shapes cannot be multiplied (28x28 and 784x64)",
     "output_type": "error",
     "traceback": [
      "\u001b[0;31m---------------------------------------------------------------------------\u001b[0m",
      "\u001b[0;31mRuntimeError\u001b[0m                              Traceback (most recent call last)",
      "\u001b[0;32m<ipython-input-22-0e33b174bbd2>\u001b[0m in \u001b[0;36m<module>\u001b[0;34m\u001b[0m\n\u001b[1;32m      1\u001b[0m \u001b[0;31m# this fails saying:\u001b[0m\u001b[0;34m\u001b[0m\u001b[0;34m\u001b[0m\u001b[0;34m\u001b[0m\u001b[0m\n\u001b[1;32m      2\u001b[0m \u001b[0;31m#     RuntimeError: mat1 and mat2 shapes cannot be multiplied (28x28 and 784x64)\u001b[0m\u001b[0;34m\u001b[0m\u001b[0;34m\u001b[0m\u001b[0;34m\u001b[0m\u001b[0m\n\u001b[0;32m----> 3\u001b[0;31m \u001b[0moutput\u001b[0m \u001b[0;34m=\u001b[0m \u001b[0mnet\u001b[0m\u001b[0;34m(\u001b[0m\u001b[0mX\u001b[0m\u001b[0;34m)\u001b[0m\u001b[0;34m\u001b[0m\u001b[0;34m\u001b[0m\u001b[0m\n\u001b[0m",
      "\u001b[0;32m~/.venvPython/pv5pytorchGpu1/lib/python3.8/site-packages/torch/nn/modules/module.py\u001b[0m in \u001b[0;36m_call_impl\u001b[0;34m(self, *input, **kwargs)\u001b[0m\n\u001b[1;32m    887\u001b[0m             \u001b[0mresult\u001b[0m \u001b[0;34m=\u001b[0m \u001b[0mself\u001b[0m\u001b[0;34m.\u001b[0m\u001b[0m_slow_forward\u001b[0m\u001b[0;34m(\u001b[0m\u001b[0;34m*\u001b[0m\u001b[0minput\u001b[0m\u001b[0;34m,\u001b[0m \u001b[0;34m**\u001b[0m\u001b[0mkwargs\u001b[0m\u001b[0;34m)\u001b[0m\u001b[0;34m\u001b[0m\u001b[0;34m\u001b[0m\u001b[0m\n\u001b[1;32m    888\u001b[0m         \u001b[0;32melse\u001b[0m\u001b[0;34m:\u001b[0m\u001b[0;34m\u001b[0m\u001b[0;34m\u001b[0m\u001b[0m\n\u001b[0;32m--> 889\u001b[0;31m             \u001b[0mresult\u001b[0m \u001b[0;34m=\u001b[0m \u001b[0mself\u001b[0m\u001b[0;34m.\u001b[0m\u001b[0mforward\u001b[0m\u001b[0;34m(\u001b[0m\u001b[0;34m*\u001b[0m\u001b[0minput\u001b[0m\u001b[0;34m,\u001b[0m \u001b[0;34m**\u001b[0m\u001b[0mkwargs\u001b[0m\u001b[0;34m)\u001b[0m\u001b[0;34m\u001b[0m\u001b[0;34m\u001b[0m\u001b[0m\n\u001b[0m\u001b[1;32m    890\u001b[0m         for hook in itertools.chain(\n\u001b[1;32m    891\u001b[0m                 \u001b[0m_global_forward_hooks\u001b[0m\u001b[0;34m.\u001b[0m\u001b[0mvalues\u001b[0m\u001b[0;34m(\u001b[0m\u001b[0;34m)\u001b[0m\u001b[0;34m,\u001b[0m\u001b[0;34m\u001b[0m\u001b[0;34m\u001b[0m\u001b[0m\n",
      "\u001b[0;32m<ipython-input-20-201c615feecd>\u001b[0m in \u001b[0;36mforward\u001b[0;34m(self, x)\u001b[0m\n\u001b[1;32m      8\u001b[0m \u001b[0;34m\u001b[0m\u001b[0m\n\u001b[1;32m      9\u001b[0m     \u001b[0;32mdef\u001b[0m \u001b[0mforward\u001b[0m\u001b[0;34m(\u001b[0m\u001b[0mself\u001b[0m\u001b[0;34m,\u001b[0m \u001b[0mx\u001b[0m\u001b[0;34m)\u001b[0m\u001b[0;34m:\u001b[0m\u001b[0;34m\u001b[0m\u001b[0;34m\u001b[0m\u001b[0m\n\u001b[0;32m---> 10\u001b[0;31m         \u001b[0mx\u001b[0m \u001b[0;34m=\u001b[0m \u001b[0mF\u001b[0m\u001b[0;34m.\u001b[0m\u001b[0mrelu\u001b[0m\u001b[0;34m(\u001b[0m\u001b[0mself\u001b[0m\u001b[0;34m.\u001b[0m\u001b[0mfc1\u001b[0m\u001b[0;34m(\u001b[0m\u001b[0mx\u001b[0m\u001b[0;34m)\u001b[0m\u001b[0;34m)\u001b[0m\u001b[0;34m\u001b[0m\u001b[0;34m\u001b[0m\u001b[0m\n\u001b[0m\u001b[1;32m     11\u001b[0m         \u001b[0mx\u001b[0m \u001b[0;34m=\u001b[0m \u001b[0mF\u001b[0m\u001b[0;34m.\u001b[0m\u001b[0mrelu\u001b[0m\u001b[0;34m(\u001b[0m\u001b[0mself\u001b[0m\u001b[0;34m.\u001b[0m\u001b[0mfc2\u001b[0m\u001b[0;34m(\u001b[0m\u001b[0mx\u001b[0m\u001b[0;34m)\u001b[0m\u001b[0;34m)\u001b[0m\u001b[0;34m\u001b[0m\u001b[0;34m\u001b[0m\u001b[0m\n\u001b[1;32m     12\u001b[0m         \u001b[0mx\u001b[0m \u001b[0;34m=\u001b[0m \u001b[0mF\u001b[0m\u001b[0;34m.\u001b[0m\u001b[0mrelu\u001b[0m\u001b[0;34m(\u001b[0m\u001b[0mself\u001b[0m\u001b[0;34m.\u001b[0m\u001b[0mfc3\u001b[0m\u001b[0;34m(\u001b[0m\u001b[0mx\u001b[0m\u001b[0;34m)\u001b[0m\u001b[0;34m)\u001b[0m\u001b[0;34m\u001b[0m\u001b[0;34m\u001b[0m\u001b[0m\n",
      "\u001b[0;32m~/.venvPython/pv5pytorchGpu1/lib/python3.8/site-packages/torch/nn/modules/module.py\u001b[0m in \u001b[0;36m_call_impl\u001b[0;34m(self, *input, **kwargs)\u001b[0m\n\u001b[1;32m    887\u001b[0m             \u001b[0mresult\u001b[0m \u001b[0;34m=\u001b[0m \u001b[0mself\u001b[0m\u001b[0;34m.\u001b[0m\u001b[0m_slow_forward\u001b[0m\u001b[0;34m(\u001b[0m\u001b[0;34m*\u001b[0m\u001b[0minput\u001b[0m\u001b[0;34m,\u001b[0m \u001b[0;34m**\u001b[0m\u001b[0mkwargs\u001b[0m\u001b[0;34m)\u001b[0m\u001b[0;34m\u001b[0m\u001b[0;34m\u001b[0m\u001b[0m\n\u001b[1;32m    888\u001b[0m         \u001b[0;32melse\u001b[0m\u001b[0;34m:\u001b[0m\u001b[0;34m\u001b[0m\u001b[0;34m\u001b[0m\u001b[0m\n\u001b[0;32m--> 889\u001b[0;31m             \u001b[0mresult\u001b[0m \u001b[0;34m=\u001b[0m \u001b[0mself\u001b[0m\u001b[0;34m.\u001b[0m\u001b[0mforward\u001b[0m\u001b[0;34m(\u001b[0m\u001b[0;34m*\u001b[0m\u001b[0minput\u001b[0m\u001b[0;34m,\u001b[0m \u001b[0;34m**\u001b[0m\u001b[0mkwargs\u001b[0m\u001b[0;34m)\u001b[0m\u001b[0;34m\u001b[0m\u001b[0;34m\u001b[0m\u001b[0m\n\u001b[0m\u001b[1;32m    890\u001b[0m         for hook in itertools.chain(\n\u001b[1;32m    891\u001b[0m                 \u001b[0m_global_forward_hooks\u001b[0m\u001b[0;34m.\u001b[0m\u001b[0mvalues\u001b[0m\u001b[0;34m(\u001b[0m\u001b[0;34m)\u001b[0m\u001b[0;34m,\u001b[0m\u001b[0;34m\u001b[0m\u001b[0;34m\u001b[0m\u001b[0m\n",
      "\u001b[0;32m~/.venvPython/pv5pytorchGpu1/lib/python3.8/site-packages/torch/nn/modules/linear.py\u001b[0m in \u001b[0;36mforward\u001b[0;34m(self, input)\u001b[0m\n\u001b[1;32m     92\u001b[0m \u001b[0;34m\u001b[0m\u001b[0m\n\u001b[1;32m     93\u001b[0m     \u001b[0;32mdef\u001b[0m \u001b[0mforward\u001b[0m\u001b[0;34m(\u001b[0m\u001b[0mself\u001b[0m\u001b[0;34m,\u001b[0m \u001b[0minput\u001b[0m\u001b[0;34m:\u001b[0m \u001b[0mTensor\u001b[0m\u001b[0;34m)\u001b[0m \u001b[0;34m->\u001b[0m \u001b[0mTensor\u001b[0m\u001b[0;34m:\u001b[0m\u001b[0;34m\u001b[0m\u001b[0;34m\u001b[0m\u001b[0m\n\u001b[0;32m---> 94\u001b[0;31m         \u001b[0;32mreturn\u001b[0m \u001b[0mF\u001b[0m\u001b[0;34m.\u001b[0m\u001b[0mlinear\u001b[0m\u001b[0;34m(\u001b[0m\u001b[0minput\u001b[0m\u001b[0;34m,\u001b[0m \u001b[0mself\u001b[0m\u001b[0;34m.\u001b[0m\u001b[0mweight\u001b[0m\u001b[0;34m,\u001b[0m \u001b[0mself\u001b[0m\u001b[0;34m.\u001b[0m\u001b[0mbias\u001b[0m\u001b[0;34m)\u001b[0m\u001b[0;34m\u001b[0m\u001b[0;34m\u001b[0m\u001b[0m\n\u001b[0m\u001b[1;32m     95\u001b[0m \u001b[0;34m\u001b[0m\u001b[0m\n\u001b[1;32m     96\u001b[0m     \u001b[0;32mdef\u001b[0m \u001b[0mextra_repr\u001b[0m\u001b[0;34m(\u001b[0m\u001b[0mself\u001b[0m\u001b[0;34m)\u001b[0m \u001b[0;34m->\u001b[0m \u001b[0mstr\u001b[0m\u001b[0;34m:\u001b[0m\u001b[0;34m\u001b[0m\u001b[0;34m\u001b[0m\u001b[0m\n",
      "\u001b[0;32m~/.venvPython/pv5pytorchGpu1/lib/python3.8/site-packages/torch/nn/functional.py\u001b[0m in \u001b[0;36mlinear\u001b[0;34m(input, weight, bias)\u001b[0m\n\u001b[1;32m   1751\u001b[0m     \u001b[0;32mif\u001b[0m \u001b[0mhas_torch_function_variadic\u001b[0m\u001b[0;34m(\u001b[0m\u001b[0minput\u001b[0m\u001b[0;34m,\u001b[0m \u001b[0mweight\u001b[0m\u001b[0;34m)\u001b[0m\u001b[0;34m:\u001b[0m\u001b[0;34m\u001b[0m\u001b[0;34m\u001b[0m\u001b[0m\n\u001b[1;32m   1752\u001b[0m         \u001b[0;32mreturn\u001b[0m \u001b[0mhandle_torch_function\u001b[0m\u001b[0;34m(\u001b[0m\u001b[0mlinear\u001b[0m\u001b[0;34m,\u001b[0m \u001b[0;34m(\u001b[0m\u001b[0minput\u001b[0m\u001b[0;34m,\u001b[0m \u001b[0mweight\u001b[0m\u001b[0;34m)\u001b[0m\u001b[0;34m,\u001b[0m \u001b[0minput\u001b[0m\u001b[0;34m,\u001b[0m \u001b[0mweight\u001b[0m\u001b[0;34m,\u001b[0m \u001b[0mbias\u001b[0m\u001b[0;34m=\u001b[0m\u001b[0mbias\u001b[0m\u001b[0;34m)\u001b[0m\u001b[0;34m\u001b[0m\u001b[0;34m\u001b[0m\u001b[0m\n\u001b[0;32m-> 1753\u001b[0;31m     \u001b[0;32mreturn\u001b[0m \u001b[0mtorch\u001b[0m\u001b[0;34m.\u001b[0m\u001b[0m_C\u001b[0m\u001b[0;34m.\u001b[0m\u001b[0m_nn\u001b[0m\u001b[0;34m.\u001b[0m\u001b[0mlinear\u001b[0m\u001b[0;34m(\u001b[0m\u001b[0minput\u001b[0m\u001b[0;34m,\u001b[0m \u001b[0mweight\u001b[0m\u001b[0;34m,\u001b[0m \u001b[0mbias\u001b[0m\u001b[0;34m)\u001b[0m\u001b[0;34m\u001b[0m\u001b[0;34m\u001b[0m\u001b[0m\n\u001b[0m\u001b[1;32m   1754\u001b[0m \u001b[0;34m\u001b[0m\u001b[0m\n\u001b[1;32m   1755\u001b[0m \u001b[0;34m\u001b[0m\u001b[0m\n",
      "\u001b[0;31mRuntimeError\u001b[0m: mat1 and mat2 shapes cannot be multiplied (28x28 and 784x64)"
     ]
    }
   ],
   "source": [
    "# this fails saying:\n",
    "#     RuntimeError: mat1 and mat2 shapes cannot be multiplied (28x28 and 784x64)\n",
    "output = net(X)"
   ]
  },
  {
   "cell_type": "code",
   "execution_count": 23,
   "id": "d0437d17",
   "metadata": {},
   "outputs": [
    {
     "name": "stdout",
     "output_type": "stream",
     "text": [
      "torch.Size([28, 28])\n",
      "torch.Size([1, 784])\n",
      "tensor([[-2.2052, -2.3164, -2.1956, -2.2905, -2.4065, -2.2086, -2.2575, -2.3513,\n",
      "         -2.5123, -2.3255]], grad_fn=<LogSoftmaxBackward>)\n"
     ]
    }
   ],
   "source": [
    "## net defined with returning : x = F.log_softmax(x, dim=1)\n",
    "\n",
    "print(X.shape)\n",
    "X = X.view(-1, 28*28)\n",
    "print(X.shape)\n",
    "output = net(X)\n",
    "print(output)"
   ]
  },
  {
   "cell_type": "code",
   "execution_count": 24,
   "id": "ee8d4c44",
   "metadata": {},
   "outputs": [
    {
     "name": "stdout",
     "output_type": "stream",
     "text": [
      "tensor([[0.1044, 0.0879, 0.1027, 0.1075, 0.0947, 0.1021, 0.1075, 0.0956, 0.0934,\n",
      "         0.1041]], grad_fn=<SoftmaxBackward>)\n",
      "tensor(1., grad_fn=<SumBackward0>)\n",
      "tensor([[-2.2599, -2.4310, -2.2755, -2.2300, -2.3571, -2.2818, -2.2303, -2.3476,\n",
      "         -2.3709, -2.2622]], grad_fn=<LogBackward>)\n"
     ]
    }
   ],
   "source": [
    "## now network defined with returning : x = F.softmax(x, dim=1)\n",
    "## instead of with with returning : x = F.log_softmax(x, dim=1)\n",
    "## note that applying the log on the output tensor yields the same kind of result as \n",
    "## obtained if directly returning with F.log_softmax in above version\n",
    "\n",
    "class Net(nn.Module):\n",
    "    def __init__(self):\n",
    "        super().__init__()\n",
    "        self.fc1 = nn.Linear(in_features=28*28, out_features=64)\n",
    "        self.fc2 = nn.Linear(in_features=64, out_features=64)\n",
    "        self.fc3 = nn.Linear(in_features=64, out_features=64)\n",
    "        self.fc4 = nn.Linear(in_features=64, out_features=10)\n",
    "        \n",
    "    def forward(self, x):\n",
    "        x = F.relu(self.fc1(x))\n",
    "        x = F.relu(self.fc2(x))\n",
    "        x = F.relu(self.fc3(x))\n",
    "        x = self.fc4(x)\n",
    "        \n",
    "        # dim=1, to specify which dimension values do we want the softmaxed probabilities\n",
    "        #        to sum to 1? dim=0, would point to the batch_Size dimension.\n",
    "        #x = F.log_softmax(x, dim=1)\n",
    "        x = F.softmax(x, dim=1)\n",
    "        \n",
    "        return x\n",
    "\n",
    "net = Net()\n",
    "\n",
    "X = X.view(-1, 28*28)\n",
    "output = net(X)\n",
    "print(output)\n",
    "print(output.sum())\n",
    "print(torch.log(output))"
   ]
  },
  {
   "cell_type": "code",
   "execution_count": 25,
   "id": "786871f9",
   "metadata": {},
   "outputs": [
    {
     "data": {
      "text/plain": [
       "-2.1901496636642577"
      ]
     },
     "execution_count": 25,
     "metadata": {},
     "output_type": "execute_result"
    }
   ],
   "source": [
    "np.log(0.1119)"
   ]
  },
  {
   "cell_type": "markdown",
   "id": "eaf1914f",
   "metadata": {},
   "source": [
    "Redefining the network the way it was originally with F.log_softmax(x, dim=1)"
   ]
  },
  {
   "cell_type": "code",
   "execution_count": 26,
   "id": "e587afa0",
   "metadata": {},
   "outputs": [
    {
     "name": "stdout",
     "output_type": "stream",
     "text": [
      "Net(\n",
      "  (fc1): Linear(in_features=784, out_features=64, bias=True)\n",
      "  (fc2): Linear(in_features=64, out_features=64, bias=True)\n",
      "  (fc3): Linear(in_features=64, out_features=64, bias=True)\n",
      "  (fc4): Linear(in_features=64, out_features=10, bias=True)\n",
      ")\n"
     ]
    }
   ],
   "source": [
    "class Net(nn.Module):\n",
    "    def __init__(self):\n",
    "        super().__init__()\n",
    "        self.fc1 = nn.Linear(in_features=28*28, out_features=64)\n",
    "        self.fc2 = nn.Linear(in_features=64, out_features=64)\n",
    "        self.fc3 = nn.Linear(in_features=64, out_features=64)\n",
    "        self.fc4 = nn.Linear(in_features=64, out_features=10)\n",
    "        \n",
    "    def forward(self, x):\n",
    "        x = F.relu(self.fc1(x))\n",
    "        x = F.relu(self.fc2(x))\n",
    "        x = F.relu(self.fc3(x))\n",
    "        x = self.fc4(x)\n",
    "        \n",
    "        # dim=1, to specify which dimension values do we want the softmaxed probabilities\n",
    "        #        to sum to 1? dim=0, would point to the batch_Size dimension.\n",
    "        x = F.log_softmax(x, dim=1)\n",
    "        \n",
    "        return x\n",
    "\n",
    "net = Net()\n",
    "print(net)"
   ]
  },
  {
   "cell_type": "code",
   "execution_count": 27,
   "id": "0369eea7",
   "metadata": {},
   "outputs": [
    {
     "name": "stdout",
     "output_type": "stream",
     "text": [
      "torch.Size([1, 784])\n",
      "torch.Size([1, 784])\n",
      "tensor([[-2.2555, -2.2830, -2.4372, -2.3961, -2.4077, -2.2245, -2.2223, -2.2094,\n",
      "         -2.4268, -2.2060]], grad_fn=<LogSoftmaxBackward>)\n"
     ]
    }
   ],
   "source": [
    "## net defined with returning : x = F.log_softmax(x, dim=1)\n",
    "\n",
    "print(X.shape)\n",
    "X = X.view(-1, 28*28)\n",
    "print(X.shape)\n",
    "output = net(X)\n",
    "print(output)"
   ]
  },
  {
   "cell_type": "code",
   "execution_count": 28,
   "id": "84cede09",
   "metadata": {},
   "outputs": [
    {
     "data": {
      "text/plain": [
       "<generator object Module.parameters at 0x7f10dfcb7f90>"
      ]
     },
     "execution_count": 28,
     "metadata": {},
     "output_type": "execute_result"
    }
   ],
   "source": [
    "net.parameters()"
   ]
  },
  {
   "cell_type": "code",
   "execution_count": 29,
   "id": "a7fc42ba",
   "metadata": {},
   "outputs": [],
   "source": [
    "## here we are allowing all the parameters to be adjusted.\n",
    "## but if we were doing transfer learning, we could freeze the initial layers, and\n",
    "## thus allow only the later layers to be adjustable.\n",
    "\n",
    "optimizer = optim.Adam(net.parameters(), lr=0.001) # lr=1e-3"
   ]
  },
  {
   "cell_type": "code",
   "execution_count": 30,
   "id": "20023f5d",
   "metadata": {},
   "outputs": [
    {
     "name": "stdout",
     "output_type": "stream",
     "text": [
      "tensor([3, 1, 1, 1, 2, 1, 3, 3, 3, 0, 5, 8, 3, 9, 6, 7, 9, 7, 2, 6, 4, 6, 3, 4,\n",
      "        6, 3, 6, 5, 7, 5, 5, 0])\n",
      "\n",
      "tensor(3)\n"
     ]
    }
   ],
   "source": [
    "## each of the GT output is a single scalar value i.e. the digit the image represents.\n",
    "\n",
    "EPOCHS = 1\n",
    "for epoch in range(EPOCHS):\n",
    "    for data in trainset:\n",
    "        ## data is batch of featuresets and labels\n",
    "        X, y = data\n",
    "        print(y)\n",
    "        print(f\"\")\n",
    "        print(y[0])\n",
    "        break"
   ]
  },
  {
   "cell_type": "code",
   "execution_count": 31,
   "id": "f5dc4cd3",
   "metadata": {},
   "outputs": [
    {
     "name": "stdout",
     "output_type": "stream",
     "text": [
      "tensor(0.1456, grad_fn=<NllLossBackward>)\n",
      "tensor(0.0254, grad_fn=<NllLossBackward>)\n",
      "tensor(0.0171, grad_fn=<NllLossBackward>)\n",
      "tensor(0.0720, grad_fn=<NllLossBackward>)\n",
      "tensor(0.0014, grad_fn=<NllLossBackward>)\n",
      "tensor(0.0108, grad_fn=<NllLossBackward>)\n"
     ]
    }
   ],
   "source": [
    "EPOCHS = 6\n",
    "for epoch in range(EPOCHS):\n",
    "    for data in trainset:\n",
    "        ## data is batch of featuresets and labels\n",
    "        X, y = data\n",
    "        \n",
    "        net.zero_grad() # 0 the grads\n",
    "        output = net(X.view(-1, 28*28)) # get prediction\n",
    "        \n",
    "        ## here the ouput is scalar, so using F.nll_loss\n",
    "        ## but suppose the output was a 1-hot vector, then MSE loss would be appropriate\n",
    "        loss = F.nll_loss(output, y) # compute the loss\n",
    "        loss.backward() # calculate the gradients via backprop\n",
    "        \n",
    "        optimizer.step() # update the parameters using the gradients just calculated\n",
    "    print(loss)"
   ]
  },
  {
   "cell_type": "markdown",
   "id": "557397dc",
   "metadata": {},
   "source": [
    "### Validate the data using the testing data\n",
    "\n",
    "But we do not want the update the weights!!!\n",
    "\n",
    "Earlier version of pytorch used net.train() and net.eval() to differentiate running in \n",
    "training vs evalution mode. But this is no longer used."
   ]
  },
  {
   "cell_type": "code",
   "execution_count": 32,
   "id": "f0aaa101",
   "metadata": {
    "scrolled": true
   },
   "outputs": [
    {
     "name": "stdout",
     "output_type": "stream",
     "text": [
      "tensor([[-2.8491e-05, -1.9239e+01, -1.4620e+01, -1.8864e+01, -1.6450e+01,\n",
      "         -2.0417e+01, -1.6574e+01, -1.2417e+01, -2.0273e+01, -1.0648e+01],\n",
      "        [-4.9382e+00, -5.4318e+00, -5.3313e+00, -8.8695e+00, -2.0634e+00,\n",
      "         -7.1412e+00, -1.2288e+01, -3.2268e+00, -6.8961e+00, -2.0461e-01],\n",
      "        [-1.4897e+01, -1.0833e+01, -1.3235e-02, -8.6642e+00, -4.3954e+00,\n",
      "         -1.0938e+01, -1.6487e+01, -7.4145e+00, -1.3615e+01, -1.7687e+01],\n",
      "        [-1.3720e+01, -1.0621e+01, -1.0853e+01, -1.9161e+01, -2.8129e-04,\n",
      "         -1.2501e+01, -1.4476e+01, -1.1154e+01, -1.4817e+01, -8.4332e+00],\n",
      "        [-2.5417e+01, -1.8514e+01, -7.1526e-07, -1.4414e+01, -2.4818e+01,\n",
      "         -2.5787e+01, -2.8330e+01, -1.7445e+01, -1.6357e+01, -3.3802e+01],\n",
      "        [-3.3487e+01, -1.4971e+01, -1.3665e+01, -1.4432e+01, -2.1253e+01,\n",
      "         -2.7826e+01, -5.0309e+01, -2.1458e-06, -2.1170e+01, -1.6098e+01],\n",
      "        [-1.6626e+01, -1.2557e+01, -1.5253e+01, -1.1396e+01, -1.1401e+01,\n",
      "         -6.4609e-05, -1.3635e+01, -1.0348e+01, -1.2630e+01, -1.3184e+01],\n",
      "        [-8.4590e+00, -7.4830e+00, -8.4396e+00, -1.0462e+01, -6.6521e-02,\n",
      "         -7.5090e+00, -1.1365e+01, -3.5433e+00, -1.1057e+01, -3.3860e+00],\n",
      "        [-2.7509e+01, -1.9493e+01, -1.6027e+01, -1.6166e+01, -1.9312e+01,\n",
      "         -2.2353e+01, -4.4353e+01, -4.2915e-06, -2.0865e+01, -1.2405e+01],\n",
      "        [-1.8973e+01, -1.7671e+01, -2.2261e+01, -1.3939e+01, -1.8536e+01,\n",
      "         -7.1165e-05, -9.8961e+00, -2.7238e+01, -1.1134e+01, -1.2165e+01],\n",
      "        [-2.8135e+01, -1.5281e+01, -2.0485e+01, -1.9669e-05, -2.0104e+01,\n",
      "         -1.1643e+01, -3.0193e+01, -1.9861e+01, -1.4621e+01, -1.1502e+01],\n",
      "        [-3.2283e+01, -1.4737e+01, -1.6257e+01, -1.9073e-06, -2.4578e+01,\n",
      "         -1.8958e+01, -3.9952e+01, -1.3564e+01, -1.7006e+01, -1.6914e+01],\n",
      "        [-4.3477e+00, -7.3681e+00, -8.6543e+00, -8.2852e+00, -6.3939e+00,\n",
      "         -4.8456e+00, -2.6628e-02, -7.2382e+00, -6.3397e+00, -8.2380e+00],\n",
      "        [-1.1722e+01, -1.0397e+01, -1.0395e+01, -8.8387e+00, -5.0031e+00,\n",
      "         -1.1215e+01, -1.8389e+01, -5.4750e+00, -1.3582e+01, -1.1198e-02],\n",
      "        [-1.4887e+01, -1.8483e+01, -3.3259e-05, -1.0436e+01, -1.8031e+01,\n",
      "         -2.4224e+01, -2.2768e+01, -1.2577e+01, -1.6201e+01, -2.4368e+01],\n",
      "        [-1.8768e+01, -1.7193e+01, -2.0825e+01, -1.1105e+01, -1.9149e+01,\n",
      "         -5.3047e-05, -1.3855e+01, -2.4354e+01, -1.2132e+01, -1.0360e+01],\n",
      "        [-1.4971e+01, -1.1273e+01, -1.1522e+01, -1.2519e+01, -1.4500e+01,\n",
      "         -2.1256e-03, -9.6520e+00, -1.7662e+01, -6.2170e+00, -1.0210e+01],\n",
      "        [-1.7802e+01, -1.4089e+01, -1.3357e+01, -2.4167e+01, -1.0848e-05,\n",
      "         -1.5436e+01, -1.8363e+01, -1.1842e+01, -2.0073e+01, -1.3745e+01],\n",
      "        [-1.7709e+01, -7.8682e+00, -6.4528e-03, -5.4150e+00, -1.5416e+01,\n",
      "         -1.5449e+01, -2.2586e+01, -6.9636e+00, -7.3323e+00, -1.8727e+01],\n",
      "        [-1.7408e+01, -8.6948e+00, -1.7607e+01, -7.8254e-04, -1.6889e+01,\n",
      "         -9.1822e+00, -1.9499e+01, -1.5835e+01, -1.1919e+01, -7.5910e+00],\n",
      "        [-1.4481e+01, -1.4811e+01, -8.4688e+00, -1.1453e+01, -1.7400e+01,\n",
      "         -1.5682e+01, -2.0434e+01, -1.2926e+01, -2.2540e-04, -1.3384e+01],\n",
      "        [-2.5756e+01, -1.1650e+01, -1.2852e+01, -1.2114e+01, -1.3621e+01,\n",
      "         -2.2358e+01, -4.0883e+01, -2.0359e-04, -1.6309e+01, -8.5928e+00],\n",
      "        [-2.8185e+01, -1.7527e+01, -1.3278e+01, -1.2715e+01, -2.0388e+01,\n",
      "         -2.2984e+01, -4.4711e+01, -8.8214e-06, -2.2408e+01, -1.2397e+01],\n",
      "        [-1.6777e+01, -1.8833e-04, -1.5137e+01, -2.1071e+01, -1.2054e+01,\n",
      "         -1.1724e+01, -1.2562e+01, -1.4074e+01, -8.6844e+00, -1.4194e+01],\n",
      "        [-1.2732e+01, -1.5630e+01, -1.9282e+01, -1.9287e+01, -1.3098e+01,\n",
      "         -1.1752e+01, -2.6941e-05, -1.9249e+01, -1.1187e+01, -1.7570e+01],\n",
      "        [-1.1789e+01, -1.0502e+01, -9.8586e+00, -1.5410e+01, -5.5631e-04,\n",
      "         -1.1039e+01, -1.2229e+01, -8.6409e+00, -1.2552e+01, -8.2267e+00],\n",
      "        [-8.7996e+00, -1.1239e+01, -1.3421e+01, -1.3821e+01, -1.0814e+01,\n",
      "         -5.3516e+00, -6.6614e-03, -1.6646e+01, -6.3762e+00, -1.1451e+01],\n",
      "        [-2.5787e+01, -1.6493e+01, -1.5627e+01, -1.9561e+01, -1.5189e+01,\n",
      "         -2.1567e+01, -4.1344e+01, -5.6028e-06, -1.8703e+01, -1.2184e+01],\n",
      "        [-8.4565e+00, -8.8211e+00, -4.0982e-03, -5.7541e+00, -1.2538e+01,\n",
      "         -1.2341e+01, -1.5635e+01, -7.5238e+00, -1.1777e+01, -1.2395e+01],\n",
      "        [-1.4933e+01, -1.8619e-04, -1.2640e+01, -1.3191e+01, -9.6256e+00,\n",
      "         -1.1329e+01, -1.5105e+01, -9.6552e+00, -1.0951e+01, -1.0784e+01],\n",
      "        [-2.2137e+01, -1.2630e+01, -1.5230e+01, -5.2963e-04, -1.7087e+01,\n",
      "         -1.6440e+01, -3.1001e+01, -9.6545e+00, -1.2511e+01, -7.6884e+00],\n",
      "        [-3.5943e+01, -2.1603e+01, -2.3224e+01,  0.0000e+00, -3.1584e+01,\n",
      "         -1.9729e+01, -4.6860e+01, -2.2507e+01, -2.4416e+01, -2.4141e+01]],\n",
      "       grad_fn=<LogSoftmaxBackward>)\n",
      "\n",
      "(32, 10)\n"
     ]
    }
   ],
   "source": [
    "print(output)\n",
    "print(f\"\")\n",
    "print(get_list_shape(output))"
   ]
  },
  {
   "cell_type": "code",
   "execution_count": 33,
   "id": "3f7c7780",
   "metadata": {},
   "outputs": [
    {
     "name": "stdout",
     "output_type": "stream",
     "text": [
      "tensor([-2.8491e-05, -1.9239e+01, -1.4620e+01, -1.8864e+01, -1.6450e+01,\n",
      "        -2.0417e+01, -1.6574e+01, -1.2417e+01, -2.0273e+01, -1.0648e+01],\n",
      "       grad_fn=<SelectBackward>)\n",
      "\n",
      "tensor(0)\n"
     ]
    }
   ],
   "source": [
    "print(output[0])\n",
    "print()\n",
    "print(torch.argmax(output[0]))"
   ]
  },
  {
   "cell_type": "code",
   "execution_count": 34,
   "id": "a66e6de3",
   "metadata": {},
   "outputs": [
    {
     "name": "stdout",
     "output_type": "stream",
     "text": [
      "tensor([0.9656, 0.1770, 0.7980, 0.0243, 0.0737, 0.2488, 0.2820, 0.1511, 0.7926,\n",
      "        0.9361])\n",
      "\n",
      "tensor([9.6000, 1.7000, 7.9000, 0.2000, 0.7000, 2.4000, 2.8000, 1.5000, 7.9000,\n",
      "        9.3000])\n",
      "\n",
      "tensor([9.7000, 1.8000, 8.0000, 0.2000, 0.7000, 2.5000, 2.8000, 1.5000, 7.9000,\n",
      "        9.4000])\n",
      "\n",
      "tensor(0)\n"
     ]
    }
   ],
   "source": [
    "abc = torch.rand((10))\n",
    "print(abc)\n",
    "print()\n",
    "abc1 = ( (abc * 100) // 1 ) / 10\n",
    "print(abc1)\n",
    "print()\n",
    "abc2 = torch.round(abc * 10**2) / (10**1)\n",
    "print(abc2)\n",
    "print()\n",
    "print(torch.argmax(abc2))"
   ]
  },
  {
   "cell_type": "code",
   "execution_count": 35,
   "id": "f304f404",
   "metadata": {},
   "outputs": [
    {
     "name": "stdout",
     "output_type": "stream",
     "text": [
      "Accuracy: 0.984367\n",
      "Accuracy: 0.984\n"
     ]
    }
   ],
   "source": [
    "correct = 0\n",
    "total = 0\n",
    "\n",
    "with torch.no_grad():\n",
    "    for data in trainset:\n",
    "        X, y = data\n",
    "        output = net(X.view(-1, 28*28))\n",
    "        for idx, i in enumerate(output):\n",
    "            if torch.argmax(i) == y[idx]:\n",
    "                correct += 1\n",
    "            total += 1\n",
    "print(f\"Accuracy: {correct/total:.6f}\")\n",
    "print(f\"Accuracy: {round(correct/total, 3)}\")"
   ]
  },
  {
   "cell_type": "code",
   "execution_count": 36,
   "id": "75552ca9",
   "metadata": {},
   "outputs": [
    {
     "name": "stdout",
     "output_type": "stream",
     "text": [
      "------------\n",
      "tensor(3)\n"
     ]
    },
    {
     "data": {
      "image/png": "[encoded data removed]",
      "text/plain": [
       "<Figure size 432x288 with 1 Axes>"
      ]
     },
     "metadata": {
      "needs_background": "light"
     },
     "output_type": "display_data"
    },
    {
     "name": "stdout",
     "output_type": "stream",
     "text": [
      "------------\n",
      "tensor(8)\n"
     ]
    },
    {
     "data": {
      "image/png": "[encoded data removed]",
      "text/plain": [
       "<Figure size 432x288 with 1 Axes>"
      ]
     },
     "metadata": {
      "needs_background": "light"
     },
     "output_type": "display_data"
    },
    {
     "name": "stdout",
     "output_type": "stream",
     "text": [
      "------------\n",
      "tensor(1)\n"
     ]
    },
    {
     "data": {
      "image/png": "[encoded data removed]",
      "text/plain": [
       "<Figure size 432x288 with 1 Axes>"
      ]
     },
     "metadata": {
      "needs_background": "light"
     },
     "output_type": "display_data"
    },
    {
     "name": "stdout",
     "output_type": "stream",
     "text": [
      "------------\n",
      "tensor(9)\n"
     ]
    },
    {
     "data": {
      "image/png": "[encoded data removed]",
      "text/plain": [
       "<Figure size 432x288 with 1 Axes>"
      ]
     },
     "metadata": {
      "needs_background": "light"
     },
     "output_type": "display_data"
    },
    {
     "name": "stdout",
     "output_type": "stream",
     "text": [
      "------------\n",
      "tensor(2)\n"
     ]
    },
    {
     "data": {
      "image/png": "[encoded data removed]",
      "text/plain": [
       "<Figure size 432x288 with 1 Axes>"
      ]
     },
     "metadata": {
      "needs_background": "light"
     },
     "output_type": "display_data"
    }
   ],
   "source": [
    "for i in range(5):\n",
    "    print(f\"------------\")\n",
    "    print(torch.argmax(net(X[i].view(-1, 28*28))))\n",
    "    plt.imshow(X[i].view(28,28))\n",
    "    plt.show()"
   ]
  },
  {
   "cell_type": "code",
   "execution_count": null,
   "id": "7f085370",
   "metadata": {},
   "outputs": [],
   "source": []
  },
  {
   "cell_type": "markdown",
   "id": "f7c9a809",
   "metadata": {},
   "source": [
    "# Convnet Intro - Deep Learning and Neural Networks with Python and Pytorch p.5\n",
    "\n",
    "# Training Convnet - Deep Learning and Neural Networks with Python and Pytorch p.6"
   ]
  },
  {
   "cell_type": "markdown",
   "id": "d84e0e4f",
   "metadata": {},
   "source": [
    "Train using Microsoft Cats v Dogs dataset and then predict if an image has a cat or a dog.\n",
    "Note: Every image will have one or the other.<br>\n",
    "Has 12.5 images of Cats, 12.5k for Dogs.<br>\n",
    "Here simply resizing the images to a fixed size. No augmentation like padding to make same size, or flipping, rotating, etc."
   ]
  },
  {
   "cell_type": "code",
   "execution_count": 37,
   "id": "c686d3d8",
   "metadata": {},
   "outputs": [],
   "source": [
    "import torch\n",
    "import torchvision\n",
    "from torchvision import transforms, datasets\n",
    "\n",
    "import torch.nn as nn\n",
    "import torch.nn.functional as F\n",
    "\n",
    "import torch.optim as optim\n",
    "\n",
    "import matplotlib.pyplot as plt\n",
    "\n",
    "import pandas as pd\n",
    "import numpy as np\n",
    "import cv2\n",
    "import os\n",
    "from tqdm import tqdm"
   ]
  },
  {
   "cell_type": "code",
   "execution_count": 38,
   "id": "c2560ccd",
   "metadata": {
    "scrolled": true
   },
   "outputs": [
    {
     "name": "stdout",
     "output_type": "stream",
     "text": [
      "[[1. 0.]\n",
      " [0. 1.]]\n",
      "\n",
      "[1. 0.]\n",
      "\n",
      "\n",
      "[0. 1.]\n"
     ]
    }
   ],
   "source": [
    "print(np.eye(2))\n",
    "CATS_DIR = '/home/rohit/PyWDUbuntu/generic/pytorch_tutorials/MS_Cats_v_Dogs/kagglecatsanddogs_3367a/PetImages/Cat/'\n",
    "DOGS_DIR = '/home/rohit/PyWDUbuntu/generic/pytorch_tutorials/MS_Cats_v_Dogs/kagglecatsanddogs_3367a/PetImages/Dog/'\n",
    "abc = CATS_DIR # cats\n",
    "abc2 = {CATS_DIR: 0, DOGS_DIR: 1}\n",
    "print(f\"\")\n",
    "if abc == CATS_DIR:\n",
    "    print(np.eye(2)[abc2[abc]])\n",
    "else:\n",
    "    print(np.eye(2)[abc2[abc]])\n",
    "print()\n",
    "abc = DOGS_DIR # dogs\n",
    "abc2 = {CATS_DIR: 0, DOGS_DIR: 1}\n",
    "print(f\"\")\n",
    "if abc == CATS_DIR:\n",
    "    print(np.eye(2)[abc2[abc]])\n",
    "else:\n",
    "    print(np.eye(2)[abc2[abc]])"
   ]
  },
  {
   "cell_type": "markdown",
   "id": "28425797",
   "metadata": {},
   "source": [
    "### Create the training data and save it as .npy file"
   ]
  },
  {
   "cell_type": "code",
   "execution_count": 39,
   "id": "f033eeda",
   "metadata": {},
   "outputs": [],
   "source": [
    "TRAINING_DATA_NP_FILE = '/home/rohit/PyWDUbuntu/generic/pytorch_tutorials/MS_Cats_v_Dogs/training_data.npy'"
   ]
  },
  {
   "cell_type": "code",
   "execution_count": 40,
   "id": "4910eee4",
   "metadata": {},
   "outputs": [
    {
     "name": "stdout",
     "output_type": "stream",
     "text": [
      "/home/rohit/PyWDUbuntu/generic/pytorch_tutorials/MS_Cats_v_Dogs/kagglecatsanddogs_3367a/PetImages/Cat/\n"
     ]
    },
    {
     "name": "stderr",
     "output_type": "stream",
     "text": [
      "100%|██████████| 12501/12501 [02:19<00:00, 89.43it/s] \n",
      "  0%|          | 5/12501 [00:00<04:27, 46.67it/s]"
     ]
    },
    {
     "name": "stdout",
     "output_type": "stream",
     "text": [
      "/home/rohit/PyWDUbuntu/generic/pytorch_tutorials/MS_Cats_v_Dogs/kagglecatsanddogs_3367a/PetImages/Dog/\n"
     ]
    },
    {
     "name": "stderr",
     "output_type": "stream",
     "text": [
      "100%|██████████| 12501/12501 [02:18<00:00, 89.94it/s] \n",
      "/home/rohit/.venvPython/pv5pytorchGpu1/lib/python3.8/site-packages/numpy/core/_asarray.py:171: VisibleDeprecationWarning: Creating an ndarray from ragged nested sequences (which is a list-or-tuple of lists-or-tuples-or ndarrays with different lengths or shapes) is deprecated. If you meant to do this, you must specify 'dtype=object' when creating the ndarray.\n",
      "  return array(a, dtype, copy=False, order=order, subok=True)\n"
     ]
    },
    {
     "name": "stdout",
     "output_type": "stream",
     "text": [
      "Cats: 12476\n",
      "Dogs: 12471\n",
      "total_read_count: 25002\n",
      "read_error_count: 56\n",
      "Cats %: = 50.01\n",
      "Dogs %: = 49.99\n"
     ]
    }
   ],
   "source": [
    "REBUILD_DATA = True # Set as True\n",
    "\n",
    "class DogsVSCats():\n",
    "    IMG_SIZE = 50 # making images into 50x50\n",
    "    CATS_DIR = '/home/rohit/PyWDUbuntu/generic/pytorch_tutorials/MS_Cats_v_Dogs/kagglecatsanddogs_3367a/PetImages/Cat/'\n",
    "    DOGS_DIR = '/home/rohit/PyWDUbuntu/generic/pytorch_tutorials/MS_Cats_v_Dogs/kagglecatsanddogs_3367a/PetImages/Dog/'\n",
    "    LABELS = {CATS_DIR: 0, DOGS_DIR: 1}\n",
    "    training_data = []\n",
    "    catcount = 0\n",
    "    dogcount = 1\n",
    "    total_read_count = 0\n",
    "    read_error_count = 0\n",
    "    \n",
    "    def make_training_data(self):\n",
    "        for label in self.LABELS:\n",
    "            print(label)\n",
    "            \n",
    "            for f in tqdm(os.listdir(label)):\n",
    "                try:\n",
    "                    path = os.path.join(label, f)\n",
    "                    # convert to grayscale as color is not relevant feature distinguish cat v dog\n",
    "                    img = cv2.imread(path, cv2.IMREAD_GRAYSCALE) \n",
    "                    img = cv2.resize(img, (self.IMG_SIZE, self.IMG_SIZE))\n",
    "                    # using 1-hot vectors instead of scalar itself\n",
    "                    # so our y is not just 0 or 1 but [0,1] for cat, [1,0] for dog\n",
    "                    self.training_data.append( [np.array(img), np.eye(2)[self.LABELS[label]]] )\n",
    "\n",
    "                    if label == self.CATS_DIR:\n",
    "                        self.catcount += 1\n",
    "                    elif label == self.DOGS_DIR:\n",
    "                        self.dogcount += 1\n",
    "                except Exception as e:\n",
    "                    self.read_error_count += 1\n",
    "                    #print(f\"Image reading error: {str(e)}\")\n",
    "                    #pass\n",
    "                self.total_read_count += 1\n",
    "        \n",
    "        np.random.shuffle(self.training_data)\n",
    "        np.save(TRAINING_DATA_NP_FILE, self.training_data)\n",
    "        \n",
    "        print(f\"Cats: {self.catcount}\")\n",
    "        print(f\"Dogs: {self.dogcount}\")\n",
    "        print(f\"total_read_count: {self.total_read_count}\")\n",
    "        print(f\"read_error_count: {self.read_error_count}\")\n",
    "        print(f\"Cats %: = {(100.0 * self.catcount /(self.catcount+self.dogcount)):.2f}\")\n",
    "        print(f\"Dogs %: = {(100.0 * self.dogcount /(self.catcount+self.dogcount)):.2f}\")\n",
    "\n",
    "if REBUILD_DATA == True:\n",
    "    dogsvcats = DogsVSCats()\n",
    "    dogsvcats.make_training_data()"
   ]
  },
  {
   "cell_type": "code",
   "execution_count": 41,
   "id": "208c578b",
   "metadata": {},
   "outputs": [],
   "source": [
    "training_data = np.load(TRAINING_DATA_NP_FILE, allow_pickle=True)"
   ]
  },
  {
   "cell_type": "code",
   "execution_count": 42,
   "id": "796d144c",
   "metadata": {},
   "outputs": [
    {
     "data": {
      "text/plain": [
       "24946"
      ]
     },
     "execution_count": 42,
     "metadata": {},
     "output_type": "execute_result"
    }
   ],
   "source": [
    "len(training_data)"
   ]
  },
  {
   "cell_type": "code",
   "execution_count": 43,
   "id": "7c0e2a8b",
   "metadata": {},
   "outputs": [
    {
     "name": "stdout",
     "output_type": "stream",
     "text": [
      "[array([[ 13,  14,  16, ..., 191, 187, 193],\n",
      "        [ 17,  19,  20, ..., 190, 186, 198],\n",
      "        [ 17,  19,  20, ..., 190, 187, 200],\n",
      "        ...,\n",
      "        [159, 157, 157, ..., 168, 162, 144],\n",
      "        [152, 154, 163, ..., 163, 168, 159],\n",
      "        [144, 156, 164, ..., 170, 169, 159]], dtype=uint8) array([1., 0.])]\n"
     ]
    }
   ],
   "source": [
    "print(training_data[0])"
   ]
  },
  {
   "cell_type": "code",
   "execution_count": 44,
   "id": "5ef7ba8a",
   "metadata": {},
   "outputs": [
    {
     "name": "stdout",
     "output_type": "stream",
     "text": [
      "[array([[ 43,  44,  41, ...,  78, 115, 111],\n",
      "        [ 32,  49,  43, ...,  75, 108, 143],\n",
      "        [ 60,  49,  41, ...,  75, 102, 134],\n",
      "        ...,\n",
      "        [190, 190, 200, ..., 175, 179, 177],\n",
      "        [189, 183, 193, ..., 183, 183, 214],\n",
      "        [179, 194, 195, ..., 192, 190, 211]], dtype=uint8) array([0., 1.])]\n"
     ]
    }
   ],
   "source": [
    "print(training_data[1])"
   ]
  },
  {
   "cell_type": "code",
   "execution_count": 45,
   "id": "a6304709",
   "metadata": {},
   "outputs": [
    {
     "name": "stdout",
     "output_type": "stream",
     "text": [
      "[0. 1.]\n"
     ]
    }
   ],
   "source": [
    "print(training_data[1][1]) # the y i.e. the 1-hot vector"
   ]
  },
  {
   "cell_type": "code",
   "execution_count": 46,
   "id": "d53fda5a",
   "metadata": {},
   "outputs": [
    {
     "data": {
      "image/png": "[encoded data removed]",
      "text/plain": [
       "<Figure size 432x288 with 1 Axes>"
      ]
     },
     "metadata": {
      "needs_background": "light"
     },
     "output_type": "display_data"
    }
   ],
   "source": [
    "plt.imshow(training_data[1][0])\n",
    "plt.show()"
   ]
  },
  {
   "cell_type": "code",
   "execution_count": 47,
   "id": "28040da2",
   "metadata": {},
   "outputs": [
    {
     "data": {
      "image/png": "[encoded data removed]",
      "text/plain": [
       "<Figure size 432x288 with 1 Axes>"
      ]
     },
     "metadata": {
      "needs_background": "light"
     },
     "output_type": "display_data"
    }
   ],
   "source": [
    "plt.imshow(training_data[1][0], cmap='gray')\n",
    "plt.show()"
   ]
  },
  {
   "cell_type": "markdown",
   "id": "22d40ebe",
   "metadata": {},
   "source": [
    "### Define the model\n",
    "<br>\n",
    "<b>For Conv2D</b><br>\n",
    "General formula for output calculation:<br>\n",
    "output dim = <br>\n",
    "inp_size + 2*padding - dilation*(kernel-1) - 1<br>\n",
    "------------------------------------------------------------        +   1<br>\n",
    "                  stride<br>\n",
    "<br>\n",
    "But with default value dilation=1, simplifies to output dim = <br>\n",
    "inp_size + 2*padding - kernel<br>\n",
    "------------------------------------------    +    1<br>\n",
    "                  stride<br>\n",
    "<br>\n",
    "<b>For MaxPool2D</b><br>\n",
    "output size = floor(InputSize/PoolSize). NOTE: this only applies for stride=KernelSize and padding=0\n",
    "<br>\n",
    "\n",
    "#### About Conv2d of PyTorch\n",
    "\n",
    "Uses nn.conv2d for the convolutional layer<br>\n",
    "torch.nn.Conv2d(in_channels, out_channels, kernel_size, stride=1, padding=0, dilation=1, groups=1, bias=True, padding_mode='zeros')<br>\n",
    "https://pytorch.org/docs/stable/generated/torch.nn.Conv2d.html<br>\n",
    "<br>\n",
    "Parameters<br>\n",
    "in_channels (int) – Number of channels in the input image<br>\n",
    "\n",
    "out_channels (int) – Number of channels produced by the convolution<br>\n",
    "\n",
    "kernel_size (int or tuple) – Size of the convolving kernel<br>\n",
    "\n",
    "stride (int or tuple, optional) – Stride of the convolution. Default: 1<br>\n",
    "\n",
    "padding (int or tuple, optional) – Zero-padding added to both sides of the input. Default: 0<br>\n",
    "\n",
    "padding_mode (string, optional) – 'zeros', 'reflect', 'replicate' or 'circular'. Default: 'zeros'<br>\n",
    "\n",
    "dilation (int or tuple, optional) – Spacing between kernel elements. Default: 1<br>\n",
    "\n",
    "groups (int, optional) – Number of blocked connections from input channels to output channels. Default: 1<br>\n",
    "\n",
    "bias (bool, optional) – If True, adds a learnable bias to the output. Default: True<br>\n",
    "<br>\n",
    "<b>Stride</b> controls the stride for the cross-correlation, a single number or a tuple.<br>\n",
    "<b>Padding</b> controls the amount of implicit padding on both sides for padding number of points for each dimension.<br>\n",
    "<b>Dilation</b> controls the spacing between the kernel points; also known as the à trous algorithm. It is harder to describe, but this link (https://github.com/vdumoulin/conv_arithmetic/blob/master/README.md) has a nice visualization of what dilation does.<br>\n",
    "<b>Groups</b> controls the connections between inputs and outputs. in_channels and out_channels must both be divisible by groups<br>\n",
    "<b>More about Groups</b>:<br>\n",
    "=1 means all inputs convolved to all outputs<br>\n",
    "=2, operation becomes equivalent to having two conv layers side by side, each seeing half<br>the input channels and producing half the output channels, and both subsequently concatenated<br>\n",
    "= in_channels, each input channels is convolved with its own set of filters (of size = out_channels / in_channels)<br>\n",
    "<b>Parameters kernel_size, stride, padding, dilation</b> can either be:<br>\n",
    "a single int – in which case the same value is used for the height and width dimension<br>\n",
    "a tuple of two ints – in which case, the first int is used for the height dimension, and the second int for the width dimension<br>\n",
    "<br>\n",
    "Note: when using CuDNN GPU version:<br>\n",
    "In some circumstances when given tensors on a CUDA device and using CuDNN, this operator may select a nondeterministic algorithm to increase performance. If this is undesirable, you can try to make the operation deterministic (potentially at a performance cost) by setting torch.backends.cudnn.deterministic = True.<br>\n",
    "\n",
    "#### About Linear of PyTorch\n",
    "\n",
    "using nn.Linear for the fully connection layers<br>\n",
    "torch.nn.Linear(in_features, out_features, bias=True)<br>\n",
    "https://pytorch.org/docs/stable/generated/torch.nn.Linear.html<br>\n",
    "\n",
    "<b>Parameters</b><br>\n",
    "in_features – size of each input sample<br>\n",
    "\n",
    "out_features – size of each output sample<br>\n",
    "\n",
    "bias – If set to False, the layer will not learn an additive bias. Default: True<br>"
   ]
  },
  {
   "cell_type": "markdown",
   "id": "3be1ea01",
   "metadata": {},
   "source": [
    "#### PyTorch version without the flatter function\n",
    "This version does not use the flatten function as it was not in PyTorch earlier.<br>\n",
    "So while moving from conv layers to fc layers, you had to code in a certain way to compute it on the fly and thus define network accordingly."
   ]
  },
  {
   "cell_type": "code",
   "execution_count": 48,
   "id": "f1347a46",
   "metadata": {},
   "outputs": [
    {
     "name": "stdout",
     "output_type": "stream",
     "text": [
      "x[0].shape = torch.Size([128, 2, 2])\n",
      "self._to_linear flattened = 512\n"
     ]
    }
   ],
   "source": [
    "class Net(nn.Module):\n",
    "    def __init__(self):\n",
    "        super().__init__()\n",
    "        self.conv1 = nn.Conv2d(1, 32, 5) # 1 as grayscale, outchannels chossing as 32, kernel=5x5\n",
    "        self.conv2 = nn.Conv2d(32, 64, 5)\n",
    "        self.conv3 = nn.Conv2d(64, 128, 5)\n",
    "        \n",
    "        ## so we can't simply do like this: START\n",
    "        #self.fc1 = nn.Linear(????, 512)\n",
    "        #self.fc2 = nn.Linear(512, 2)\n",
    "        ## so we can't simply do like this: END\n",
    "        \n",
    "        # the random data to pass on the fly as workaround\n",
    "        x = torch.randn(50,50).view(-1, 1, 50, 50)\n",
    "        # variable for required shape for FC layer, to be setup on the fly\n",
    "        self._to_linear = None\n",
    "        ## during init phase: self.convs inputs dummy data and get flattened dims that\n",
    "        ##    allows correct initialisation of the self.fc1 layer\n",
    "        self.convs(x)\n",
    "        \n",
    "        self.fc1 = nn.Linear(self._to_linear, 512)\n",
    "        self.fc2 = nn.Linear(512, 2)\n",
    "        \n",
    "        \n",
    "    def convs(self, x):\n",
    "        x = F.max_pool2d(F.relu(self.conv1(x)), (2,2))\n",
    "        x = F.max_pool2d(F.relu(self.conv2(x)), (2,2))\n",
    "        x = F.max_pool2d(F.relu(self.conv3(x)), (2,2))\n",
    "        \n",
    "        if self._to_linear is None:\n",
    "            # x will now be (batch_size, 128, unknown_1, unknown_2)\n",
    "            # x[0].shape = (128, unknown_1, unknown_2))\n",
    "            self._to_linear = x[0].shape[0]*x[0].shape[1]*x[0].shape[2]\n",
    "            print(f\"x[0].shape = {x[0].shape}\")\n",
    "            print(f\"self._to_linear flattened = {self._to_linear}\")\n",
    "        return x\n",
    "    def forward(self, x):\n",
    "        # run the convolutional part\n",
    "        x = self.convs(x)\n",
    "        x = x.view(-1, self._to_linear)\n",
    "        x = F.relu(self.fc1(x))\n",
    "        ## \n",
    "        x = self.fc2(x)\n",
    "        return x\n",
    "\n",
    "net = Net()"
   ]
  },
  {
   "cell_type": "markdown",
   "id": "36908769",
   "metadata": {},
   "source": [
    "#### how to use nn.Flatten - note that the flattening is done excluding the first dim, as by default start_dim=1"
   ]
  },
  {
   "cell_type": "code",
   "execution_count": 49,
   "id": "6e0e3292",
   "metadata": {},
   "outputs": [
    {
     "name": "stdout",
     "output_type": "stream",
     "text": [
      "Before flatten shape : torch.Size([2, 10, 3, 4])\n",
      "After flatten shape : torch.Size([2, 120])\n",
      "120\n",
      "\n",
      "After flatten_changed shape : torch.Size([240])\n",
      "240\n"
     ]
    }
   ],
   "source": [
    "import torch.nn as nn\n",
    "import torch\n",
    "\n",
    "f = nn.Flatten()  #start_dim = 1 by default\n",
    "f_changed = nn.Flatten(start_dim=0)\n",
    "x = torch.randn((2, 10, 3, 4))\n",
    "print(f\"Before flatten shape : {x.shape}\")\n",
    "print(f\"After flatten shape : {f(x).shape}\")\n",
    "print(f\"{f(x).shape[1]}\")\n",
    "print()\n",
    "print(f\"After flatten_changed shape : {f_changed(x).shape}\")\n",
    "print(f\"{f_changed(x).shape[0]}\")"
   ]
  },
  {
   "cell_type": "code",
   "execution_count": 50,
   "id": "3d4aca7d",
   "metadata": {},
   "outputs": [],
   "source": [
    "#### PyTorch version with flatten function use"
   ]
  },
  {
   "cell_type": "code",
   "execution_count": 52,
   "id": "8e630d8e",
   "metadata": {},
   "outputs": [
    {
     "name": "stdout",
     "output_type": "stream",
     "text": [
      "shape after maxpooling = torch.Size([128, 2, 2])\n",
      "temp_f(x).shape = torch.Size([1, 512])\n",
      "self._to_linear flattened = 512\n"
     ]
    }
   ],
   "source": [
    "class Net(nn.Module):\n",
    "    def __init__(self):\n",
    "        super().__init__()\n",
    "        self.conv1 = nn.Conv2d(1, 32, 5) # 1 as grayscale, outchannels chossing as 32, kernel=5x5\n",
    "        self.conv2 = nn.Conv2d(32, 64, 5)\n",
    "        self.conv3 = nn.Conv2d(64, 128, 5)\n",
    "        \n",
    "        ## we don't want to manually calculate the dims after conv\n",
    "        ## so we can't simply do like this: START\n",
    "        #self.fc1 = nn.Linear(????, 512)\n",
    "        #self.fc2 = nn.Linear(512, 2)\n",
    "        ## so we can't simply do like this: END\n",
    "        \n",
    "        ## pass random data thru conv layers, use nn.Flatten, then access the dim to setup\n",
    "        ##    fc1 correctly\n",
    "        x = torch.randn(50,50).view(-1, 1, 50, 50)\n",
    "        x = F.max_pool2d(F.relu(self.conv1(x)), (2,2))\n",
    "        x = F.max_pool2d(F.relu(self.conv2(x)), (2,2))\n",
    "        x = F.max_pool2d(F.relu(self.conv3(x)), (2,2))\n",
    "        print(f\"shape after maxpooling = {x[0].shape}\")\n",
    "        temp_f = nn.Flatten()\n",
    "        # variable for required shape for FC layer, to be setup on the fly\n",
    "        self._to_linear = temp_f(x).shape[1]\n",
    "        print(f\"temp_f(x).shape = {temp_f(x).shape}\")\n",
    "        print(f\"self._to_linear flattened = {self._to_linear}\")\n",
    "        \n",
    "        self.fc1 = nn.Linear(self._to_linear, 512)\n",
    "        self.fc2 = nn.Linear(512, 2)\n",
    "    def forward(self, x):\n",
    "        # run the convolutional part\n",
    "        x = F.max_pool2d(F.relu(self.conv1(x)), (2,2))\n",
    "        x = F.max_pool2d(F.relu(self.conv2(x)), (2,2))\n",
    "        x = F.max_pool2d(F.relu(self.conv3(x)), (2,2))\n",
    "        ## flatten and run fc part\n",
    "        x = x.view(-1, self._to_linear)\n",
    "        x = F.relu(self.fc1(x))\n",
    "        ## not using an activation layer in the final output here\n",
    "        ## but, one could do F.softmax(x, dim=1) ## dim=1 due to batch in dim=0\n",
    "        x = self.fc2(x)\n",
    "        return x\n",
    "\n",
    "net = Net()"
   ]
  },
  {
   "cell_type": "code",
   "execution_count": null,
   "id": "7c2fc796",
   "metadata": {},
   "outputs": [],
   "source": []
  },
  {
   "cell_type": "code",
   "execution_count": null,
   "id": "ea6c841a",
   "metadata": {},
   "outputs": [],
   "source": []
  },
  {
   "cell_type": "code",
   "execution_count": null,
   "id": "dda19023",
   "metadata": {},
   "outputs": [],
   "source": []
  },
  {
   "cell_type": "code",
   "execution_count": null,
   "id": "73e843c6",
   "metadata": {},
   "outputs": [],
   "source": []
  },
  {
   "cell_type": "code",
   "execution_count": null,
   "id": "3a1f7d91",
   "metadata": {},
   "outputs": [],
   "source": []
  },
  {
   "cell_type": "code",
   "execution_count": null,
   "id": "9ba40047",
   "metadata": {},
   "outputs": [],
   "source": []
  },
  {
   "cell_type": "code",
   "execution_count": null,
   "id": "a2e422df",
   "metadata": {},
   "outputs": [],
   "source": []
  },
  {
   "cell_type": "code",
   "execution_count": null,
   "id": "414e3f2a",
   "metadata": {},
   "outputs": [],
   "source": []
  },
  {
   "cell_type": "code",
   "execution_count": null,
   "id": "882b694a",
   "metadata": {},
   "outputs": [],
   "source": []
  },
  {
   "cell_type": "code",
   "execution_count": null,
   "id": "2d6bbc18",
   "metadata": {},
   "outputs": [],
   "source": []
  },
  {
   "cell_type": "code",
   "execution_count": null,
   "id": "477ee6be",
   "metadata": {},
   "outputs": [],
   "source": []
  }
 ],
 "metadata": {
  "kernelspec": {
   "display_name": "Python 3",
   "language": "python",
   "name": "python3"
  },
  "language_info": {
   "codemirror_mode": {
    "name": "ipython",
    "version": 3
   },
   "file_extension": ".py",
   "mimetype": "text/x-python",
   "name": "python",
   "nbconvert_exporter": "python",
   "pygments_lexer": "ipython3",
   "version": "3.8.5"
  }
 },
 "nbformat": 4,
 "nbformat_minor": 5
}
