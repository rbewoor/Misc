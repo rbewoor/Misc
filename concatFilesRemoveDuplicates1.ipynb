{
 "cells": [
  {
   "cell_type": "code",
   "execution_count": 1,
   "metadata": {},
   "outputs": [],
   "source": [
    "#############################################################\n",
    "#############################################################\n",
    "###  Concatenate the input files, remove duplicates,\n",
    "###  and write output file.\n",
    "###\n",
    "###  For Deespeech - use to merge different vocabular files.\n",
    "#############################################################\n",
    "#############################################################"
   ]
  },
  {
   "cell_type": "code",
   "execution_count": 2,
   "metadata": {},
   "outputs": [],
   "source": [
    "import pandas as pd\n",
    "import os \n",
    "import logging"
   ]
  },
  {
   "cell_type": "code",
   "execution_count": 3,
   "metadata": {
    "scrolled": false
   },
   "outputs": [
    {
     "name": "stdout",
     "output_type": "stream",
     "text": [
      "\n",
      "Going to concatenate following files =\n",
      "File 0 ::: /home/rohit/dpspTraining/data/wavFiles/domainSet1-pdf1_1_950/vocabDir/vocabulary-allValidated.txt\n",
      "File 1 ::: /home/rohit/dpspTraining/data/wavFiles/domainSet1-pdf1_1_950/vocabDir/vocab_domainSet1_1_950.txt\n",
      "\n",
      "\n",
      "\n",
      "File 1 lines =\t629730\n",
      "File 2 lines =\t916\n",
      "\n",
      "Total lines before deduplication =\t630646\n",
      "\n",
      "Total lines after deduplication =\t84215\n",
      "\n",
      "\n",
      "Normal exit.\n"
     ]
    }
   ],
   "source": [
    "logFilenameWithPath = '/home/rohit/dpspTraining/data/wavFiles/domainSet1-pdf1_1_950/vocabDir/LOG_concatFilesRemoveDuplicates1.log'\n",
    "logging.basicConfig(level=logging.WARNING, filename=logFilenameWithPath,                      \\\n",
    "    filemode='w', format='%(asctime)s : %(message)s')\n",
    "#\n",
    "inFilesList = [ r'/home/rohit/dpspTraining/data/wavFiles/domainSet1-pdf1_1_950/vocabDir/vocabulary-allValidated.txt',\n",
    "           r'/home/rohit/dpspTraining/data/wavFiles/domainSet1-pdf1_1_950/vocabDir/vocab_domainSet1_1_950.txt' ]\n",
    "outFile = r'/home/rohit/dpspTraining/data/wavFiles/domainSet1-pdf1_1_950/vocabDir/vocab_combined.txt'\n",
    "#\n",
    "## change this to indicate if there is a header or not\n",
    "headerInFilesFlag = False\n",
    "#\n",
    "myStr = f\"\\nGoing to concatenate following files =\"\n",
    "for fileNum, inFile in enumerate(inFilesList):\n",
    "    myStr += f\"\\nFile {fileNum} ::: {inFile}\"\n",
    "print(f\"{myStr}\")\n",
    "logging.warning(f\"{myStr}\")\n",
    "#\n",
    "dfOut = pd.DataFrame()\n",
    "print(f\"\\n\\n\")\n",
    "logging.warning(f\"\\n\\n\")\n",
    "#\n",
    "## make sure to use a separator that is not present in the input data\n",
    "for fileNum, inFile in enumerate(inFilesList):\n",
    "    if headerInFilesFlag == True:\n",
    "        dfIn = pd.read_csv( inFile, sep=r'|', header = 0, dtype=str, keep_default_na=False, low_memory=False )\n",
    "        myStr = f\"File {fileNum + 1} lines =\\t{len(dfIn)}\"\n",
    "        print(f\"{myStr}\")\n",
    "        logging.warning(f\"{myStr}\")\n",
    "        dfOut = pd.concat([dfOut, dfIn], ignore_index=True)\n",
    "    else:\n",
    "        dfIn = pd.read_csv( inFile, sep='|', header = None, dtype=str, keep_default_na=False, low_memory=False )\n",
    "        myStr = f\"File {fileNum + 1} lines =\\t{len(dfIn)}\"\n",
    "        print(f\"{myStr}\")\n",
    "        logging.warning(f\"{myStr}\")\n",
    "        dfOut = pd.concat([dfOut, dfIn], ignore_index=True)\n",
    "#\n",
    "print(f\"\\nTotal lines before deduplication =\\t{len(dfOut)}\")\n",
    "logging.warning(f\"\\nTotal lines before deduplication =\\t{len(dfOut)}\")\n",
    "#\n",
    "dfOut.drop_duplicates( keep='first', inplace=True )\n",
    "if headerInFilesFlag == True:\n",
    "    dfOut.to_csv(outFile, index=False, header=True)\n",
    "else:\n",
    "    dfOut.to_csv(outFile, index=False, header=False)\n",
    "#\n",
    "print(f\"\\nTotal lines after deduplication =\\t{len(dfOut)}\")\n",
    "logging.warning(f\"\\nTotal lines after deduplication =\\t{len(dfOut)}\")\n",
    "#\n",
    "print(f\"\\n\\nNormal exit.\")\n",
    "logging.warning(f\"\\n\\nNormal exit.\")"
   ]
  },
  {
   "cell_type": "code",
   "execution_count": null,
   "metadata": {},
   "outputs": [],
   "source": []
  }
 ],
 "metadata": {
  "kernelspec": {
   "display_name": "Python 3",
   "language": "python",
   "name": "python3"
  },
  "language_info": {
   "codemirror_mode": {
    "name": "ipython",
    "version": 3
   },
   "file_extension": ".py",
   "mimetype": "text/x-python",
   "name": "python",
   "nbconvert_exporter": "python",
   "pygments_lexer": "ipython3",
   "version": "3.6.9"
  }
 },
 "nbformat": 4,
 "nbformat_minor": 2
}
