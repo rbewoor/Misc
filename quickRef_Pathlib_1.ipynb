{
 "cells": [
  {
   "cell_type": "code",
   "execution_count": 4,
   "id": "9cb626a5",
   "metadata": {},
   "outputs": [],
   "source": [
    "import pathlib"
   ]
  },
  {
   "cell_type": "code",
   "execution_count": 5,
   "id": "1a0ccde3",
   "metadata": {},
   "outputs": [],
   "source": [
    "INP_DIR = r'/home/rb/Work_Casculate_Secure/Sprints/Sp6_20220423'\n",
    "INP_CAD_FILE = r'1sk-30153_000000001278.stp'\n",
    "INP_CAD_FILE_WITH_PATH = pathlib.Path(INP_DIR) / INP_CAD_FILE"
   ]
  },
  {
   "cell_type": "code",
   "execution_count": 6,
   "id": "e445c50d",
   "metadata": {},
   "outputs": [
    {
     "name": "stdout",
     "output_type": "stream",
     "text": [
      "/home/rb/Work_Casculate_Secure/Sprints/Sp6_20220423/1sk-30153_000000001278.stp\n",
      "<class 'pathlib.PosixPath'>\n",
      "p = /home/rb/Work_Casculate_Secure/Sprints/Sp6_20220423/1sk-30153_000000001278.stp\n",
      "type(p) = <class 'pathlib.PosixPath'>\n",
      "p.resolve() = /home/rb/Work_Casculate_Secure/Sprints/Sp6_20220423/1sk-30153_000000001278.stp\n",
      "\n",
      "type(p.resolve()) = <class 'pathlib.PosixPath'>\n",
      "p.is_file() = True\n",
      "p.is_dir() = False\n",
      "p.absolute() = /home/rb/Work_Casculate_Secure/Sprints/Sp6_20220423/1sk-30153_000000001278.stp\n",
      "type(p.absolute()) = <class 'pathlib.PosixPath'>\n",
      "p.root = /\n",
      "type(p.root) = <class 'str'>\n",
      "p.parent = /home/rb/Work_Casculate_Secure/Sprints/Sp6_20220423\n",
      "type(p.parent) = <class 'pathlib.PosixPath'>\n",
      "p.resolve().parent = /home/rb/Work_Casculate_Secure/Sprints/Sp6_20220423\n",
      "type(p.resolve().parent) = <class 'pathlib.PosixPath'>\n",
      "p.home() = /home/rb\n",
      "type(p.home()) = <class 'pathlib.PosixPath'>\n",
      "p.name = 1sk-30153_000000001278.stp\n",
      "type(p.name) = <class 'str'>\n",
      "p.stem = 1sk-30153_000000001278\n",
      "type(p.stem) = <class 'str'>\n",
      "p.suffix = .stp\n",
      "type(p.suffix) = <class 'str'>\n",
      "p.suffixes = ['.stp']\n",
      "type(p.suffixes) = <class 'list'>\n"
     ]
    }
   ],
   "source": [
    "print(INP_CAD_FILE_WITH_PATH)\n",
    "print(type(INP_CAD_FILE_WITH_PATH))\n",
    "\n",
    "p = INP_CAD_FILE_WITH_PATH\n",
    "print(f'p = {p}')\n",
    "print(f'type(p) = {type(p)}')\n",
    "print(f'p.resolve() = {p.resolve()}\\n')\n",
    "print(f'type(p.resolve()) = {type(p.resolve())}')\n",
    "print(f'p.is_file() = {p.is_file()}')\n",
    "print(f'p.is_dir() = {p.is_dir()}')\n",
    "print(f'p.absolute() = {p.absolute()}')\n",
    "print(f'type(p.absolute()) = {type(p.absolute())}')\n",
    "print(f'p.root = {p.root}')\n",
    "print(f'type(p.root) = {type(p.root)}')\n",
    "print(f'p.parent = {p.parent}')\n",
    "print(f'type(p.parent) = {type(p.parent)}')\n",
    "print(f'p.resolve().parent = {p.resolve().parent}')\n",
    "print(f'type(p.resolve().parent) = {type(p.resolve().parent)}')\n",
    "print(f'p.home() = {p.home()}')\n",
    "print(f'type(p.home()) = {type(p.home())}')\n",
    "print(f'p.name = {p.name}')\n",
    "print(f'type(p.name) = {type(p.name)}')\n",
    "print(f'p.stem = {p.stem}')\n",
    "print(f'type(p.stem) = {type(p.stem)}')\n",
    "print(f'p.suffix = {p.suffix}')\n",
    "print(f'type(p.suffix) = {type(p.suffix)}')\n",
    "print(f'p.suffixes = {p.suffixes}')\n",
    "print(f'type(p.suffixes) = {type(p.suffixes)}')\n",
    "\n",
    "\"\"\"\n",
    "/home/rb/Work_Casculate_Secure/Sprints/Sp6_20220423/1sk-30153_000000001278.stp\n",
    "<class 'pathlib.PosixPath'>\n",
    "p = /home/rb/Work_Casculate_Secure/Sprints/Sp6_20220423/1sk-30153_000000001278.stp\n",
    "type(p) = <class 'pathlib.PosixPath'>\n",
    "p.resolve() = /home/rb/Work_Casculate_Secure/Sprints/Sp6_20220423/1sk-30153_000000001278.stp\n",
    "\n",
    "type(p.resolve()) = <class 'pathlib.PosixPath'>\n",
    "p.is_file() = True\n",
    "p.is_dir() = False\n",
    "p.absolute() = /home/rb/Work_Casculate_Secure/Sprints/Sp6_20220423/1sk-30153_000000001278.stp\n",
    "type(p.absolute()) = <class 'pathlib.PosixPath'>\n",
    "p.root = /\n",
    "type(p.root) = <class 'str'>\n",
    "p.parent = /home/rb/Work_Casculate_Secure/Sprints/Sp6_20220423\n",
    "type(p.parent) = <class 'pathlib.PosixPath'>\n",
    "p.resolve().parent = /home/rb/Work_Casculate_Secure/Sprints/Sp6_20220423\n",
    "type(p.resolve().parent) = <class 'pathlib.PosixPath'>\n",
    "p.home() = /home/rb\n",
    "type(p.home()) = <class 'pathlib.PosixPath'>\n",
    "p.name = 1sk-30153_000000001278.stp\n",
    "type(p.name) = <class 'str'>\n",
    "p.stem = 1sk-30153_000000001278\n",
    "type(p.stem) = <class 'str'>\n",
    "p.suffix = .stp\n",
    "type(p.suffix) = <class 'str'>\n",
    "p.suffixes = ['.stp']\n",
    "type(p.suffixes) = <class 'list'>\n",
    "\"\"\""
   ]
  },
  {
   "cell_type": "code",
   "execution_count": 25,
   "id": "837f8214",
   "metadata": {},
   "outputs": [
    {
     "data": {
      "text/plain": [
       "198243"
      ]
     },
     "execution_count": 25,
     "metadata": {},
     "output_type": "execute_result"
    }
   ],
   "source": [
    "# get size of a file in bytes\n",
    "INP_CAD_FILE_WITH_PATH.stat().st_size"
   ]
  },
  {
   "cell_type": "code",
   "execution_count": 26,
   "id": "d3d1c7a5",
   "metadata": {},
   "outputs": [],
   "source": [
    "!touch ./some_random_pathlib_testing_file.txt"
   ]
  },
  {
   "cell_type": "code",
   "execution_count": 27,
   "id": "6e3d6f92",
   "metadata": {},
   "outputs": [
    {
     "name": "stdout",
     "output_type": "stream",
     "text": [
      "./some_random_pathlib_testing_file.txt\r\n"
     ]
    }
   ],
   "source": [
    "!ls ./some_random_pathlib_te*.txt"
   ]
  },
  {
   "cell_type": "code",
   "execution_count": 28,
   "id": "2f7cc9b9",
   "metadata": {},
   "outputs": [
    {
     "name": "stdout",
     "output_type": "stream",
     "text": [
      "p = some_random_pathlib_testing_file.txt\n",
      "type(p) = <class 'pathlib.PosixPath'>\n",
      "p.resolve() = /home/rb/PyWDUbuntu/WorkCascProjs/myMisc1/my_spatail_eval/some_random_pathlib_testing_file.txt\n",
      "\n",
      "p.is_file() = True\n",
      "p.is_dir() = False\n",
      "p.absolute() = /home/rb/PyWDUbuntu/WorkCascProjs/myMisc1/my_spatail_eval/some_random_pathlib_testing_file.txt\n",
      "p.root = \n",
      "p.parent = .\n",
      "p.resolve.parent = /home/rb/PyWDUbuntu/WorkCascProjs/myMisc1/my_spatail_eval\n",
      "p.home() = /home/rb\n",
      "p.name = some_random_pathlib_testing_file.txt\n",
      "p.stem = some_random_pathlib_testing_file\n",
      "p.suffix = .txt\n",
      "p.suffixes = ['.txt']\n"
     ]
    }
   ],
   "source": [
    "p = pathlib.Path('./some_random_pathlib_testing_file.txt')\n",
    "print(f'p = {p}')\n",
    "print(f'type(p) = {type(p)}')\n",
    "print(f'p.resolve() = {p.resolve()}\\n')\n",
    "print(f'p.is_file() = {p.is_file()}')\n",
    "print(f'p.is_dir() = {p.is_dir()}')\n",
    "print(f'p.absolute() = {p.absolute()}')\n",
    "print(f'p.root = {p.root}')\n",
    "print(f'p.parent = {p.parent}')\n",
    "print(f'p.resolve.parent = {p.resolve().parent}')\n",
    "print(f'p.home() = {p.home()}')\n",
    "print(f'p.name = {p.name}')\n",
    "print(f'p.stem = {p.stem}')\n",
    "print(f'p.suffix = {p.suffix}')\n",
    "print(f'p.suffixes = {p.suffixes}')"
   ]
  },
  {
   "cell_type": "code",
   "execution_count": 30,
   "id": "5b7919a9",
   "metadata": {},
   "outputs": [
    {
     "name": "stdout",
     "output_type": "stream",
     "text": [
      "/home/rb/PyWDUbuntu/WorkCascProjs/myMisc1/my_spatail_eval/temp_some_random_pathlib_testing_file.txt_FeatDump_popen_stdout.txt\n",
      "/home/rb/PyWDUbuntu/WorkCascProjs/myMisc1/my_spatail_eval/temp_some_random_pathlib_testing_file.txt_FeatDump_popen_stdout.txt\n"
     ]
    }
   ],
   "source": [
    "out_file_stdout = p.resolve().parent / ('temp_' + p.name + '_' + 'FeatDump' + '_popen_stdout.txt')\n",
    "print(out_file_stdout)\n",
    "print(str(out_file_stdout))"
   ]
  },
  {
   "cell_type": "code",
   "execution_count": 32,
   "id": "3fcec4f6",
   "metadata": {},
   "outputs": [
    {
     "name": "stdout",
     "output_type": "stream",
     "text": [
      "/home/rb/PyWDUbuntu/WorkCascProjs/myMisc1/my_spatail_eval/temp_some_random_pathlib_testing_file.txt_FeatDump_popen_stdout.txt\n",
      "<class 'pathlib.PosixPath'>\n",
      "/home/rb/PyWDUbuntu/WorkCascProjs/myMisc1/my_spatail_eval/temp_some_random_pathlib_testing_file.txt_FeatDump_popen_stdout.txt\n"
     ]
    }
   ],
   "source": [
    "out_file_stdout = p.resolve().parent / ('').join(['temp_', p.name, '_', 'FeatDump', '_popen_stdout.txt'])\n",
    "print(out_file_stdout)\n",
    "print(type(out_file_stdout))\n",
    "print(str(out_file_stdout))"
   ]
  },
  {
   "cell_type": "code",
   "execution_count": 33,
   "id": "e7cf4c9e",
   "metadata": {},
   "outputs": [
    {
     "data": {
      "text/plain": [
       "False"
      ]
     },
     "execution_count": 33,
     "metadata": {},
     "output_type": "execute_result"
    }
   ],
   "source": [
    "print(out_file_stdout.is_file())"
   ]
  },
  {
   "cell_type": "code",
   "execution_count": 34,
   "id": "40480897",
   "metadata": {},
   "outputs": [
    {
     "name": "stdout",
     "output_type": "stream",
     "text": [
      "True\n"
     ]
    }
   ],
   "source": [
    "print(p.is_file())"
   ]
  },
  {
   "cell_type": "code",
   "execution_count": null,
   "id": "369ff1af",
   "metadata": {},
   "outputs": [],
   "source": []
  },
  {
   "cell_type": "code",
   "execution_count": null,
   "id": "aa3d3860",
   "metadata": {},
   "outputs": [],
   "source": []
  }
 ],
 "metadata": {
  "kernelspec": {
   "display_name": "Python 3 (ipykernel)",
   "language": "python",
   "name": "python3"
  },
  "language_info": {
   "codemirror_mode": {
    "name": "ipython",
    "version": 3
   },
   "file_extension": ".py",
   "mimetype": "text/x-python",
   "name": "python",
   "nbconvert_exporter": "python",
   "pygments_lexer": "ipython3",
   "version": "3.9.7"
  }
 },
 "nbformat": 4,
 "nbformat_minor": 5
}
