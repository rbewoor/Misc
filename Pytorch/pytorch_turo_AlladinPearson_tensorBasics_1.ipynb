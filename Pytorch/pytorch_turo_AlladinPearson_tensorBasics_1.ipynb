{
 "cells": [
  {
   "cell_type": "markdown",
   "id": "2f1b4859",
   "metadata": {},
   "source": [
    "# Source\n",
    "\n",
    "From video: www.youtube.com/watch?v=x9JiIFvlUwk&t<br>\n",
    "Complete Pytorch Tensor Tutorial (Initializing Tensors, Math, Indexing, Reshaping)<br>\n",
    "by Aladdin Persson"
   ]
  },
  {
   "cell_type": "code",
   "execution_count": 98,
   "id": "946387f6",
   "metadata": {},
   "outputs": [],
   "source": [
    "import torch\n",
    "import numpy as np"
   ]
  },
  {
   "cell_type": "markdown",
   "id": "055b51ac",
   "metadata": {},
   "source": [
    "# Device"
   ]
  },
  {
   "cell_type": "code",
   "execution_count": 2,
   "id": "7d6f5b73",
   "metadata": {},
   "outputs": [],
   "source": [
    "DEVICE = 'cuda' if torch.cuda.is_available() else 'cpuy'"
   ]
  },
  {
   "cell_type": "code",
   "execution_count": 3,
   "id": "208b1ba3",
   "metadata": {},
   "outputs": [
    {
     "name": "stdout",
     "output_type": "stream",
     "text": [
      "cuda\n"
     ]
    }
   ],
   "source": [
    "print(DEVICE)"
   ]
  },
  {
   "cell_type": "markdown",
   "id": "d4635128",
   "metadata": {},
   "source": [
    "# Initialization "
   ]
  },
  {
   "cell_type": "markdown",
   "id": "af51f442",
   "metadata": {},
   "source": [
    "### on GPU"
   ]
  },
  {
   "cell_type": "code",
   "execution_count": 321,
   "id": "85347c78",
   "metadata": {},
   "outputs": [
    {
     "name": "stdout",
     "output_type": "stream",
     "text": [
      "tensor([[1, 2, 3],\n",
      "        [4, 5, 6]], device='cuda:0')\n",
      "torch.Size([2, 3])\n",
      "torch.Size([2, 3])\n",
      "torch.int64\n",
      "cuda:0\n",
      "False\n"
     ]
    }
   ],
   "source": [
    "# set directly to gpu\n",
    "my_tensor = torch.tensor([ [1,2,3],[4,5,6] ],\n",
    "                         device='cuda')\n",
    "print(my_tensor)\n",
    "print(my_tensor.shape) # method added to match numpy operation\n",
    "print(my_tensor.size()) # same as shape\n",
    "print(my_tensor.dtype)\n",
    "print(my_tensor.device)\n",
    "print(my_tensor.requires_grad)"
   ]
  },
  {
   "cell_type": "markdown",
   "id": "486ee43b",
   "metadata": {},
   "source": [
    "### requires_grad"
   ]
  },
  {
   "cell_type": "code",
   "execution_count": 10,
   "id": "a7db5fb6",
   "metadata": {},
   "outputs": [
    {
     "ename": "RuntimeError",
     "evalue": "Only Tensors of floating point and complex dtype can require gradients",
     "output_type": "error",
     "traceback": [
      "\u001b[0;31m---------------------------------------------------------------------------\u001b[0m",
      "\u001b[0;31mRuntimeError\u001b[0m                              Traceback (most recent call last)",
      "\u001b[0;32m<ipython-input-10-4bb03e8d1466>\u001b[0m in \u001b[0;36m<module>\u001b[0;34m\u001b[0m\n\u001b[1;32m      1\u001b[0m \u001b[0;31m# note this fails as dtype is int64, must be float\u001b[0m\u001b[0;34m\u001b[0m\u001b[0;34m\u001b[0m\u001b[0;34m\u001b[0m\u001b[0m\n\u001b[0;32m----> 2\u001b[0;31m my_tensor = torch.tensor([ [1,2,3],[4,5,6] ],\n\u001b[0m\u001b[1;32m      3\u001b[0m                          requires_grad=True)\n",
      "\u001b[0;31mRuntimeError\u001b[0m: Only Tensors of floating point and complex dtype can require gradients"
     ]
    }
   ],
   "source": [
    "# note this fails as dtype is int64, must be float\n",
    "my_tensor = torch.tensor([ [1,2,3],[4,5,6] ],\n",
    "                         requires_grad=True)"
   ]
  },
  {
   "cell_type": "code",
   "execution_count": 11,
   "id": "591e7313",
   "metadata": {},
   "outputs": [
    {
     "name": "stdout",
     "output_type": "stream",
     "text": [
      "tensor([[1., 2., 3.],\n",
      "        [4., 5., 6.]], requires_grad=True)\n",
      "torch.Size([2, 3])\n",
      "torch.float32\n",
      "cpu\n",
      "True\n"
     ]
    }
   ],
   "source": [
    "# note works as typecasting to float\n",
    "my_tensor = torch.tensor([ [1,2,3],[4,5,6] ],\n",
    "                         requires_grad=True,\n",
    "                        dtype=torch.float)\n",
    "print(my_tensor)\n",
    "print(my_tensor.shape)\n",
    "print(my_tensor.dtype)\n",
    "print(my_tensor.device)\n",
    "print(my_tensor.requires_grad)"
   ]
  },
  {
   "cell_type": "markdown",
   "id": "b88aa167",
   "metadata": {},
   "source": [
    "### dtypes\n",
    "\n",
    "_dtypes_ _available_ use as _torch_._DTYPE_<br>\n",
    "\n",
    "float32 (default if using torch.float)<br>\n",
    "float64<br>\n",
    "float16<>br\n",
    "int64 (default)<br>\n",
    "int32<br>\n",
    "int16<br>\n",
    "bool (for boolean, only 0 maps to False)<br>"
   ]
  },
  {
   "cell_type": "code",
   "execution_count": 12,
   "id": "d1b6d442",
   "metadata": {},
   "outputs": [
    {
     "name": "stdout",
     "output_type": "stream",
     "text": [
      "torch.int64\n",
      "tensor([[1, 2, 3],\n",
      "        [4, 5, 6]])\n",
      "torch.int64\n"
     ]
    }
   ],
   "source": [
    "# default uses int64 if all values are only simple integers\n",
    "my_tensor = torch.tensor([ [1,2,3],[4,5,6] ])\n",
    "print(my_tensor.dtype)\n",
    "print(my_tensor)\n",
    "print(my_tensor.dtype)"
   ]
  },
  {
   "cell_type": "code",
   "execution_count": 23,
   "id": "f1727044",
   "metadata": {},
   "outputs": [
    {
     "name": "stdout",
     "output_type": "stream",
     "text": [
      "tensor([[1., 2., 3.],\n",
      "        [4., 5., 6.]])\n",
      "torch.float32\n"
     ]
    }
   ],
   "source": [
    "# defaults uses float32 if all values are treated as floats\n",
    "# also if dtype specified as torch.float - see below\n",
    "my_tensor = torch.tensor([ [1.,2,3],[4,5,6] ])\n",
    "print(my_tensor)\n",
    "print(my_tensor.dtype)"
   ]
  },
  {
   "cell_type": "code",
   "execution_count": 24,
   "id": "34e81746",
   "metadata": {},
   "outputs": [
    {
     "name": "stdout",
     "output_type": "stream",
     "text": [
      "\n",
      "torch.int32\ttorch.int32\n",
      "\n",
      "torch.int16\ttorch.int16\n",
      "\n",
      "torch.int32\ttorch.int32\n",
      "\n",
      "torch.int64\ttorch.int64\n",
      "\n",
      "torch.float32\ttorch.float32\n",
      "\n",
      "torch.float16\ttorch.float16\n",
      "\n",
      "torch.float32\ttorch.float32\n",
      "\n",
      "torch.float64\ttorch.float64\n"
     ]
    }
   ],
   "source": [
    "# ints and floats\n",
    "\n",
    "my_dtypes_list = [\n",
    "    torch.int,\n",
    "    torch.int16,\n",
    "    torch.int32,\n",
    "    torch.int64,\n",
    "    torch.float, # just float = float32\n",
    "    torch.float16,\n",
    "    torch.float32,\n",
    "    torch.float64,\n",
    "]\n",
    "\n",
    "for dty in my_dtypes_list:\n",
    "    my_tensor = torch.tensor([ [1,2,3],[4,5,6] ], dtype=dty)\n",
    "    print(f\"\\n{dty}\\t{my_tensor.dtype}\")"
   ]
  },
  {
   "cell_type": "markdown",
   "id": "603cb7dd",
   "metadata": {},
   "source": [
    "### other common initialization methods"
   ]
  },
  {
   "cell_type": "markdown",
   "id": "45c42db0",
   "metadata": {},
   "source": [
    "#### empty"
   ]
  },
  {
   "cell_type": "code",
   "execution_count": 54,
   "id": "668dff6c",
   "metadata": {},
   "outputs": [
    {
     "name": "stdout",
     "output_type": "stream",
     "text": [
      "tensor([[1.2466e-36, 0.0000e+00, 3.6568e+22],\n",
      "        [4.5901e-41, 8.9683e-44, 0.0000e+00],\n",
      "        [1.1210e-43, 0.0000e+00, 1.2467e-36]])\n",
      "torch.float32\n",
      "tensor([[1, 2, 3],\n",
      "        [4, 5, 6]])\n",
      "torch.int64\n",
      "tensor([[         0,          0, 1629184272],\n",
      "        [         0,          1,          6]])\n",
      "torch.int64\n"
     ]
    }
   ],
   "source": [
    "# empty - will keep the ram position as they were\n",
    "x = torch.empty(size = (3,3))\n",
    "print(x)\n",
    "print(x.dtype)\n",
    "\n",
    "# empty like another tensor\n",
    "x_existing = torch.tensor([ [1,2,3],[4,5,6] ])\n",
    "print(x_existing)\n",
    "print(x_existing.dtype)\n",
    "x1 = torch.empty_like(x_existing)\n",
    "print(x1)\n",
    "print(x1.dtype)"
   ]
  },
  {
   "cell_type": "markdown",
   "id": "f96c57b3",
   "metadata": {},
   "source": [
    "#### zeros, ones, eye"
   ]
  },
  {
   "cell_type": "code",
   "execution_count": 35,
   "id": "8a9fcae4",
   "metadata": {},
   "outputs": [
    {
     "name": "stdout",
     "output_type": "stream",
     "text": [
      "tensor([[0., 0., 0.],\n",
      "        [0., 0., 0.],\n",
      "        [0., 0., 0.]])\n",
      "tensor([[1., 1., 1.],\n",
      "        [1., 1., 1.],\n",
      "        [1., 1., 1.]])\n",
      "tensor([[1., 0., 0., 0.],\n",
      "        [0., 1., 0., 0.],\n",
      "        [0., 0., 1., 0.],\n",
      "        [0., 0., 0., 1.]])\n",
      "tensor([[1., 0., 0., 0., 0.],\n",
      "        [0., 1., 0., 0., 0.],\n",
      "        [0., 0., 1., 0., 0.]])\n"
     ]
    }
   ],
   "source": [
    "# zeros\n",
    "x = torch.zeros(size = (3,3))\n",
    "print(x)\n",
    "\n",
    "# ones\n",
    "x = torch.ones(size = (3,3))\n",
    "print(x)\n",
    "\n",
    "# identity matrix\n",
    "x = torch.eye(4,4) # note this can be a non-square matrix too\n",
    "print(x)\n",
    "x = torch.eye(3,5) # note this can be a non-square matrix too\n",
    "print(x)"
   ]
  },
  {
   "cell_type": "markdown",
   "id": "be43b16c",
   "metadata": {},
   "source": [
    "#### full fill_"
   ]
  },
  {
   "cell_type": "code",
   "execution_count": 315,
   "id": "238196a1",
   "metadata": {},
   "outputs": [
    {
     "name": "stdout",
     "output_type": "stream",
     "text": [
      "tensor([[3.6569e+22, 4.5901e-41, 1.8177e+20],\n",
      "        [0.0000e+00, 4.4842e-44, 0.0000e+00]])\n",
      "\n",
      "tensor([[3.1400, 3.1400, 3.1400],\n",
      "        [3.1400, 3.1400, 3.1400]])\n",
      "\n",
      "tensor([[1.5000, 1.5000, 1.5000],\n",
      "        [1.5000, 1.5000, 1.5000]])\n"
     ]
    }
   ],
   "source": [
    "x = torch.empty(2,3)\n",
    "print(x)\n",
    "print()\n",
    "# create tensor of certain size and fill all the values as specified\n",
    "x = torch.full((2,3), 3.14)\n",
    "print(x)\n",
    "print()\n",
    "x.fill_(1.5)\n",
    "print(x)"
   ]
  },
  {
   "cell_type": "markdown",
   "id": "5b55084e",
   "metadata": {},
   "source": [
    "#### contiguous\n",
    "\n",
    "Returns a contiguous in memory tensor containing the same data as self tensor. If self tensor is already in the specified memory format, this function returns the self tensor."
   ]
  },
  {
   "cell_type": "code",
   "execution_count": 337,
   "id": "b746d8cd",
   "metadata": {},
   "outputs": [
    {
     "name": "stdout",
     "output_type": "stream",
     "text": [
      "torch.Size([2, 3])\n"
     ]
    }
   ],
   "source": [
    "x = torch.rand(3,2).t()\n",
    "print(x.shape)\n",
    "\n",
    "y = x.contiguous()"
   ]
  },
  {
   "cell_type": "code",
   "execution_count": null,
   "id": "3abfd003",
   "metadata": {},
   "outputs": [],
   "source": []
  },
  {
   "cell_type": "markdown",
   "id": "2e2a219a",
   "metadata": {},
   "source": [
    "#### arange, linspace"
   ]
  },
  {
   "cell_type": "code",
   "execution_count": 47,
   "id": "ec9112fe",
   "metadata": {},
   "outputs": [
    {
     "name": "stdout",
     "output_type": "stream",
     "text": [
      "tensor([0, 1, 2, 3, 4])\n",
      "tensor([2.0000, 2.7500, 3.5000, 4.2500])\n",
      "tensor([0.1000, 0.2875, 0.4750, 0.6625, 0.8500])\n",
      "no. of elements = 5\n"
     ]
    }
   ],
   "source": [
    "# arange - only end parameter is used\n",
    "x = torch.arange(5)\n",
    "print(x)\n",
    "\n",
    "# arange - with explicit parameters\n",
    "x = torch.arange(start=2, end=5, step=0.75)\n",
    "print(x)\n",
    "\n",
    "# linspace - create \"step\" number of elements. Note \"end\" value is inclusive\n",
    "x = torch.linspace(start=0.1, end=0.85, steps=5)\n",
    "print(x)\n",
    "print(f\"no. of elements = {x.numel()}\")"
   ]
  },
  {
   "cell_type": "markdown",
   "id": "de062ed6",
   "metadata": {},
   "source": [
    "#### simple rand vs random values from different distributions"
   ]
  },
  {
   "cell_type": "code",
   "execution_count": 70,
   "id": "f0261454",
   "metadata": {},
   "outputs": [
    {
     "name": "stdout",
     "output_type": "stream",
     "text": [
      "tensor([[0.2577, 0.1123, 0.6626],\n",
      "        [0.4762, 0.7345, 0.4776],\n",
      "        [0.7827, 0.3807, 0.4164]])\n",
      "tensor([[-0.1437, -0.2924, -0.3005],\n",
      "        [-0.1961,  0.1489,  0.0631],\n",
      "        [-0.2029, -0.1476, -0.2286]])\n",
      "tensor([[ 1.4178,  1.4186,  0.2833,  1.2737,  0.4618],\n",
      "        [ 0.5030, -0.0412,  1.2009,  1.0893,  0.8408]])\n"
     ]
    }
   ],
   "source": [
    "# uniform - between 0 and 1 by default\n",
    "x = torch.rand(3,3)\n",
    "print(x)\n",
    "\n",
    "# uniform - between specific values\n",
    "x = torch.empty(size=(3, 3)).uniform_(-0.45, 0.15)\n",
    "print(x)\n",
    "\n",
    "# normal distribution\n",
    "x = torch.empty(size=(2, 5)).normal_(mean=1.0, std=0.5)\n",
    "print(x)"
   ]
  },
  {
   "cell_type": "code",
   "execution_count": 58,
   "id": "ade1d77b",
   "metadata": {},
   "outputs": [],
   "source": [
    "# torch.normal\n",
    "\n",
    "# Returns a tensor of random numbers drawn from separate normal\n",
    "#   distributions whose mean and standard deviation are given.\n",
    "# Note the mean and std parameters can be tensors themselves, then\n",
    "#   elementwise matching of (mean, std) is done for each value.\n",
    "#   Otherwise, give only one value to draw from same distribution."
   ]
  },
  {
   "cell_type": "code",
   "execution_count": 59,
   "id": "a13b6627",
   "metadata": {},
   "outputs": [
    {
     "ename": "TypeError",
     "evalue": "normal() received an invalid combination of arguments - got (std=float, mean=float, ), but expected one of:\n * (Tensor mean, Tensor std, *, torch.Generator generator, Tensor out)\n * (Tensor mean, float std, *, torch.Generator generator, Tensor out)\n * (float mean, Tensor std, *, torch.Generator generator, Tensor out)\n * (float mean, float std, tuple of ints size, *, torch.Generator generator, Tensor out, torch.dtype dtype, torch.layout layout, torch.device device, bool pin_memory, bool requires_grad)\n",
     "output_type": "error",
     "traceback": [
      "\u001b[0;31m---------------------------------------------------------------------------\u001b[0m",
      "\u001b[0;31mTypeError\u001b[0m                                 Traceback (most recent call last)",
      "\u001b[0;32m<ipython-input-59-0d7ee569fa38>\u001b[0m in \u001b[0;36m<module>\u001b[0;34m\u001b[0m\n\u001b[1;32m      1\u001b[0m \u001b[0;31m# FAILS as at least one of them must be a tensor\u001b[0m\u001b[0;34m\u001b[0m\u001b[0;34m\u001b[0m\u001b[0;34m\u001b[0m\u001b[0m\n\u001b[0;32m----> 2\u001b[0;31m \u001b[0mx\u001b[0m \u001b[0;34m=\u001b[0m \u001b[0mtorch\u001b[0m\u001b[0;34m.\u001b[0m\u001b[0mnormal\u001b[0m\u001b[0;34m(\u001b[0m\u001b[0mmean\u001b[0m\u001b[0;34m=\u001b[0m\u001b[0;36m2.5\u001b[0m\u001b[0;34m,\u001b[0m \u001b[0mstd\u001b[0m\u001b[0;34m=\u001b[0m\u001b[0;36m0.5\u001b[0m\u001b[0;34m)\u001b[0m\u001b[0;34m\u001b[0m\u001b[0;34m\u001b[0m\u001b[0m\n\u001b[0m\u001b[1;32m      3\u001b[0m \u001b[0mprint\u001b[0m\u001b[0;34m(\u001b[0m\u001b[0mx\u001b[0m\u001b[0;34m)\u001b[0m\u001b[0;34m\u001b[0m\u001b[0;34m\u001b[0m\u001b[0m\n",
      "\u001b[0;31mTypeError\u001b[0m: normal() received an invalid combination of arguments - got (std=float, mean=float, ), but expected one of:\n * (Tensor mean, Tensor std, *, torch.Generator generator, Tensor out)\n * (Tensor mean, float std, *, torch.Generator generator, Tensor out)\n * (float mean, Tensor std, *, torch.Generator generator, Tensor out)\n * (float mean, float std, tuple of ints size, *, torch.Generator generator, Tensor out, torch.dtype dtype, torch.layout layout, torch.device device, bool pin_memory, bool requires_grad)\n"
     ]
    }
   ],
   "source": [
    "# FAILS as at least one of them must be a tensor\n",
    "x = torch.normal(mean=2.5, std=0.5)\n",
    "print(x)"
   ]
  },
  {
   "cell_type": "code",
   "execution_count": 64,
   "id": "3c72c480",
   "metadata": {
    "scrolled": true
   },
   "outputs": [
    {
     "name": "stdout",
     "output_type": "stream",
     "text": [
      "tensor(2.8794)\n",
      "tensor([  1.6075,   3.3080,  -5.1479, 230.1286])\n",
      "tensor([  0.1937,   2.0393,   7.9612, -12.3243])\n"
     ]
    }
   ],
   "source": [
    "# one value only\n",
    "x = torch.normal(mean=2.5, std=torch.tensor(0.5))\n",
    "print(x)\n",
    "\n",
    "# 4 values with same mean but different std\n",
    "x = torch.normal(mean=2.5, std=torch.tensor([0.5, 2.0, 10.0, 100.0]))\n",
    "print(x)\n",
    "\n",
    "# 4 values with different means and different std\n",
    "x = torch.normal(mean=torch.tensor([0.0, 2.5, 10.0, 20.0]), std=torch.tensor([0.5, 2.0, 10.0, 100.0]))\n",
    "print(x)"
   ]
  },
  {
   "cell_type": "markdown",
   "id": "4783f38a",
   "metadata": {},
   "source": [
    "#### diagonal initialization"
   ]
  },
  {
   "cell_type": "code",
   "execution_count": 94,
   "id": "32e88021",
   "metadata": {},
   "outputs": [
    {
     "name": "stdout",
     "output_type": "stream",
     "text": [
      "tensor([[20,  0,  0],\n",
      "        [ 0, 15,  0],\n",
      "        [ 0,  0, 10]])\n",
      "tensor([[ 0,  0, 20,  0,  0],\n",
      "        [ 0,  0,  0, 15,  0],\n",
      "        [ 0,  0,  0,  0, 10],\n",
      "        [ 0,  0,  0,  0,  0],\n",
      "        [ 0,  0,  0,  0,  0]])\n",
      "tensor([[ 0,  0,  0,  0],\n",
      "        [20,  0,  0,  0],\n",
      "        [ 0, 15,  0,  0],\n",
      "        [ 0,  0, 10,  0]])\n",
      "tensor([[1., 0., 0.],\n",
      "        [0., 1., 0.],\n",
      "        [0., 0., 1.]])\n",
      "tensor([[15, 16, 17, 18, 19],\n",
      "        [20, 21, 22, 23, 24],\n",
      "        [25, 26, 27, 28, 29]])\n",
      "tensor([15, 21, 27])\n",
      "tensor([20, 26])\n",
      "tensor([19])\n"
     ]
    }
   ],
   "source": [
    "# If input is a vector (1-D tensor), then returns a 2-D tensor\n",
    "#   with the elements of input as the diagonal.\n",
    "\n",
    "diag_vals = torch.tensor([20,15,10])\n",
    "\n",
    "# without specifying diagonal parameter,\n",
    "#   uses diagnoal=0 by default and assigns values to main diagonal,\n",
    "#   returns square matrix\n",
    "\n",
    "x = torch.diag(diag_vals) \n",
    "print(x)\n",
    "\n",
    "# to get non-square matrices, specify the diagonal parameter value\n",
    "# diagonal > 0 , it is above main diagonal\n",
    "x = torch.diag(diag_vals, diagonal=2)\n",
    "print(x)\n",
    "# diagonal > 0 , it is below main diagonal\n",
    "x = torch.diag(diag_vals, diagonal=-1)\n",
    "print(x)\n",
    "\n",
    "# using like this equivalent to eye method\n",
    "x = torch.diag(torch.ones(3))\n",
    "print(x)\n",
    "\n",
    "\n",
    "# If input is a matrix (2-D tensor), then returns a 1-D tensor with\n",
    "#   the diagonal elements of input.\n",
    "# Note: input need not be a square matrix only\n",
    "\n",
    "x = torch.arange(start=15, end=30).reshape(3,5)\n",
    "print(x)\n",
    "\n",
    "# extract main diagonal\n",
    "#   equivalent to diagnonal=0\n",
    "print(x.diag())\n",
    "\n",
    "# extract specified diagonal\n",
    "print(x.diag(diagonal=-1))\n",
    "print(x.diag(diagonal=4))"
   ]
  },
  {
   "cell_type": "markdown",
   "id": "477959a8",
   "metadata": {},
   "source": [
    "#### initialize and convert to other types"
   ]
  },
  {
   "cell_type": "code",
   "execution_count": 97,
   "id": "5b7f1360",
   "metadata": {},
   "outputs": [
    {
     "name": "stdout",
     "output_type": "stream",
     "text": [
      "torch.float32\n",
      "tensor([False,  True,  True,  True])\n",
      "tensor([0, 1, 2, 3], dtype=torch.int16)\n",
      "tensor([0, 1, 2, 3])\n",
      "tensor([0., 1., 2., 3.], dtype=torch.float16)\n",
      "tensor([0., 1., 2., 3.])\n",
      "tensor([0., 1., 2., 3.], dtype=torch.float64)\n"
     ]
    }
   ],
   "source": [
    "t = torch.arange(4.) # float32 by default\n",
    "print(t.dtype)\n",
    "\n",
    "print(t.bool())\n",
    "\n",
    "print(t.short()) # int16\n",
    "print(t.long()) # int64\n",
    "print(t.half()) # float16\n",
    "print(t.float()) # float32\n",
    "print(t.double()) # float64"
   ]
  },
  {
   "cell_type": "markdown",
   "id": "be96124a",
   "metadata": {},
   "source": [
    "#### Numpy to and fro Tensors"
   ]
  },
  {
   "cell_type": "code",
   "execution_count": 100,
   "id": "f418fa1a",
   "metadata": {},
   "outputs": [
    {
     "name": "stdout",
     "output_type": "stream",
     "text": [
      "tensor([[0., 0., 0., 0., 0.],\n",
      "        [0., 0., 0., 0., 0.],\n",
      "        [0., 0., 0., 0., 0.],\n",
      "        [0., 0., 0., 0., 0.],\n",
      "        [0., 0., 0., 0., 0.]], dtype=torch.float64)\n",
      "<class 'numpy.ndarray'>\n",
      "[[0. 0. 0. 0. 0.]\n",
      " [0. 0. 0. 0. 0.]\n",
      " [0. 0. 0. 0. 0.]\n",
      " [0. 0. 0. 0. 0.]\n",
      " [0. 0. 0. 0. 0.]]\n"
     ]
    }
   ],
   "source": [
    "np_array = np.zeros((5,5))\n",
    "t = torch.from_numpy(np_array)\n",
    "print(t)\n",
    "np_array_back = t.numpy()\n",
    "print(type(np_array_back))\n",
    "print(np_array_back)"
   ]
  },
  {
   "cell_type": "markdown",
   "id": "2800559c",
   "metadata": {},
   "source": [
    "# Math and Compairson"
   ]
  },
  {
   "cell_type": "code",
   "execution_count": 101,
   "id": "9b65817b",
   "metadata": {},
   "outputs": [],
   "source": [
    "x = torch.tensor([1,2,3])\n",
    "y = torch.tensor([9,8,7])"
   ]
  },
  {
   "cell_type": "markdown",
   "id": "1799e31b",
   "metadata": {},
   "source": [
    "## addition"
   ]
  },
  {
   "cell_type": "code",
   "execution_count": 111,
   "id": "2d2e0ae5",
   "metadata": {},
   "outputs": [
    {
     "name": "stdout",
     "output_type": "stream",
     "text": [
      "tensor([10, 10, 10])\n"
     ]
    }
   ],
   "source": [
    "z = x + y\n",
    "print(z)"
   ]
  },
  {
   "cell_type": "code",
   "execution_count": 109,
   "id": "9ed81b0a",
   "metadata": {},
   "outputs": [
    {
     "name": "stdout",
     "output_type": "stream",
     "text": [
      "tensor([10., 10., 10.])\n"
     ]
    }
   ],
   "source": [
    "z1 = torch.empty(3)\n",
    "torch.add(x,y, out=z1)\n",
    "print(z1)"
   ]
  },
  {
   "cell_type": "code",
   "execution_count": 110,
   "id": "fe09ba28",
   "metadata": {},
   "outputs": [
    {
     "name": "stdout",
     "output_type": "stream",
     "text": [
      "tensor([10, 10, 10])\n"
     ]
    }
   ],
   "source": [
    "z2 = torch.add(x, y)\n",
    "print(z2)"
   ]
  },
  {
   "cell_type": "markdown",
   "id": "2f928ff1",
   "metadata": {},
   "source": [
    "## subtraction"
   ]
  },
  {
   "cell_type": "code",
   "execution_count": 112,
   "id": "85b771e9",
   "metadata": {},
   "outputs": [
    {
     "name": "stdout",
     "output_type": "stream",
     "text": [
      "tensor([-8, -6, -4])\n"
     ]
    }
   ],
   "source": [
    "z = x - y\n",
    "print(z)"
   ]
  },
  {
   "cell_type": "markdown",
   "id": "3d9dd2cf",
   "metadata": {},
   "source": [
    "## division"
   ]
  },
  {
   "cell_type": "code",
   "execution_count": 113,
   "id": "e2910b05",
   "metadata": {},
   "outputs": [
    {
     "name": "stdout",
     "output_type": "stream",
     "text": [
      "tensor([0.1111, 0.2500, 0.4286])\n"
     ]
    }
   ],
   "source": [
    "# element wise division if by equal shape\n",
    "z = torch.true_divide(x, y)\n",
    "print(z)"
   ]
  },
  {
   "cell_type": "code",
   "execution_count": 114,
   "id": "6a54588b",
   "metadata": {},
   "outputs": [
    {
     "name": "stdout",
     "output_type": "stream",
     "text": [
      "tensor([0.1111, 0.2500, 0.4286])\n"
     ]
    }
   ],
   "source": [
    "z = x / y\n",
    "print(z)"
   ]
  },
  {
   "cell_type": "markdown",
   "id": "8ecae2b9",
   "metadata": {},
   "source": [
    "## transpose"
   ]
  },
  {
   "cell_type": "code",
   "execution_count": 292,
   "id": "ae517429",
   "metadata": {},
   "outputs": [
    {
     "name": "stdout",
     "output_type": "stream",
     "text": [
      "tensor([[0, 1, 2, 3, 4],\n",
      "        [5, 6, 7, 8, 9]])\n",
      "\n",
      "tensor([[0, 5],\n",
      "        [1, 6],\n",
      "        [2, 7],\n",
      "        [3, 8],\n",
      "        [4, 9]])\n"
     ]
    }
   ],
   "source": [
    "x = torch.arange(10).reshape(2,5)\n",
    "print(x)\n",
    "print()\n",
    "print(x.t())"
   ]
  },
  {
   "cell_type": "markdown",
   "id": "79669cd1",
   "metadata": {},
   "source": [
    "## in-place operations\n",
    "\n",
    "operation followed by _ means its an in-place operation"
   ]
  },
  {
   "cell_type": "code",
   "execution_count": 127,
   "id": "88e84f03",
   "metadata": {},
   "outputs": [
    {
     "data": {
      "text/plain": [
       "tensor([1., 2., 3.])"
      ]
     },
     "execution_count": 127,
     "metadata": {},
     "output_type": "execute_result"
    }
   ],
   "source": [
    "t = torch.zeros(3)\n",
    "t.add_(x) # this is in-place\n",
    "t"
   ]
  },
  {
   "cell_type": "code",
   "execution_count": 128,
   "id": "b9543785",
   "metadata": {},
   "outputs": [
    {
     "data": {
      "text/plain": [
       "tensor([2., 4., 6.])"
      ]
     },
     "execution_count": 128,
     "metadata": {},
     "output_type": "execute_result"
    }
   ],
   "source": [
    "t += x # is in-place\n",
    "t"
   ]
  },
  {
   "cell_type": "code",
   "execution_count": 129,
   "id": "77c8882e",
   "metadata": {},
   "outputs": [
    {
     "data": {
      "text/plain": [
       "tensor([3., 6., 9.])"
      ]
     },
     "execution_count": 129,
     "metadata": {},
     "output_type": "execute_result"
    }
   ],
   "source": [
    "t = t + x # NOT in-place\n",
    "t"
   ]
  },
  {
   "cell_type": "markdown",
   "id": "c77c2f91",
   "metadata": {},
   "source": [
    "## exponentiation"
   ]
  },
  {
   "cell_type": "code",
   "execution_count": 146,
   "id": "132a8add",
   "metadata": {},
   "outputs": [
    {
     "name": "stdout",
     "output_type": "stream",
     "text": [
      "tensor([1, 2, 3]) tensor([9, 8, 7])\n"
     ]
    }
   ],
   "source": [
    "print(x, y)"
   ]
  },
  {
   "cell_type": "code",
   "execution_count": 132,
   "id": "236a1cf8",
   "metadata": {},
   "outputs": [
    {
     "name": "stdout",
     "output_type": "stream",
     "text": [
      "tensor([1, 4, 9])\n"
     ]
    }
   ],
   "source": [
    "z = x ** 2 # value 2 is being broadcast here\n",
    "print(z)"
   ]
  },
  {
   "cell_type": "code",
   "execution_count": 134,
   "id": "069f845e",
   "metadata": {},
   "outputs": [
    {
     "name": "stdout",
     "output_type": "stream",
     "text": [
      "tensor([1, 4, 9])\n"
     ]
    }
   ],
   "source": [
    "# same as before by longer way\n",
    "z = x.pow(2)\n",
    "print(z)"
   ]
  },
  {
   "cell_type": "code",
   "execution_count": 148,
   "id": "67992495",
   "metadata": {},
   "outputs": [
    {
     "name": "stdout",
     "output_type": "stream",
     "text": [
      "tensor([  9,  64, 343])\n"
     ]
    }
   ],
   "source": [
    "# element-wise exponentation\n",
    "z = y ** x\n",
    "print(z)"
   ]
  },
  {
   "cell_type": "markdown",
   "id": "3c682e1b",
   "metadata": {},
   "source": [
    "## simple comparison"
   ]
  },
  {
   "cell_type": "code",
   "execution_count": 135,
   "id": "e2767fd5",
   "metadata": {},
   "outputs": [
    {
     "name": "stdout",
     "output_type": "stream",
     "text": [
      "tensor([False,  True,  True])\n"
     ]
    }
   ],
   "source": [
    "z = x > 1\n",
    "print(z)"
   ]
  },
  {
   "cell_type": "markdown",
   "id": "015eb4fe",
   "metadata": {},
   "source": [
    "## multiplication"
   ]
  },
  {
   "cell_type": "markdown",
   "id": "151933b0",
   "metadata": {},
   "source": [
    "#### Matrix multiplication"
   ]
  },
  {
   "cell_type": "code",
   "execution_count": 160,
   "id": "b507751a",
   "metadata": {},
   "outputs": [
    {
     "name": "stdout",
     "output_type": "stream",
     "text": [
      "tensor([[2.1266, 1.8037, 1.3765],\n",
      "        [1.6554, 1.2083, 0.8900]])\n",
      "tensor([[2.1266, 1.8037, 1.3765],\n",
      "        [1.6554, 1.2083, 0.8900]])\n"
     ]
    }
   ],
   "source": [
    "x1 = torch.rand((2,5)) # 2x5\n",
    "x2 = torch.rand((5,3)) # 5x3\n",
    "\n",
    "x3 = torch.mm(x1, x2) # 2x3\n",
    "print(x3)\n",
    "\n",
    "x3 = x1.mm(x2) # same as before\n",
    "print(x3)"
   ]
  },
  {
   "cell_type": "markdown",
   "id": "214e8a80",
   "metadata": {},
   "source": [
    "#### Matrix exponentiation - multiple matrix by itself"
   ]
  },
  {
   "cell_type": "code",
   "execution_count": 137,
   "id": "e9412a5f",
   "metadata": {},
   "outputs": [
    {
     "name": "stdout",
     "output_type": "stream",
     "text": [
      "tensor([[1.2525, 1.9520, 1.8412, 1.1724, 1.8154],\n",
      "        [0.2394, 0.3470, 0.3323, 0.2196, 0.3154],\n",
      "        [3.5285, 5.0774, 4.8215, 3.2805, 4.8000],\n",
      "        [1.5581, 2.3028, 2.1882, 1.4495, 2.1134],\n",
      "        [2.5509, 3.7748, 3.5391, 2.3980, 3.5059]])\n"
     ]
    }
   ],
   "source": [
    "matrix_exp = torch.rand(5,5)\n",
    "print(matrix_exp.matrix_power(3))"
   ]
  },
  {
   "cell_type": "markdown",
   "id": "2f75637d",
   "metadata": {},
   "source": [
    "#### element wise multiplication"
   ]
  },
  {
   "cell_type": "code",
   "execution_count": 139,
   "id": "1c9b517b",
   "metadata": {},
   "outputs": [
    {
     "name": "stdout",
     "output_type": "stream",
     "text": [
      "tensor([1, 2, 3]) tensor([9, 8, 7])\n"
     ]
    }
   ],
   "source": [
    "print(x , y)"
   ]
  },
  {
   "cell_type": "code",
   "execution_count": 140,
   "id": "7fe0c118",
   "metadata": {},
   "outputs": [
    {
     "name": "stdout",
     "output_type": "stream",
     "text": [
      "tensor([ 9, 16, 21])\n"
     ]
    }
   ],
   "source": [
    "z = x * y\n",
    "print(z)"
   ]
  },
  {
   "cell_type": "code",
   "execution_count": 141,
   "id": "a1a52f0d",
   "metadata": {},
   "outputs": [
    {
     "name": "stdout",
     "output_type": "stream",
     "text": [
      "tensor(46)\n"
     ]
    }
   ],
   "source": [
    "#### dot product\n",
    "z = torch.dot(x, y)\n",
    "print(z)"
   ]
  },
  {
   "cell_type": "markdown",
   "id": "736b0709",
   "metadata": {},
   "source": [
    "#### batch matrix multiplication"
   ]
  },
  {
   "cell_type": "code",
   "execution_count": 142,
   "id": "3d6975ec",
   "metadata": {},
   "outputs": [],
   "source": [
    "batch = 32\n",
    "n, m, p = 10, 20, 30"
   ]
  },
  {
   "cell_type": "code",
   "execution_count": 143,
   "id": "6ad6c9c6",
   "metadata": {},
   "outputs": [
    {
     "name": "stdout",
     "output_type": "stream",
     "text": [
      "torch.Size([32, 10, 30])\n"
     ]
    }
   ],
   "source": [
    "t1 = torch.rand(batch, n, m) # 32x10x20\n",
    "t2 = torch.rand(batch, m, p) # 32x20x30\n",
    "t_bmm = torch.bmm(t1, t2) # 32x10x30\n",
    "print(t_bmm.shape)"
   ]
  },
  {
   "cell_type": "markdown",
   "id": "72a84a9b",
   "metadata": {},
   "source": [
    "## broadcasting\n",
    "\n",
    "expands dimensions automatically as required to complete operation"
   ]
  },
  {
   "cell_type": "code",
   "execution_count": 144,
   "id": "3b069544",
   "metadata": {},
   "outputs": [],
   "source": [
    "x1 = torch.rand(5,5)\n",
    "x2 = torch.rand(1,5)\n",
    "\n",
    "z = x1 - x2 # works due to broadcasting"
   ]
  },
  {
   "cell_type": "markdown",
   "id": "1fdae82f",
   "metadata": {},
   "source": [
    "## other useful tensor operations"
   ]
  },
  {
   "cell_type": "code",
   "execution_count": null,
   "id": "4c321d65",
   "metadata": {},
   "outputs": [],
   "source": [
    "#### get random permutation"
   ]
  },
  {
   "cell_type": "code",
   "execution_count": 170,
   "id": "8f94dbb1",
   "metadata": {},
   "outputs": [
    {
     "data": {
      "text/plain": [
       "tensor([9, 2, 3, 0, 8, 7, 1, 4, 5, 6])"
      ]
     },
     "execution_count": 170,
     "metadata": {},
     "output_type": "execute_result"
    }
   ],
   "source": [
    "torch.randperm(10)"
   ]
  },
  {
   "cell_type": "markdown",
   "id": "95ae7f55",
   "metadata": {},
   "source": [
    "#### sum across dimensions"
   ]
  },
  {
   "cell_type": "code",
   "execution_count": 177,
   "id": "4807ff51",
   "metadata": {},
   "outputs": [
    {
     "data": {
      "text/plain": [
       "tensor([[[11, 10,  3, 13],\n",
       "         [19,  4, 14, 22],\n",
       "         [ 1,  6, 21, 23]],\n",
       "\n",
       "        [[ 0,  9,  7,  5],\n",
       "         [17, 16, 20,  2],\n",
       "         [18,  8, 15, 12]]])"
      ]
     },
     "execution_count": 177,
     "metadata": {},
     "output_type": "execute_result"
    }
   ],
   "source": [
    "a = torch.randperm(24).reshape(2,3,4)\n",
    "a"
   ]
  },
  {
   "cell_type": "code",
   "execution_count": 178,
   "id": "a6e63c67",
   "metadata": {},
   "outputs": [
    {
     "name": "stdout",
     "output_type": "stream",
     "text": [
      "tensor(276)\n",
      "tensor([[11, 19, 10, 18],\n",
      "        [36, 20, 34, 24],\n",
      "        [19, 14, 36, 35]])\n",
      "torch.Size([3, 4])\n",
      "tensor([[31, 20, 38, 58],\n",
      "        [35, 33, 42, 19]])\n",
      "torch.Size([2, 4])\n",
      "tensor([[37, 59, 51],\n",
      "        [21, 55, 53]])\n",
      "torch.Size([2, 3])\n"
     ]
    }
   ],
   "source": [
    "sum_a = torch.sum(a) # ignore all dims and treat as flat vector\n",
    "print(sum_a)\n",
    "\n",
    "sum_a = torch.sum(a, dim=0) \n",
    "print(sum_a)\n",
    "print(sum_a.shape)\n",
    "\n",
    "sum_a = torch.sum(a, dim=1)\n",
    "print(sum_a)\n",
    "print(sum_a.shape)\n",
    "\n",
    "sum_a = torch.sum(a, dim=2)\n",
    "print(sum_a)\n",
    "print(sum_a.shape)"
   ]
  },
  {
   "cell_type": "markdown",
   "id": "85a6d36c",
   "metadata": {},
   "source": [
    "#### min and max - returns values and the indices"
   ]
  },
  {
   "cell_type": "code",
   "execution_count": 179,
   "id": "ced7ad11",
   "metadata": {},
   "outputs": [
    {
     "data": {
      "text/plain": [
       "tensor([4, 1, 2, 3, 5, 0])"
      ]
     },
     "execution_count": 179,
     "metadata": {},
     "output_type": "execute_result"
    }
   ],
   "source": [
    "a = torch.randperm(6)\n",
    "a"
   ]
  },
  {
   "cell_type": "code",
   "execution_count": 180,
   "id": "bb84afad",
   "metadata": {},
   "outputs": [
    {
     "name": "stdout",
     "output_type": "stream",
     "text": [
      "tensor(5)\n",
      "tensor(4)\n"
     ]
    }
   ],
   "source": [
    "values, indices = torch.max(a, dim=0)\n",
    "print(values)\n",
    "print(indices)"
   ]
  },
  {
   "cell_type": "code",
   "execution_count": 185,
   "id": "a7c4b24d",
   "metadata": {},
   "outputs": [
    {
     "data": {
      "text/plain": [
       "tensor([[[ 0,  1,  2,  3],\n",
       "         [ 4,  5,  6,  7],\n",
       "         [ 8,  9, 10, 11]],\n",
       "\n",
       "        [[12, 13, 14, 15],\n",
       "         [16, 17, 18, 19],\n",
       "         [20, 21, 22, 23]]])"
      ]
     },
     "execution_count": 185,
     "metadata": {},
     "output_type": "execute_result"
    }
   ],
   "source": [
    "a = torch.arange(24).reshape(2,3,4)\n",
    "a"
   ]
  },
  {
   "cell_type": "code",
   "execution_count": 186,
   "id": "0d495aa1",
   "metadata": {},
   "outputs": [
    {
     "name": "stdout",
     "output_type": "stream",
     "text": [
      "tensor([[12, 13, 14, 15],\n",
      "        [16, 17, 18, 19],\n",
      "        [20, 21, 22, 23]])\n",
      "tensor([[1, 1, 1, 1],\n",
      "        [1, 1, 1, 1],\n",
      "        [1, 1, 1, 1]])\n",
      "\n",
      "\n",
      "tensor([[ 8,  9, 10, 11],\n",
      "        [20, 21, 22, 23]])\n",
      "tensor([[2, 2, 2, 2],\n",
      "        [2, 2, 2, 2]])\n",
      "\n",
      "\n",
      "tensor([[ 3,  7, 11],\n",
      "        [15, 19, 23]])\n",
      "tensor([[3, 3, 3],\n",
      "        [3, 3, 3]])\n"
     ]
    }
   ],
   "source": [
    "values, indices = torch.max(a, dim=0)\n",
    "print(values)\n",
    "print(indices)\n",
    "\n",
    "print(f\"\\n\")\n",
    "values, indices = torch.max(a, dim=1)\n",
    "print(values)\n",
    "print(indices)\n",
    "\n",
    "print(f\"\\n\")\n",
    "values, indices = torch.max(a, dim=2)\n",
    "print(values)\n",
    "print(indices)"
   ]
  },
  {
   "cell_type": "markdown",
   "id": "b4bf7829",
   "metadata": {},
   "source": [
    "#### argmax argmix"
   ]
  },
  {
   "cell_type": "code",
   "execution_count": 189,
   "id": "15a81827",
   "metadata": {},
   "outputs": [
    {
     "data": {
      "text/plain": [
       "tensor([[[11,  0, 22, 21],\n",
       "         [10, 14, 18,  5],\n",
       "         [13,  2,  6,  1]],\n",
       "\n",
       "        [[15, 19,  9, 16],\n",
       "         [23,  7, 17, 20],\n",
       "         [12,  3,  4,  8]]])"
      ]
     },
     "execution_count": 189,
     "metadata": {},
     "output_type": "execute_result"
    }
   ],
   "source": [
    "a = torch.randperm(24).reshape(2,3,4)\n",
    "a"
   ]
  },
  {
   "cell_type": "code",
   "execution_count": 190,
   "id": "600f3463",
   "metadata": {},
   "outputs": [
    {
     "name": "stdout",
     "output_type": "stream",
     "text": [
      "tensor([[1, 1, 0, 0],\n",
      "        [1, 0, 0, 1],\n",
      "        [0, 1, 0, 1]])\n",
      "\n",
      "\n",
      "tensor([[2, 1, 0, 0],\n",
      "        [1, 0, 1, 1]])\n",
      "\n",
      "\n",
      "\n",
      "\n",
      "tensor([[2, 2, 0],\n",
      "        [1, 0, 0]])\n"
     ]
    }
   ],
   "source": [
    "indices = torch.argmax(a, dim=0)\n",
    "print(indices)\n",
    "\n",
    "print(f\"\\n\")\n",
    "indices = torch.argmax(a, dim=1)\n",
    "print(indices)\n",
    "\n",
    "print(f\"\\n\")\n",
    "print(f\"\\n\")\n",
    "indices = torch.argmax(a, dim=2)\n",
    "print(indices)"
   ]
  },
  {
   "cell_type": "code",
   "execution_count": 191,
   "id": "a7d04bb0",
   "metadata": {},
   "outputs": [
    {
     "name": "stdout",
     "output_type": "stream",
     "text": [
      "tensor([[0, 0, 1, 1],\n",
      "        [0, 1, 1, 0],\n",
      "        [1, 0, 1, 0]])\n",
      "\n",
      "\n",
      "tensor([[1, 0, 2, 2],\n",
      "        [2, 2, 2, 2]])\n",
      "\n",
      "\n",
      "\n",
      "\n",
      "tensor([[1, 3, 3],\n",
      "        [2, 1, 1]])\n"
     ]
    }
   ],
   "source": [
    "indices = torch.argmin(a, dim=0)\n",
    "print(indices)\n",
    "\n",
    "print(f\"\\n\")\n",
    "indices = torch.argmin(a, dim=1)\n",
    "print(indices)\n",
    "\n",
    "print(f\"\\n\")\n",
    "print(f\"\\n\")\n",
    "indices = torch.argmin(a, dim=2)\n",
    "print(indices)"
   ]
  },
  {
   "cell_type": "markdown",
   "id": "92ccf8c6",
   "metadata": {},
   "source": [
    " #### absolute value"
   ]
  },
  {
   "cell_type": "code",
   "execution_count": 183,
   "id": "d5022cf9",
   "metadata": {},
   "outputs": [
    {
     "name": "stdout",
     "output_type": "stream",
     "text": [
      "tensor([-2, -1,  0,  1,  2])\n",
      "tensor([2, 1, 0, 1, 2])\n"
     ]
    }
   ],
   "source": [
    "a = torch.arange(-2, 3)\n",
    "print(a)\n",
    "\n",
    "abs_a = torch.abs(a)\n",
    "print(abs_a)"
   ]
  },
  {
   "cell_type": "markdown",
   "id": "3aa7eec7",
   "metadata": {},
   "source": [
    "#### mean\n",
    "\n",
    "Note: works only on floats"
   ]
  },
  {
   "cell_type": "code",
   "execution_count": 193,
   "id": "8374cd60",
   "metadata": {},
   "outputs": [
    {
     "name": "stdout",
     "output_type": "stream",
     "text": [
      "tensor([-2, -1,  0,  1,  2])\n"
     ]
    },
    {
     "ename": "RuntimeError",
     "evalue": "Can only calculate the mean of floating types. Got Long instead.",
     "output_type": "error",
     "traceback": [
      "\u001b[0;31m---------------------------------------------------------------------------\u001b[0m",
      "\u001b[0;31mRuntimeError\u001b[0m                              Traceback (most recent call last)",
      "\u001b[0;32m<ipython-input-193-624977e29570>\u001b[0m in \u001b[0;36m<module>\u001b[0;34m\u001b[0m\n\u001b[1;32m      2\u001b[0m \u001b[0mprint\u001b[0m\u001b[0;34m(\u001b[0m\u001b[0ma\u001b[0m\u001b[0;34m)\u001b[0m\u001b[0;34m\u001b[0m\u001b[0;34m\u001b[0m\u001b[0m\n\u001b[1;32m      3\u001b[0m \u001b[0;34m\u001b[0m\u001b[0m\n\u001b[0;32m----> 4\u001b[0;31m \u001b[0mmean_a\u001b[0m \u001b[0;34m=\u001b[0m \u001b[0mtorch\u001b[0m\u001b[0;34m.\u001b[0m\u001b[0mmean\u001b[0m\u001b[0;34m(\u001b[0m\u001b[0ma\u001b[0m\u001b[0;34m)\u001b[0m\u001b[0;34m\u001b[0m\u001b[0;34m\u001b[0m\u001b[0m\n\u001b[0m\u001b[1;32m      5\u001b[0m \u001b[0mprint\u001b[0m\u001b[0;34m(\u001b[0m\u001b[0mmean_a\u001b[0m\u001b[0;34m)\u001b[0m\u001b[0;34m\u001b[0m\u001b[0;34m\u001b[0m\u001b[0m\n",
      "\u001b[0;31mRuntimeError\u001b[0m: Can only calculate the mean of floating types. Got Long instead."
     ]
    }
   ],
   "source": [
    "a = torch.arange(-2, 3)\n",
    "print(a)\n",
    "\n",
    "mean_a = torch.mean(a)\n",
    "print(mean_a)"
   ]
  },
  {
   "cell_type": "code",
   "execution_count": 197,
   "id": "1b257d91",
   "metadata": {},
   "outputs": [
    {
     "name": "stdout",
     "output_type": "stream",
     "text": [
      "tensor([-2., -1.,  0.,  1.,  2.])\n",
      "tensor(0.)\n"
     ]
    }
   ],
   "source": [
    "a = torch.arange(-2, 3).float()\n",
    "print(a)\n",
    "\n",
    "mean_a = torch.mean(a, dim=0)\n",
    "print(mean_a)"
   ]
  },
  {
   "cell_type": "code",
   "execution_count": 199,
   "id": "fc0a3a13",
   "metadata": {},
   "outputs": [
    {
     "name": "stdout",
     "output_type": "stream",
     "text": [
      "tensor([[0., 1., 2.],\n",
      "        [3., 4., 5.]])\n",
      "tensor([1.5000, 2.5000, 3.5000])\n",
      "tensor([1., 4.])\n"
     ]
    }
   ],
   "source": [
    "a = torch.arange(6).float().reshape(2,3)\n",
    "print(a)\n",
    "\n",
    "mean_a = torch.mean(a, dim=0)\n",
    "print(mean_a)\n",
    "\n",
    "mean_a = torch.mean(a, dim=1)\n",
    "print(mean_a)"
   ]
  },
  {
   "cell_type": "markdown",
   "id": "69d778b9",
   "metadata": {},
   "source": [
    "#### elementwise comparison"
   ]
  },
  {
   "cell_type": "code",
   "execution_count": 201,
   "id": "57f501bf",
   "metadata": {},
   "outputs": [
    {
     "name": "stdout",
     "output_type": "stream",
     "text": [
      "tensor([1, 2, 3]) tensor([9, 8, 7])\n",
      "tensor([False, False, False])\n"
     ]
    }
   ],
   "source": [
    "print(x, y)\n",
    "\n",
    "z = torch.eq(x, y)\n",
    "print(z)"
   ]
  },
  {
   "cell_type": "markdown",
   "id": "4b889e52",
   "metadata": {},
   "source": [
    "#### sorting"
   ]
  },
  {
   "cell_type": "code",
   "execution_count": 207,
   "id": "38f65f5c",
   "metadata": {},
   "outputs": [
    {
     "name": "stdout",
     "output_type": "stream",
     "text": [
      "tensor([[5, 1, 6, 7],\n",
      "        [0, 3, 4, 2]])\n",
      "tensor([[0, 1, 4, 2],\n",
      "        [5, 3, 6, 7]])\n",
      "tensor([[1, 0, 1, 1],\n",
      "        [0, 1, 0, 0]])\n",
      "tensor([[7, 6, 5, 1],\n",
      "        [4, 3, 2, 0]])\n",
      "tensor([[3, 2, 0, 1],\n",
      "        [2, 1, 3, 0]])\n"
     ]
    }
   ],
   "source": [
    "a = torch.randperm(8).reshape(2,4)\n",
    "print(a)\n",
    "\n",
    "sorted_a, indices = torch.sort(a, dim=0, descending=False)\n",
    "print(sorted_a)\n",
    "print(indices)\n",
    "\n",
    "sorted_a, indices = torch.sort(a, dim=1, descending=True)\n",
    "print(sorted_a)\n",
    "print(indices)"
   ]
  },
  {
   "cell_type": "markdown",
   "id": "80c5182a",
   "metadata": {},
   "source": [
    "#### clamp"
   ]
  },
  {
   "cell_type": "code",
   "execution_count": 208,
   "id": "2c63d5b2",
   "metadata": {},
   "outputs": [
    {
     "name": "stdout",
     "output_type": "stream",
     "text": [
      "tensor([[7, 2, 5, 3],\n",
      "        [1, 0, 4, 6]])\n",
      "tensor([[6, 2, 5, 3],\n",
      "        [1, 1, 4, 6]])\n"
     ]
    }
   ],
   "source": [
    "a = torch.randperm(8).reshape(2,4)\n",
    "print(a)\n",
    "\n",
    "z = torch.clamp(a, min=1.5, max=6.5)\n",
    "print(z)"
   ]
  },
  {
   "cell_type": "code",
   "execution_count": null,
   "id": "41060f4a",
   "metadata": {},
   "outputs": [],
   "source": [
    "# torch.relu is special case of clamping equivalent\n",
    "#  to torch.clamp(x, min=0)"
   ]
  },
  {
   "cell_type": "markdown",
   "id": "16b539e9",
   "metadata": {},
   "source": [
    "#### any all"
   ]
  },
  {
   "cell_type": "code",
   "execution_count": 210,
   "id": "fd49edff",
   "metadata": {},
   "outputs": [
    {
     "name": "stdout",
     "output_type": "stream",
     "text": [
      "tensor([[7, 2, 5, 3],\n",
      "        [1, 0, 4, 6]])\n",
      "tensor(True)\n",
      "tensor(False)\n"
     ]
    }
   ],
   "source": [
    "print(a)\n",
    "\n",
    "z = torch.any(a) # any one value is truthy?\n",
    "print(z)\n",
    "\n",
    "z = torch.all(a) # all values truthy?\n",
    "print(z)"
   ]
  },
  {
   "cell_type": "markdown",
   "id": "fd675b49",
   "metadata": {},
   "source": [
    "# Indexing"
   ]
  },
  {
   "cell_type": "code",
   "execution_count": 234,
   "id": "7903c8e7",
   "metadata": {},
   "outputs": [
    {
     "name": "stdout",
     "output_type": "stream",
     "text": [
      "torch.Size([3, 5])\n",
      "tensor([[ 0,  1,  2,  3,  4],\n",
      "        [ 5,  6,  7,  8,  9],\n",
      "        [10, 11, 12, 13, 14]])\n"
     ]
    }
   ],
   "source": [
    "batch_size = 3\n",
    "features = 5\n",
    "\n",
    "x = torch.arange(batch_size*features).reshape(batch_size, features)\n",
    "print(x.shape)\n",
    "print(x)"
   ]
  },
  {
   "cell_type": "code",
   "execution_count": 272,
   "id": "dd66c657",
   "metadata": {},
   "outputs": [
    {
     "name": "stdout",
     "output_type": "stream",
     "text": [
      "tensor([[ 0,  2,  4],\n",
      "        [ 5,  7,  9],\n",
      "        [10, 12, 14]])\n"
     ]
    }
   ],
   "source": [
    "# for all rows, take odd position elements\n",
    "print(x[:, 0::2])"
   ]
  },
  {
   "cell_type": "code",
   "execution_count": 231,
   "id": "853c2bb0",
   "metadata": {},
   "outputs": [
    {
     "name": "stdout",
     "output_type": "stream",
     "text": [
      "tensor([0, 1, 2, 3, 4])\n"
     ]
    }
   ],
   "source": [
    "# get all features of first batch\n",
    "print(x[0]) # equivalent to x[0, :]"
   ]
  },
  {
   "cell_type": "code",
   "execution_count": 232,
   "id": "d31af702",
   "metadata": {},
   "outputs": [
    {
     "name": "stdout",
     "output_type": "stream",
     "text": [
      "tensor([ 1,  6, 11])\n"
     ]
    }
   ],
   "source": [
    "# get only 2nd feature of all batchs\n",
    "print(x[:, 1])"
   ]
  },
  {
   "cell_type": "code",
   "execution_count": 243,
   "id": "5f0e3d2b",
   "metadata": {},
   "outputs": [
    {
     "name": "stdout",
     "output_type": "stream",
     "text": [
      "tensor([11,  9])\n"
     ]
    }
   ],
   "source": [
    "# get certain features of certain batches\n",
    "#   takes 2,1 and 1,4 positions returns 2 values\n",
    "#   NOT the 2nd and 1st rows, columns positions 1 and\n",
    "#      4 which would return 4 values\n",
    "rows = torch.tensor([2, 1])\n",
    "cols = torch.tensor([1, 4])\n",
    "print(x[rows, cols])"
   ]
  },
  {
   "cell_type": "markdown",
   "id": "31a988f3",
   "metadata": {},
   "source": [
    "#### extract based on conditions"
   ]
  },
  {
   "cell_type": "code",
   "execution_count": 271,
   "id": "7d5ebb39",
   "metadata": {},
   "outputs": [
    {
     "data": {
      "text/plain": [
       "tensor([[ 0,  1,  2,  3,  4],\n",
       "        [ 5,  6,  7,  8,  9],\n",
       "        [10, 11, 12, 13, 14]])"
      ]
     },
     "execution_count": 271,
     "metadata": {},
     "output_type": "execute_result"
    }
   ],
   "source": [
    "x"
   ]
  },
  {
   "cell_type": "code",
   "execution_count": 266,
   "id": "054dba96",
   "metadata": {},
   "outputs": [
    {
     "name": "stdout",
     "output_type": "stream",
     "text": [
      "tensor([ 0,  1,  2, 11, 12, 13, 14])\n"
     ]
    }
   ],
   "source": [
    "print(x[ (x<3) | (x>10) ])"
   ]
  },
  {
   "cell_type": "code",
   "execution_count": 267,
   "id": "87c8b638",
   "metadata": {},
   "outputs": [
    {
     "ename": "RuntimeError",
     "evalue": "Boolean value of Tensor with more than one value is ambiguous",
     "output_type": "error",
     "traceback": [
      "\u001b[0;31m---------------------------------------------------------------------------\u001b[0m",
      "\u001b[0;31mRuntimeError\u001b[0m                              Traceback (most recent call last)",
      "\u001b[0;32m<ipython-input-267-877aee1b9fa9>\u001b[0m in \u001b[0;36m<module>\u001b[0;34m\u001b[0m\n\u001b[0;32m----> 1\u001b[0;31m \u001b[0mprint\u001b[0m\u001b[0;34m(\u001b[0m\u001b[0mx\u001b[0m\u001b[0;34m[\u001b[0m \u001b[0;34m(\u001b[0m\u001b[0;36m3\u001b[0m\u001b[0;34m<\u001b[0m\u001b[0mx\u001b[0m\u001b[0;34m<\u001b[0m\u001b[0;36m10\u001b[0m\u001b[0;34m)\u001b[0m \u001b[0;34m]\u001b[0m\u001b[0;34m)\u001b[0m\u001b[0;34m\u001b[0m\u001b[0;34m\u001b[0m\u001b[0m\n\u001b[0m",
      "\u001b[0;31mRuntimeError\u001b[0m: Boolean value of Tensor with more than one value is ambiguous"
     ]
    }
   ],
   "source": [
    "print(x[ (3<x<10) ])"
   ]
  },
  {
   "cell_type": "code",
   "execution_count": 268,
   "id": "1e6d68da",
   "metadata": {},
   "outputs": [
    {
     "name": "stdout",
     "output_type": "stream",
     "text": [
      "tensor([4, 5, 6, 7, 8, 9])\n"
     ]
    }
   ],
   "source": [
    "print(x[ (x>3) & (x<10) ])"
   ]
  },
  {
   "cell_type": "code",
   "execution_count": 270,
   "id": "62b9baed",
   "metadata": {},
   "outputs": [
    {
     "name": "stdout",
     "output_type": "stream",
     "text": [
      "tensor([ 1,  4,  7, 10, 13])\n"
     ]
    }
   ],
   "source": [
    "# extract elements with remainder\n",
    "print(x[ x.remainder(3) == 1 ])"
   ]
  },
  {
   "cell_type": "markdown",
   "id": "cdf724fb",
   "metadata": {},
   "source": [
    "#### where"
   ]
  },
  {
   "cell_type": "code",
   "execution_count": 276,
   "id": "15533805",
   "metadata": {},
   "outputs": [
    {
     "name": "stdout",
     "output_type": "stream",
     "text": [
      "tensor([[ 0,  1,  2,  3,  4],\n",
      "        [ 5,  6,  7,  8,  9],\n",
      "        [10, 11, 12, 13, 14]])\n"
     ]
    }
   ],
   "source": [
    "batch_size = 3\n",
    "features = 5\n",
    "\n",
    "x = torch.arange(batch_size*features).reshape(batch_size, features)\n",
    "print(x)"
   ]
  },
  {
   "cell_type": "code",
   "execution_count": 277,
   "id": "a11b0fa7",
   "metadata": {},
   "outputs": [
    {
     "name": "stdout",
     "output_type": "stream",
     "text": [
      "tensor([[ 0,  2,  4,  6,  8],\n",
      "        [10, 12, 14,  8,  9],\n",
      "        [10, 11, 12, 13, 14]])\n"
     ]
    }
   ],
   "source": [
    "print(torch.where(x>7, x, x*2))"
   ]
  },
  {
   "cell_type": "markdown",
   "id": "4ac72f21",
   "metadata": {},
   "source": [
    "#### unique values"
   ]
  },
  {
   "cell_type": "code",
   "execution_count": 278,
   "id": "3d89760f",
   "metadata": {},
   "outputs": [
    {
     "name": "stdout",
     "output_type": "stream",
     "text": [
      "tensor([ 0,  1,  2,  3,  4,  5,  6,  7,  8,  9, 10, 11, 12, 13, 14])\n"
     ]
    }
   ],
   "source": [
    "print(x.unique())"
   ]
  },
  {
   "cell_type": "markdown",
   "id": "8ef34eb3",
   "metadata": {},
   "source": [
    "#### dimensions shape numel"
   ]
  },
  {
   "cell_type": "code",
   "execution_count": 287,
   "id": "6ea66f54",
   "metadata": {},
   "outputs": [
    {
     "name": "stdout",
     "output_type": "stream",
     "text": [
      "torch.Size([3, 5])\n",
      "\n",
      "2\n",
      "\n",
      "15\n",
      "15\n"
     ]
    }
   ],
   "source": [
    "print(x.shape)\n",
    "print()\n",
    "print(x.ndimension())\n",
    "print()\n",
    "print(x.numel())\n",
    "print(x.nelement())"
   ]
  },
  {
   "cell_type": "markdown",
   "id": "7c36e159",
   "metadata": {},
   "source": [
    "# Reshaping\n",
    "\n",
    "view - contiguous memory is used<br>\n",
    "superior performance, but can fail if contiguous mem. not available\n",
    "\n",
    "reshape - not contiguous<br>\n",
    "slower, but always safer to use"
   ]
  },
  {
   "cell_type": "code",
   "execution_count": 293,
   "id": "ff9c7f9e",
   "metadata": {},
   "outputs": [],
   "source": [
    "x = torch.arange(9)"
   ]
  },
  {
   "cell_type": "code",
   "execution_count": 294,
   "id": "e9d9000a",
   "metadata": {},
   "outputs": [
    {
     "name": "stdout",
     "output_type": "stream",
     "text": [
      "torch.Size([3, 3])\n"
     ]
    }
   ],
   "source": [
    "x_3x3 = x.view(3,3)\n",
    "print(x_3x3.shape)"
   ]
  },
  {
   "cell_type": "code",
   "execution_count": 295,
   "id": "6efcf732",
   "metadata": {},
   "outputs": [
    {
     "name": "stdout",
     "output_type": "stream",
     "text": [
      "torch.Size([3, 3])\n"
     ]
    }
   ],
   "source": [
    "x_3x3 = x.reshape(3,3)\n",
    "print(x_3x3.shape)"
   ]
  },
  {
   "cell_type": "markdown",
   "id": "17062805",
   "metadata": {},
   "source": [
    "##### difference between view and reshape\n",
    "\n",
    "https://stackoverflow.com/questions/49643225/whats-the-difference-between-reshape-and-view-in-pytorch#:~:text=The%20semantics%20of%20reshape(),about%20the%20meaning%20of%20contiguous%20.\n",
    "\n",
    "Reshape() can operate on both contiguous and non-contiguous tensor, while View() can ONLY operate on contiguous tensor.\n",
    "\n",
    "torch.view will return a tensor with the new shape. The returned tensor will share the underling data with the original tensor.\n",
    "\n",
    "torch.reshape MAY return a copy or a view of the original tensor.\n",
    "\n",
    "To definitely COPY: use clone(), but to use the same storage use view().\n",
    "\n"
   ]
  },
  {
   "cell_type": "code",
   "execution_count": 334,
   "id": "1952a1f3",
   "metadata": {},
   "outputs": [
    {
     "name": "stdout",
     "output_type": "stream",
     "text": [
      "torch.Size([3, 2])\n",
      "torch.Size([2, 3])\n",
      "tensor([0., 0., 0., 0., 0., 0.])\n"
     ]
    }
   ],
   "source": [
    "# WORKS\n",
    "x = torch.zeros(3,2)\n",
    "print(x.shape)\n",
    "\n",
    "y = x.t() # not a contiguous block\n",
    "print(y.shape)\n",
    "\n",
    "print(y.reshape(6))"
   ]
  },
  {
   "cell_type": "code",
   "execution_count": 333,
   "id": "63eac99b",
   "metadata": {},
   "outputs": [
    {
     "name": "stdout",
     "output_type": "stream",
     "text": [
      "torch.Size([3, 2])\n",
      "torch.Size([2, 3])\n"
     ]
    },
    {
     "ename": "RuntimeError",
     "evalue": "view size is not compatible with input tensor's size and stride (at least one dimension spans across two contiguous subspaces). Use .reshape(...) instead.",
     "output_type": "error",
     "traceback": [
      "\u001b[0;31m---------------------------------------------------------------------------\u001b[0m",
      "\u001b[0;31mRuntimeError\u001b[0m                              Traceback (most recent call last)",
      "\u001b[0;32m<ipython-input-333-61259f8504b7>\u001b[0m in \u001b[0;36m<module>\u001b[0;34m\u001b[0m\n\u001b[1;32m      6\u001b[0m \u001b[0mprint\u001b[0m\u001b[0;34m(\u001b[0m\u001b[0my\u001b[0m\u001b[0;34m.\u001b[0m\u001b[0mshape\u001b[0m\u001b[0;34m)\u001b[0m\u001b[0;34m\u001b[0m\u001b[0;34m\u001b[0m\u001b[0m\n\u001b[1;32m      7\u001b[0m \u001b[0;34m\u001b[0m\u001b[0m\n\u001b[0;32m----> 8\u001b[0;31m \u001b[0mprint\u001b[0m\u001b[0;34m(\u001b[0m\u001b[0my\u001b[0m\u001b[0;34m.\u001b[0m\u001b[0mview\u001b[0m\u001b[0;34m(\u001b[0m\u001b[0;36m6\u001b[0m\u001b[0;34m)\u001b[0m\u001b[0;34m)\u001b[0m\u001b[0;34m\u001b[0m\u001b[0;34m\u001b[0m\u001b[0m\n\u001b[0m",
      "\u001b[0;31mRuntimeError\u001b[0m: view size is not compatible with input tensor's size and stride (at least one dimension spans across two contiguous subspaces). Use .reshape(...) instead."
     ]
    }
   ],
   "source": [
    "# FAILS\n",
    "x = torch.zeros(3,2)\n",
    "print(x.shape)\n",
    "\n",
    "y = x.t() # not a contiguous block\n",
    "print(y.shape)\n",
    "\n",
    "print(y.view(6))"
   ]
  },
  {
   "cell_type": "code",
   "execution_count": 335,
   "id": "9c29ff2c",
   "metadata": {},
   "outputs": [
    {
     "name": "stdout",
     "output_type": "stream",
     "text": [
      "torch.Size([3, 2])\n",
      "torch.Size([2, 3])\n",
      "tensor([0., 0., 0., 0., 0., 0.])\n"
     ]
    }
   ],
   "source": [
    "# fix this using .contiguous\n",
    "\n",
    "x = torch.zeros(3,2)\n",
    "print(x.shape)\n",
    "\n",
    "y = x.t() # not a contiguous block\n",
    "print(y.shape)\n",
    "\n",
    "print(y.contiguous().view(6)) # fixes as makes memory contiguous first"
   ]
  },
  {
   "cell_type": "markdown",
   "id": "feb7bed1",
   "metadata": {},
   "source": [
    "## Concatenate"
   ]
  },
  {
   "cell_type": "code",
   "execution_count": 341,
   "id": "800028d6",
   "metadata": {},
   "outputs": [
    {
     "name": "stdout",
     "output_type": "stream",
     "text": [
      "tensor([[0.4457, 0.2134, 0.1869, 0.0404, 0.9020],\n",
      "        [0.9590, 0.7121, 0.6931, 0.9323, 0.7162]])\n",
      "tensor([[0.7011, 0.1955, 0.2335, 0.8779, 0.2635],\n",
      "        [0.1231, 0.1445, 0.3401, 0.1813, 0.2206]])\n",
      "\n",
      "tensor([[0.4457, 0.2134, 0.1869, 0.0404, 0.9020],\n",
      "        [0.9590, 0.7121, 0.6931, 0.9323, 0.7162],\n",
      "        [0.7011, 0.1955, 0.2335, 0.8779, 0.2635],\n",
      "        [0.1231, 0.1445, 0.3401, 0.1813, 0.2206]])\n",
      "torch.Size([4, 5])\n",
      "\n",
      "tensor([[0.4457, 0.2134, 0.1869, 0.0404, 0.9020, 0.7011, 0.1955, 0.2335, 0.8779,\n",
      "         0.2635],\n",
      "        [0.9590, 0.7121, 0.6931, 0.9323, 0.7162, 0.1231, 0.1445, 0.3401, 0.1813,\n",
      "         0.2206]])\n",
      "torch.Size([2, 10])\n"
     ]
    }
   ],
   "source": [
    "x1 = torch.rand(2,5)\n",
    "x2 = torch.rand(2,5)\n",
    "print(x1)\n",
    "print(x2)\n",
    "print()\n",
    "x_cat_0 = torch.cat((x1,x2), dim=0)\n",
    "print(x_cat_0)\n",
    "print(x_cat_0.shape)\n",
    "print()\n",
    "x_cat_1 = torch.cat((x1,x2), dim=1)\n",
    "print(x_cat_1)\n",
    "print(x_cat_1.shape)"
   ]
  },
  {
   "cell_type": "code",
   "execution_count": 349,
   "id": "34d6b014",
   "metadata": {},
   "outputs": [
    {
     "name": "stdout",
     "output_type": "stream",
     "text": [
      "torch.Size([64, 2, 5])\n"
     ]
    }
   ],
   "source": [
    "batch = 32\n",
    "x1 = torch.rand(batch, 2, 5)\n",
    "x2 = torch.rand(batch, 2, 5)\n",
    "z = torch.cat((x1, x2), dim=0)\n",
    "print(z.shape)"
   ]
  },
  {
   "cell_type": "markdown",
   "id": "2e5be680",
   "metadata": {},
   "source": [
    "## flatten or view\n",
    "\n",
    "unroll into single vector<br>\n",
    "can also use .view(-1)"
   ]
  },
  {
   "cell_type": "code",
   "execution_count": 347,
   "id": "d61af358",
   "metadata": {},
   "outputs": [
    {
     "name": "stdout",
     "output_type": "stream",
     "text": [
      "torch.Size([32, 2, 5])\n",
      "\n",
      "torch.Size([320])\n",
      "torch.Size([32, 2, 5])\n",
      "\n",
      "torch.Size([320])\n",
      "\n",
      "torch.Size([32, 10])\n"
     ]
    }
   ],
   "source": [
    "batch = 32\n",
    "x = torch.rand(batch, 2, 5)\n",
    "print(x.shape)\n",
    "print()\n",
    "print(x.view(-1).shape)\n",
    "print(x.shape)\n",
    "print()\n",
    "print(x.flatten().shape)\n",
    "print()\n",
    "batch = 32\n",
    "x1 = torch.rand(batch, 2, 5)\n",
    "z = x.view(batch, -1)\n",
    "print(z.shape)"
   ]
  },
  {
   "cell_type": "markdown",
   "id": "21deb71e",
   "metadata": {},
   "source": [
    "## permute\n",
    "\n",
    "roll axis"
   ]
  },
  {
   "cell_type": "code",
   "execution_count": 350,
   "id": "ec02c5db",
   "metadata": {},
   "outputs": [
    {
     "name": "stdout",
     "output_type": "stream",
     "text": [
      "torch.Size([32, 5, 2])\n"
     ]
    }
   ],
   "source": [
    "batch = 32\n",
    "x = torch.rand(batch, 2, 5)\n",
    "z = x.permute(0, 2, 1)\n",
    "print(z.shape)"
   ]
  },
  {
   "cell_type": "markdown",
   "id": "d22894da",
   "metadata": {},
   "source": [
    "## squeeze unsqueeze\n",
    "\n",
    "add or remove dimensions\n",
    "\n",
    "squeeze - returns tensor with all dimensions of size 1 removed"
   ]
  },
  {
   "cell_type": "code",
   "execution_count": 360,
   "id": "8f007139",
   "metadata": {},
   "outputs": [
    {
     "name": "stdout",
     "output_type": "stream",
     "text": [
      "torch.Size([2, 5])\n",
      "\n",
      "torch.Size([1, 2, 5])\n",
      "torch.Size([2, 1, 5])\n",
      "\n",
      "torch.Size([1, 1, 10])\n",
      "\n",
      "torch.Size([1, 10])\n"
     ]
    }
   ],
   "source": [
    "# unsqueeze\n",
    "x = torch.arange(10).reshape(2,5)\n",
    "print(x.shape)\n",
    "print()\n",
    "print(x.unsqueeze(0).shape)\n",
    "print(x.unsqueeze(1).shape)\n",
    "print()\n",
    "\n",
    "# squeeze\n",
    "x = torch.arange(10).unsqueeze(0).unsqueeze(0)\n",
    "print(x.shape) # 1x1x10\n",
    "print()\n",
    "print(x.squeeze(0).shape)"
   ]
  },
  {
   "cell_type": "code",
   "execution_count": 363,
   "id": "03b84951",
   "metadata": {},
   "outputs": [
    {
     "name": "stdout",
     "output_type": "stream",
     "text": [
      "torch.Size([1, 2, 1, 5])\n",
      "\n",
      "torch.Size([2, 5])\n",
      "torch.Size([1, 2, 1, 5])\n",
      "torch.Size([1, 2, 5])\n",
      "\n"
     ]
    }
   ],
   "source": [
    "# squeeze\n",
    "x = torch.arange(10).reshape(1,2,1,5)\n",
    "print(x.shape)\n",
    "print()\n",
    "print(x.squeeze().shape) # works as looks at all positions with 1\n",
    "print(x.squeeze(1).shape) # no effect as that position dim is not=1\n",
    "print(x.squeeze(2).shape) # works as dim at that position is = 1\n",
    "print()"
   ]
  },
  {
   "cell_type": "code",
   "execution_count": null,
   "id": "6fdd79bc",
   "metadata": {},
   "outputs": [],
   "source": []
  },
  {
   "cell_type": "code",
   "execution_count": null,
   "id": "a3ebe263",
   "metadata": {},
   "outputs": [],
   "source": []
  }
 ],
 "metadata": {
  "kernelspec": {
   "display_name": "Python 3",
   "language": "python",
   "name": "python3"
  },
  "language_info": {
   "codemirror_mode": {
    "name": "ipython",
    "version": 3
   },
   "file_extension": ".py",
   "mimetype": "text/x-python",
   "name": "python",
   "nbconvert_exporter": "python",
   "pygments_lexer": "ipython3",
   "version": "3.8.10"
  }
 },
 "nbformat": 4,
 "nbformat_minor": 5
}
