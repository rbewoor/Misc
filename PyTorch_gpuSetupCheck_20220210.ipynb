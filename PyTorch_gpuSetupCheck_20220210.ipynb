{
 "cells": [
  {
   "cell_type": "markdown",
   "id": "comprehensive-dakota",
   "metadata": {},
   "source": [
    "# Following tutorial video as per info below\n",
    "\n",
    "### Check If PyTorch Is Using The GPU\n",
    "### Feb 2020\n",
    "##### https://chrisalbon.com/deep_learning/pytorch/basics/check_if_pytorch_is_using_gpu/"
   ]
  },
  {
   "cell_type": "markdown",
   "id": "facial-fleet",
   "metadata": {},
   "source": [
    "# Env setup and packages installation\n",
    "\n",
    "## VIRTUAL ENVIRONMENT SETUP AND PACKAGES INSTALLED\n",
    "#### python3 -m venv pv5pytorchGpu1\n",
    "#### source ~/.venvPython/pv5pytorchGpu1/bin/activate\n",
    "### for CPU version\n",
    "#### pip3 install torch==1.8.1+cpu torchvision==0.9.1+cpu torchaudio==0.8.1 -f https://download.pytorch.org/whl/torch_stable.html\n",
    "### for GPU version\n",
    "#### pip3 install torch torchvision torchaudio"
   ]
  },
  {
   "cell_type": "code",
   "execution_count": 1,
   "id": "amino-secondary",
   "metadata": {},
   "outputs": [],
   "source": [
    "import torch"
   ]
  },
  {
   "cell_type": "code",
   "execution_count": 2,
   "id": "latin-charlotte",
   "metadata": {},
   "outputs": [
    {
     "name": "stdout",
     "output_type": "stream",
     "text": [
      "1\n"
     ]
    }
   ],
   "source": [
    "# How many GPUs are there?\n",
    "print(torch.cuda.device_count())\n",
    "\n",
    "## 1"
   ]
  },
  {
   "cell_type": "code",
   "execution_count": 3,
   "id": "quiet-radar",
   "metadata": {},
   "outputs": [
    {
     "name": "stdout",
     "output_type": "stream",
     "text": [
      "0\n"
     ]
    },
    {
     "name": "stderr",
     "output_type": "stream",
     "text": [
      "/home/rb/.venvPython/pv1pytorchGpu1/lib/python3.8/site-packages/torch/cuda/__init__.py:143: UserWarning: \n",
      "NVIDIA GeForce RTX 3050 Ti Laptop GPU with CUDA capability sm_86 is not compatible with the current PyTorch installation.\n",
      "The current PyTorch install supports CUDA capabilities sm_37 sm_50 sm_60 sm_70.\n",
      "If you want to use the NVIDIA GeForce RTX 3050 Ti Laptop GPU GPU with PyTorch, please check the instructions at https://pytorch.org/get-started/locally/\n",
      "\n",
      "  warnings.warn(incompatible_device_warn.format(device_name, capability, \" \".join(arch_list), device_name))\n"
     ]
    }
   ],
   "source": [
    "# Which GPU Is The Current GPU?\n",
    "print(torch.cuda.current_device())\n",
    "\n",
    "## E.g. 0"
   ]
  },
  {
   "cell_type": "code",
   "execution_count": 4,
   "id": "serious-notebook",
   "metadata": {},
   "outputs": [
    {
     "name": "stdout",
     "output_type": "stream",
     "text": [
      "True\n"
     ]
    }
   ],
   "source": [
    "# Is PyTorch using a GPU?\n",
    "print(torch.cuda.is_available())\n",
    "\n",
    "## E.g. True"
   ]
  },
  {
   "cell_type": "code",
   "execution_count": 5,
   "id": "square-technical",
   "metadata": {},
   "outputs": [
    {
     "name": "stdout",
     "output_type": "stream",
     "text": [
      "NVIDIA GeForce RTX 3050 Ti Laptop GPU\n"
     ]
    }
   ],
   "source": [
    "# Get the name of the current GPU\n",
    "print(torch.cuda.get_device_name(torch.cuda.current_device()))\n",
    "\n",
    "## E.g. GeForce GTX 1050 Ti"
   ]
  },
  {
   "cell_type": "code",
   "execution_count": null,
   "id": "decimal-universal",
   "metadata": {},
   "outputs": [],
   "source": []
  },
  {
   "cell_type": "code",
   "execution_count": null,
   "id": "macro-principle",
   "metadata": {},
   "outputs": [],
   "source": []
  }
 ],
 "metadata": {
  "kernelspec": {
   "display_name": "Python 3 (ipykernel)",
   "language": "python",
   "name": "python3"
  },
  "language_info": {
   "codemirror_mode": {
    "name": "ipython",
    "version": 3
   },
   "file_extension": ".py",
   "mimetype": "text/x-python",
   "name": "python",
   "nbconvert_exporter": "python",
   "pygments_lexer": "ipython3",
   "version": "3.8.10"
  }
 },
 "nbformat": 4,
 "nbformat_minor": 5
}
