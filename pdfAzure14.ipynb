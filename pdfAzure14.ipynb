{
 "cells": [
  {
   "cell_type": "code",
   "execution_count": null,
   "metadata": {},
   "outputs": [],
   "source": []
  },
  {
   "cell_type": "code",
   "execution_count": null,
   "metadata": {},
   "outputs": [],
   "source": [
    "##################\n",
    "##################\n",
    "##################\n",
    "##################"
   ]
  },
  {
   "cell_type": "code",
   "execution_count": null,
   "metadata": {
    "scrolled": true
   },
   "outputs": [],
   "source": [
    "## checking how EOL can be detected and handled\n",
    "#\n",
    "import os\n",
    "abc = \"1234\\n567\\n\"\n",
    "print(f\"--{abc}\")\n",
    "print(f\"--{abc[-1]}--\")\n",
    "if abc[-1] == '\\n':\n",
    "    print(f\"EOL found at end via slash n check\")\n",
    "if abc[-1] == os.linesep:\n",
    "    print(f\"EOL found at end via os.linesep command\")"
   ]
  },
  {
   "cell_type": "code",
   "execution_count": null,
   "metadata": {},
   "outputs": [],
   "source": [
    "marker = \"ROHITENDPAGEROHIT\"\n",
    "abc = \"ler depROHITENDPAGEROHITending on CPU type and application. ROHITENDPAGEROHIT800xA System Guide Summary  71Performance and capacitROHITENDPAGEROHITyGraphical displays Unlimite\"\n",
    "abc1 = abc.split(marker)\n",
    "print(f\"len(abc1) = {len(abc1)}\")\n",
    "print(f\"type(abc1) = {type(abc1)}\")\n",
    "abc2 = \"\\n\".join(abc1)\n",
    "newLineChar = \"\\n\"\n",
    "print(f'count of newlines in abc2 = {abc2.count(newLineChar)}')"
   ]
  },
  {
   "cell_type": "code",
   "execution_count": null,
   "metadata": {},
   "outputs": [],
   "source": []
  },
  {
   "cell_type": "code",
   "execution_count": null,
   "metadata": {},
   "outputs": [],
   "source": []
  },
  {
   "cell_type": "code",
   "execution_count": null,
   "metadata": {},
   "outputs": [],
   "source": []
  },
  {
   "cell_type": "code",
   "execution_count": 3,
   "metadata": {},
   "outputs": [],
   "source": [
    "#############################################################\n",
    "#############################################################\n",
    "###  extract PDF contents, clean it using libraries\n",
    "#############################################################\n",
    "#############################################################"
   ]
  },
  {
   "cell_type": "code",
   "execution_count": 4,
   "metadata": {},
   "outputs": [],
   "source": [
    "import PyPDF2\n",
    "import nltk\n",
    "import numpy as np\n",
    "import pandas as pd\n",
    "import re\n",
    "import os"
   ]
  },
  {
   "cell_type": "code",
   "execution_count": 5,
   "metadata": {},
   "outputs": [],
   "source": [
    "pd.set_option('max_columns', 500)\n",
    "pd.set_option('max_colwidth', -1)\n",
    "pd.set_option('max_rows', 500)"
   ]
  },
  {
   "cell_type": "code",
   "execution_count": 6,
   "metadata": {},
   "outputs": [],
   "source": [
    "# Extract the contents of each page as it is. Insert the custom page end marker\n",
    "# between the contents of different pages."
   ]
  },
  {
   "cell_type": "code",
   "execution_count": 7,
   "metadata": {},
   "outputs": [],
   "source": [
    "#pdfsourcedir = '/home/rohit/dpspTraining/data/wavFiles/azure1/handbooks/'\n",
    "pdfsourcedir = '/home/rohit/dpspTraining/data/azure/handbooks/'\n",
    "#\n",
    "#outputFilesPath = '/home/rohit/dpspTraining/data/wavFiles/azure1/pdfExtraction/'\n",
    "outputFilesPath = '/home/rohit/dpspTraining/data/azure/pdfExtraction/'\n",
    "#\n",
    "#pdfFileName = 'System_800xA_Summary.pdf'\n",
    "pdfFileName = 'TestFile1.pdf'"
   ]
  },
  {
   "cell_type": "code",
   "execution_count": 8,
   "metadata": {},
   "outputs": [],
   "source": [
    "pdf1FileObj = open(pdfsourcedir + pdfFileName, 'rb')\n",
    "pdf1Reader = PyPDF2.PdfFileReader(pdf1FileObj) "
   ]
  },
  {
   "cell_type": "code",
   "execution_count": 9,
   "metadata": {},
   "outputs": [],
   "source": [
    "extensionString = '_extractedText.txt' #.txt\n",
    "opDumpPathAndFile = outputFilesPath + pdfFileName + extensionString"
   ]
  },
  {
   "cell_type": "code",
   "execution_count": 10,
   "metadata": {},
   "outputs": [
    {
     "name": "stdout",
     "output_type": "stream",
     "text": [
      "\n",
      "    *************************************************************** \n",
      "    *************************************************************** \n",
      "    *************************************************************** \n",
      "\n",
      "    *************************************************************** \n",
      "    *************************************************************** \n",
      "    *************************************************************** \n",
      "\n",
      "    *************************************************************** \n",
      "    *************************************************************** \n",
      "    *************************************************************** \n",
      "\n",
      "    *************************************************************** \n",
      "    *************************************************************** \n",
      "    *************************************************************** \n",
      " Processing this input file: /home/rohit/dpspTraining/data/azure/handbooks/TestFile1.pdf\n",
      "\n",
      "    *************************************************************** \n",
      "    *************************************************************** \n",
      "    *************************************************************** \n",
      "\n",
      "    *************************************************************** \n",
      "    *************************************************************** \n",
      "    *************************************************************** \n",
      "\n",
      "    *************************************************************** \n",
      "    *************************************************************** \n",
      "    *************************************************************** \n",
      "\n",
      "    *************************************************************** \n",
      "    *************************************************************** \n",
      "    ***************************************************************  \n",
      "\n",
      "\n"
     ]
    }
   ],
   "source": [
    "import logging\n",
    "## https://www.patricksoftwareblog.com/python-logging-tutorial/\n",
    "logFileNameWithPath = '/home/rohit/dpspTraining/data/azure/pdfExtraction/LOG_pdfAzure14.log'\n",
    "logging.basicConfig(level=logging.WARNING, filename=logFileNameWithPath,                      \\\n",
    "    filemode='w', format='')\n",
    "#    filemode='w', format='%(asctime)s %(levelname)s:%(message)s')\n",
    "#\n",
    "# log the file being processed\n",
    "#\n",
    "print(f\"\\n    *************************************************************** \\n    *************************************************************** \\n    *************************************************************** \")\n",
    "print(f\"\\n    *************************************************************** \\n    *************************************************************** \\n    *************************************************************** \")\n",
    "print(f\"\\n    *************************************************************** \\n    *************************************************************** \\n    *************************************************************** \")\n",
    "print(f\"\\n    *************************************************************** \\n    *************************************************************** \\n    *************************************************************** \")\n",
    "print(f\" Processing this input file: {pdfsourcedir + pdfFileName}\")\n",
    "print(f\"\\n    *************************************************************** \\n    *************************************************************** \\n    *************************************************************** \")\n",
    "print(f\"\\n    *************************************************************** \\n    *************************************************************** \\n    *************************************************************** \")\n",
    "print(f\"\\n    *************************************************************** \\n    *************************************************************** \\n    *************************************************************** \")\n",
    "print(f\"\\n    *************************************************************** \\n    *************************************************************** \\n    ***************************************************************  \\n\\n\")\n",
    "#\n",
    "logging.warning(f\"\\n    *************************************************************** \\n    *************************************************************** \\n    *************************************************************** \")\n",
    "logging.warning(f\"\\n    *************************************************************** \\n    *************************************************************** \\n    *************************************************************** \")\n",
    "logging.warning(f\"\\n    *************************************************************** \\n    *************************************************************** \\n    *************************************************************** \")\n",
    "logging.warning(f\"\\n    *************************************************************** \\n    *************************************************************** \\n    *************************************************************** \")\n",
    "logging.warning(f\" Processing this input file: {pdfsourcedir + pdfFileName}\")\n",
    "logging.warning(f\"\\n    *************************************************************** \\n    *************************************************************** \\n    *************************************************************** \")\n",
    "logging.warning(f\"\\n    *************************************************************** \\n    *************************************************************** \\n    *************************************************************** \")\n",
    "logging.warning(f\"\\n    *************************************************************** \\n    *************************************************************** \\n    *************************************************************** \")\n",
    "logging.warning(f\"\\n    *************************************************************** \\n    *************************************************************** \\n    ***************************************************************  \\n\\n\")"
   ]
  },
  {
   "cell_type": "code",
   "execution_count": 11,
   "metadata": {
    "scrolled": false
   },
   "outputs": [
    {
     "name": "stdout",
     "output_type": "stream",
     "text": [
      "\n",
      "    *************************************************************** \n",
      "    *************************************************************** \n",
      "    *************************************************************** \n",
      " Reading in the pdf file as it is. At the end of each page, the value of myPageEndMarker =\n",
      "ROHITENDPAGEROHIT\n",
      "\n",
      " will be present.\n",
      "\n",
      "    *************************************************************** \n",
      "    *************************************************************** \n",
      "    *************************************************************** \n",
      "\n",
      "\n",
      "Extracting file: /home/rohit/dpspTraining/data/azure/handbooks/TestFile1.pdf\n",
      "\t#Pages found = 76\n",
      "\n",
      "Page#0 processing start....\n",
      "Page#1 processing start....\n",
      "Page#2 processing start....\n",
      "Page#3 processing start....\n",
      "Page#4 processing start....\n",
      "Page#5 processing start....\n",
      "Page#6 processing start....\n",
      "Page#7 processing start....\n",
      "Page#8 processing start....\n",
      "Page#9 processing start....\n",
      "Page#10 processing start....\n",
      "Page#11 processing start....\n",
      "Page#12 processing start....\n",
      "Page#13 processing start....\n",
      "Page#14 processing start....\n",
      "Page#15 processing start....\n",
      "Page#16 processing start....\n",
      "Page#17 processing start....\n",
      "Page#18 processing start....\n",
      "Page#19 processing start....\n",
      "Page#20 processing start....\n",
      "Page#21 processing start....\n",
      "Page#22 processing start....\n",
      "Page#23 processing start....\n",
      "Page#24 processing start....\n",
      "Page#25 processing start....\n",
      "Page#26 processing start....\n",
      "Page#27 processing start....\n",
      "Page#28 processing start....\n",
      "Page#29 processing start....\n",
      "Page#30 processing start....\n",
      "Page#31 processing start....\n",
      "Page#32 processing start....\n",
      "Page#33 processing start....\n",
      "Page#34 processing start....\n",
      "Page#35 processing start....\n",
      "Page#36 processing start....\n",
      "Page#37 processing start....\n",
      "Page#38 processing start....\n",
      "Page#39 processing start....\n",
      "Page#40 processing start....\n",
      "Page#41 processing start....\n",
      "Page#42 processing start....\n",
      "Page#43 processing start....\n",
      "Page#44 processing start....\n",
      "Page#45 processing start....\n",
      "Page#46 processing start....\n",
      "Page#47 processing start....\n",
      "Page#48 processing start....\n",
      "Page#49 processing start....\n",
      "Page#50 processing start....\n",
      "Page#51 processing start....\n",
      "Page#52 processing start....\n",
      "Page#53 processing start....\n",
      "Page#54 processing start....\n",
      "Page#55 processing start....\n",
      "Page#56 processing start....\n",
      "Page#57 processing start....\n",
      "Page#58 processing start....\n",
      "Page#59 processing start....\n",
      "Page#60 processing start....\n",
      "Page#61 processing start....\n",
      "Page#62 processing start....\n",
      "Page#63 processing start....\n",
      "Page#64 processing start....\n",
      "Page#65 processing start....\n",
      "Page#66 processing start....\n",
      "Page#67 processing start....\n",
      "Page#68 processing start....\n",
      "Page#69 processing start....\n",
      "Page#70 processing start....\n",
      "Page#71 processing start....\n",
      "Page#72 processing start....\n",
      "Page#73 processing start....\n",
      "Page#74 processing start....\n",
      "Page#75 processing start....\n",
      "\n",
      "Completed processing 76 pages. Output dumped to file here:\n",
      "/home/rohit/dpspTraining/data/azure/pdfExtraction/TestFile1.pdf_extractedText.txt\n"
     ]
    }
   ],
   "source": [
    "myPageEndMarker = 'ROHITENDPAGEROHIT\\n'\n",
    "#\n",
    "print(f\"\\n    *************************************************************** \\n    *************************************************************** \\n    *************************************************************** \")\n",
    "print(f\" Reading in the pdf file as it is. At the end of each page, the value of myPageEndMarker =\\n{myPageEndMarker}\\n will be present.\")\n",
    "print(f\"\\n    *************************************************************** \\n    *************************************************************** \\n    *************************************************************** \\n\\n\")\n",
    "logging.warning(f\"\\n    *************************************************************** \\n    *************************************************************** \\n    *************************************************************** \")\n",
    "logging.warning(f\" Reading in the pdf file as it is. At the end of each page, the value of myPageEndMarker =\\n{myPageEndMarker}\\n will be present.\")\n",
    "logging.warning(f\"\\n    *************************************************************** \\n    *************************************************************** \\n    ***************************************************************  \\n\\n\")\n",
    "#\n",
    "numberOfPagesInPdf = pdf1Reader.numPages\n",
    "print(f\"Extracting file: {pdfsourcedir + pdfFileName}\\n\\t#Pages found = {numberOfPagesInPdf}\\n\")\n",
    "logging.warning(f\"Extracting file: {pdfsourcedir + pdfFileName}\\n\\t#Pages found = {numberOfPagesInPdf}\\n\\n\")\n",
    "\n",
    "with open (opDumpPathAndFile, 'w') as opDumpFile :\n",
    "    for pageNum in range(numberOfPagesInPdf):\n",
    "    #for pageNum in range(10):\n",
    "        pageObj1 = pdf1Reader.getPage(pageNum)\n",
    "        print(f\"Page#{pageNum} processing start....\")\n",
    "        logging.warning(f\"************** Page#{pageNum} processing start.... **************\\n\")\n",
    "        opDumpFile.write(pageObj1.extractText())\n",
    "        opDumpFile.write(myPageEndMarker)\n",
    "\n",
    "logging.warning(f\"\\n\\nCompleted processing {numberOfPagesInPdf} pages. Output dumped to file here:\\n{opDumpPathAndFile}\\n\\n\\n\")\n",
    "print(f\"\\nCompleted processing {numberOfPagesInPdf} pages. Output dumped to file here:\\n{opDumpPathAndFile}\")"
   ]
  },
  {
   "cell_type": "code",
   "execution_count": null,
   "metadata": {},
   "outputs": [],
   "source": []
  },
  {
   "cell_type": "code",
   "execution_count": 12,
   "metadata": {},
   "outputs": [],
   "source": [
    "##################\n",
    "##################"
   ]
  },
  {
   "cell_type": "code",
   "execution_count": 13,
   "metadata": {},
   "outputs": [],
   "source": [
    "# Make a copy of the raw dump to a new file, while removing all new line characters.\n",
    "# This should make one huge long line of data in the output file, interspersed with\n",
    "# my own page marker."
   ]
  },
  {
   "cell_type": "code",
   "execution_count": 14,
   "metadata": {},
   "outputs": [],
   "source": [
    "extensionString = '_extractedText.txt' #.txt\n",
    "ipFileTxt = outputFilesPath + pdfFileName + extensionString  #.txt\n",
    "#\n",
    "extensionString = '_extractedText_' + str(1) + '.txt' #_1.txt\n",
    "opFileTxt = outputFilesPath + pdfFileName + extensionString"
   ]
  },
  {
   "cell_type": "code",
   "execution_count": 15,
   "metadata": {},
   "outputs": [
    {
     "name": "stdout",
     "output_type": "stream",
     "text": [
      "\n",
      "    *************************************************************** \n",
      "    *************************************************************** \n",
      "    *************************************************************** \n",
      " Reading in each line, removing the newline characters.\n",
      " Will output one huge long line of data, intersperced with my the custom page marker end (ROHITENDPAGEROHIT\n",
      ").\n",
      "\n",
      "    *************************************************************** \n",
      "    *************************************************************** \n",
      "    ***************************************************************  \n",
      "\n",
      "\n",
      "Done\n"
     ]
    }
   ],
   "source": [
    "# Make a copy of the raw dump to a new file, while removing all new line characters.\n",
    "# This should make one huge long line of data in the output file, interspersed with\n",
    "# my own page marker.\n",
    "print(f\"\\n    *************************************************************** \\n    *************************************************************** \\n    *************************************************************** \")\n",
    "print(f\" Reading in each line, removing the newline characters.\\n Will output one huge long line of data, intersperced with my the custom page marker end ({myPageEndMarker}).\")\n",
    "print(f\"\\n    *************************************************************** \\n    *************************************************************** \\n    ***************************************************************  \\n\\n\")\n",
    "logging.warning(f\"\\n    *************************************************************** \\n    *************************************************************** \\n    *************************************************************** \")\n",
    "logging.warning(f\" Reading in each line, removing the newline characters.\\n Will output one huge long line of data, intersperced with my the custom page marker end ({myPageEndMarker}).\")\n",
    "logging.warning(f\"\\n    *************************************************************** \\n    *************************************************************** \\n    ***************************************************************  \\n\\n\")\n",
    "i = -1\n",
    "with open (opFileTxt, 'w') as opfile, open (ipFileTxt, 'r') as infile:\n",
    "    for line in infile:\n",
    "        i += 1\n",
    "        logging.warning(f\"\\n\\ni=\\t{i}\\tlen(line)-1 = {len(line)-1}\\tline[0:len(line)-1]=\\n{line[0:len(line)-1]}\\n         ---------------------------------------------------------------------------------\")\n",
    "        opfile.write(line[0:len(line)-1]) # + \" \")\n",
    "print(\"Done\")\n",
    "logging.warning(f\"Done\")"
   ]
  },
  {
   "cell_type": "code",
   "execution_count": 16,
   "metadata": {},
   "outputs": [],
   "source": [
    "##################\n",
    "##################"
   ]
  },
  {
   "cell_type": "code",
   "execution_count": 17,
   "metadata": {},
   "outputs": [],
   "source": [
    "# Read in the output file just created. Using with my special end of page marker, break the one long line\n",
    "# of text into one line per page and rewrite to a new output file."
   ]
  },
  {
   "cell_type": "code",
   "execution_count": 18,
   "metadata": {},
   "outputs": [],
   "source": [
    "extensionString = '_extractedText_' + str(1) + '.txt'\n",
    "ipFileTxt = outputFilesPath + pdfFileName + extensionString  #_1.txt\n",
    "extensionString = '_extractedText_' + str(2) + '.txt'\n",
    "opFileTxt = outputFilesPath + pdfFileName + extensionString  #_2.txt"
   ]
  },
  {
   "cell_type": "code",
   "execution_count": 19,
   "metadata": {},
   "outputs": [
    {
     "name": "stdout",
     "output_type": "stream",
     "text": [
      "\n",
      "/home/rohit/dpspTraining/data/azure/pdfExtraction/TestFile1.pdf_extractedText_1.txt\n",
      "\n",
      "i = 0\n",
      "\n",
      "    *************************************************************** \n",
      "    *************************************************************** \n",
      "    *************************************************************** \n",
      " length of all the data in the one line = 189712\n",
      "\n",
      "    *************************************************************** \n",
      "    *************************************************************** \n",
      "    ***************************************************************  \n",
      "\n",
      "\n"
     ]
    }
   ],
   "source": [
    "i = -1\n",
    "#with open (opFileTxt, 'w') as opfile, open (ipFileTxt, 'r') as infile:\n",
    "print(f\"\\n{ipFileTxt}\\n\")\n",
    "with open (ipFileTxt, 'r') as infile:\n",
    "    for line in infile:\n",
    "        i += 1\n",
    "        print(f\"i = {i}\")\n",
    "        fileContentsInOneLine = line\n",
    "        #logging.warning(f\"\\n\\ni=\\t{i}\\tlen(line)-1 = {len(line)-1}\\tline[0:len(line)-1]=\\n{line[0:len(line)-1]}\\n         ---------------------------------------------------------------------------------\")\n",
    "        #opfile.write(line[0:len(line)-1]) # + \" \")\n",
    "logging.warning(f\"\\n    *************************************************************** \\n    *************************************************************** \\n    *************************************************************** \")\n",
    "logging.warning(f\" length of all the data in the one line = {len(fileContentsInOneLine)}\")\n",
    "logging.warning(f\"\\n    *************************************************************** \\n    *************************************************************** \\n    ***************************************************************  \\n\\n\")\n",
    "print(f\"\\n    *************************************************************** \\n    *************************************************************** \\n    *************************************************************** \")\n",
    "print(f\" length of all the data in the one line = {len(fileContentsInOneLine)}\")\n",
    "print(f\"\\n    *************************************************************** \\n    *************************************************************** \\n    ***************************************************************  \\n\\n\")\n",
    "logging.warning(f\"\\n\\n\")"
   ]
  },
  {
   "cell_type": "code",
   "execution_count": 20,
   "metadata": {},
   "outputs": [],
   "source": [
    "# Read the huge long line (entire PDF contents), replace the customer page end marker\n",
    "# with newline character. Then write this to output file."
   ]
  },
  {
   "cell_type": "code",
   "execution_count": 21,
   "metadata": {
    "scrolled": false
   },
   "outputs": [
    {
     "name": "stdout",
     "output_type": "stream",
     "text": [
      "\n",
      "    *************************************************************** \n",
      "    *************************************************************** \n",
      "    *************************************************************** \n",
      " Read in the huge long line of pdf contents, replace the customer page end marker with newline character. Now the contents of each page of the pdf will be in different lines.\n",
      "\n",
      "    *************************************************************** \n",
      "    *************************************************************** \n",
      "    ***************************************************************  \n",
      "\n",
      "\n",
      "After exiting file reading logic, check that value of i is 0 as there should have only been one line to read.\n",
      "\n",
      "i = 0\n",
      "\n",
      "\n",
      "length of all the data in the one line = 189712\n",
      "After marker conversion to newline, length of fileContentsSplitToMutipleLines = 188496\n",
      "# Newline characters in the data string after marker conversion = 76\n",
      "# Newline characters in the data string after additional newline insertion at end = 77\n",
      "\n",
      "Completed writing the output file to:\n",
      "/home/rohit/dpspTraining/data/azure/pdfExtraction/TestFile1.pdf_extractedText_2.txt\n"
     ]
    }
   ],
   "source": [
    "# Read the huge long line (entire PDF contents), replace the customer page end marker\n",
    "# with newline character. Then write this to output file.\n",
    "myPageEndMarker = 'ROHITENDPAGEROHIT'\n",
    "#\n",
    "print(f\"\\n    *************************************************************** \\n    *************************************************************** \\n    *************************************************************** \")\n",
    "print(f\" Read in the huge long line of pdf contents, replace the customer page end marker with newline character. Now the contents of each page of the pdf will be in different lines.\")\n",
    "print(f\"\\n    *************************************************************** \\n    *************************************************************** \\n    ***************************************************************  \\n\\n\")\n",
    "logging.warning(f\"\\n    *************************************************************** \\n    *************************************************************** \\n    *************************************************************** \")\n",
    "logging.warning(f\" Read in the huge long line of pdf contents, replace the customer page end marker with newline character. Now the contents of each page of the pdf will be in different lines.\")\n",
    "logging.warning(f\"\\n    *************************************************************** \\n    *************************************************************** \\n    ***************************************************************  \\n\\n\")\n",
    "#\n",
    "i = -1\n",
    "fileContentsInOneLine = ''\n",
    "with open (ipFileTxt, 'r') as infile :\n",
    "    for line in infile:\n",
    "        i += 1\n",
    "        fileContentsInOneLine += line\n",
    "        logging.warning(f\"line #i = {i}\\tlength of line = {len(line)}\\tline contents = \\n{line}\")\n",
    "#\n",
    "print(f\"After exiting file reading logic, check that value of i is 0 as there should have only been one line to read.\")\n",
    "print(f\"\\ni = {i}\\n\")\n",
    "#\n",
    "print(f\"\\nlength of all the data in the one line = {len(fileContentsInOneLine)}\")\n",
    "logging.warning(f\"length of all the data in the one line = {len(fileContentsInOneLine)}\")\n",
    "#\n",
    "fileContentsSplitToMutipleLines = \"\\n\".join(fileContentsInOneLine.split(myPageEndMarker))\n",
    "del fileContentsInOneLine\n",
    "print(f\"After marker conversion to newline, length of fileContentsSplitToMutipleLines = {len(fileContentsSplitToMutipleLines)}\")\n",
    "logging.warning(f\"After marker conversion to newline, length of fileContentsSplitToMutipleLines = {len(fileContentsSplitToMutipleLines)}\")\n",
    "#print(f\"{type(fileContentsSplitToMutipleLines)}\")\n",
    "#\n",
    "newLineChar = \"\\n\"\n",
    "print(f\"# Newline characters in the data string after marker conversion = {fileContentsSplitToMutipleLines.count(newLineChar)}\")\n",
    "logging.warning(f\"# Newline characters in the data string after marker conversion = {fileContentsSplitToMutipleLines.count(newLineChar)}\")\n",
    "#\n",
    "# insert final newline char at end of the string, so adding a new list entry only with newline\n",
    "fileContentsSplitToMutipleLines += \"\\n\"\n",
    "#\n",
    "newLineChar = \"\\n\"\n",
    "print(f\"# Newline characters in the data string after additional newline insertion at end = {fileContentsSplitToMutipleLines.count(newLineChar)}\\n\")\n",
    "logging.warning(f\"# Newline characters in the data string after additional newline insertion at end = {fileContentsSplitToMutipleLines.count(newLineChar)}\\n\")\n",
    "#\n",
    "# now writing to the new file again, which can then be loaded into a DF with sep as newline character.\n",
    "#\n",
    "with open (opFileTxt, 'w') as opfile :\n",
    "    opfile.write(fileContentsSplitToMutipleLines)\n",
    "\n",
    "print(f\"Completed writing the output file to:\\n{opFileTxt}\")\n",
    "logging.warning(f\"Completed writing the output file to:\\n{opFileTxt}\")"
   ]
  },
  {
   "cell_type": "code",
   "execution_count": null,
   "metadata": {},
   "outputs": [],
   "source": []
  },
  {
   "cell_type": "code",
   "execution_count": 22,
   "metadata": {},
   "outputs": [],
   "source": [
    "##################\n",
    "##################\n",
    "## now ready to start doing something with dataframes by reading the text file with separater as newline character\n",
    "##################\n",
    "##################"
   ]
  },
  {
   "cell_type": "code",
   "execution_count": 23,
   "metadata": {},
   "outputs": [],
   "source": [
    "import nltk\n",
    "import numpy as np\n",
    "import pandas as pd\n",
    "import re\n",
    "import os"
   ]
  },
  {
   "cell_type": "code",
   "execution_count": 24,
   "metadata": {},
   "outputs": [],
   "source": [
    "extensionString = '_extractedText_' + str(2) + '.txt'\n",
    "inPdFile = outputFilesPath + pdfFileName + extensionString\n",
    "#\n",
    "extensionString = '_extractedText_' + str(3) + '.csv'\n",
    "opFileTxt = outputFilesPath + pdfFileName + extensionString"
   ]
  },
  {
   "cell_type": "code",
   "execution_count": 25,
   "metadata": {},
   "outputs": [
    {
     "name": "stdout",
     "output_type": "stream",
     "text": [
      "\n",
      "    *************************************************************** \n",
      "    *************************************************************** \n",
      "    *************************************************************** \n",
      " Reading the data from file as pandas dataframe. Will be cleaned and written to output file.\n",
      "\n",
      "    *************************************************************** \n",
      "    *************************************************************** \n",
      "    ***************************************************************  \n",
      "\n",
      "\n"
     ]
    }
   ],
   "source": [
    "print(f\"\\n    *************************************************************** \\n    *************************************************************** \\n    *************************************************************** \")\n",
    "print(f\" Reading the data from file as pandas dataframe. Will be cleaned and written to output file.\")\n",
    "print(f\"\\n    *************************************************************** \\n    *************************************************************** \\n    ***************************************************************  \\n\\n\")\n",
    "logging.warning(f\"\\n    *************************************************************** \\n    *************************************************************** \\n    *************************************************************** \")\n",
    "logging.warning(f\" Reading the data from file as pandas dataframe. Will be cleaned and written to output file.\")\n",
    "logging.warning(f\"\\n    *************************************************************** \\n    *************************************************************** \\n    ***************************************************************  \\n\\n\")"
   ]
  },
  {
   "cell_type": "code",
   "execution_count": 26,
   "metadata": {},
   "outputs": [
    {
     "name": "stdout",
     "output_type": "stream",
     "text": [
      "\n",
      "\t# Rows read into dataframe = all the rows\n",
      "dfin.shape = (75, 1)\n"
     ]
    }
   ],
   "source": [
    "# set rowsToRead = -1 to read the whole dataframe in one shot, else specify the number accordingly\n",
    "rowsToRead = -1\n",
    "#rowsToRead = 7\n",
    "if rowsToRead == -1:\n",
    "    dfin = pd.read_csv( inPdFile, sep='\\n', header=None, low_memory=False )\n",
    "else:\n",
    "    dfin = pd.read_csv( inPdFile, sep='\\n', header=None, nrows=rowsToRead, low_memory=False )\n",
    "#\n",
    "print(f'\\n\\t# Rows read into dataframe = {rowsToRead if rowsToRead != -1 else \"all the rows\"}')\n",
    "logging.warning(f'\\n\\t# Rows read into dataframe = {rowsToRead if rowsToRead != -1 else \"all the rows\"}')\n",
    "print(f\"dfin.shape = {dfin.shape}\")\n",
    "logging.warning(f\"\\n\\tdfin.shape = {dfin.shape}\\n\")"
   ]
  },
  {
   "cell_type": "code",
   "execution_count": 27,
   "metadata": {},
   "outputs": [],
   "source": [
    "dfin.columns = ['textOnPage']\n",
    "dfin['pageNum'] = dfin.index.values"
   ]
  },
  {
   "cell_type": "code",
   "execution_count": 28,
   "metadata": {},
   "outputs": [],
   "source": [
    "dfin['dataLenB4'] = dfin['textOnPage'].apply(len)"
   ]
  },
  {
   "cell_type": "code",
   "execution_count": 29,
   "metadata": {
    "scrolled": true
   },
   "outputs": [
    {
     "data": {
      "text/html": [
       "<div>\n",
       "<style scoped>\n",
       "    .dataframe tbody tr th:only-of-type {\n",
       "        vertical-align: middle;\n",
       "    }\n",
       "\n",
       "    .dataframe tbody tr th {\n",
       "        vertical-align: top;\n",
       "    }\n",
       "\n",
       "    .dataframe thead th {\n",
       "        text-align: right;\n",
       "    }\n",
       "</style>\n",
       "<table border=\"1\" class=\"dataframe\">\n",
       "  <thead>\n",
       "    <tr style=\"text-align: right;\">\n",
       "      <th></th>\n",
       "      <th>textOnPage</th>\n",
       "      <th>pageNum</th>\n",
       "      <th>dataLenB4</th>\n",
       "    </tr>\n",
       "  </thead>\n",
       "  <tbody>\n",
       "    <tr>\n",
       "      <th>0</th>\n",
       "      <td>System 800xASystem Guide Summary</td>\n",
       "      <td>0</td>\n",
       "      <td>32</td>\n",
       "    </tr>\n",
       "    <tr>\n",
       "      <th>1</th>\n",
       "      <td>2  800xA System Guide Summary</td>\n",
       "      <td>1</td>\n",
       "      <td>29</td>\n",
       "    </tr>\n",
       "    <tr>\n",
       "      <th>2</th>\n",
       "      <td>800xA System Guide Summary  3IndexSystem 800xA Œ System IntroSystem Guide Summary........................................4Power of Integration .............................................6Automation and Power Integration .........................7Operator Effectiveness ..........................................8High Integrity Safety Automation ...........................9Enterprise Asset Management .............................10Fieldbus Technologies .........................................11Evolution ............................................................12OperationsOperations .........................................................13Control ...............................................................18Process I/O ........................................................22Fieldbus support.................................................26Field device management ...................................28Electrical integration ...........................................30History services ..................................................32Batch management ............................................36Asset optimization ..............................................40Heritage systems evolution support .....................43Connectivity to third-party controllers ..................50Connectivity to third-party PLC™s .........................51Engineering ........................................................52Application libraries ............................................56Safety ................................................................58System functionsSystem security ..................................................61FDA 21 CFR Part 11 Support ..............................63External application interfaces .............................64System infrastructure ..........................................65Supporting functions ..........................................66Life cycle services ..............................................67Supervision and diagnostics ................................69Key technical dataKey technical data ..............................................70Deployment alternatives ......................................72References .........................................................75</td>\n",
       "      <td>2</td>\n",
       "      <td>2265</td>\n",
       "    </tr>\n",
       "  </tbody>\n",
       "</table>\n",
       "</div>"
      ],
      "text/plain": [
       "                                                                                                                                                                                                                                                                                                                                                                                                                                                                                                                                                                                                                                                                                                                                                                                                                                                                                                                                                                                                                                                                                                                                                                                                                                                                                                                                                                                                                                                                                                                                                                                                                                                                                                                                                                                                                                                                                                                                                                                                                                                                                                                                                                                                                                                                                                                                                  textOnPage  \\\n",
       "0  System 800xASystem Guide Summary                                                                                                                                                                                                                                                                                                                                                                                                                                                                                                                                                                                                                                                                                                                                                                                                                                                                                                                                                                                                                                                                                                                                                                                                                                                                                                                                                                                                                                                                                                                                                                                                                                                                                                                                                                                                                                                                                                                                                                                                                                                                                                                                                                                                                                                                                                                            \n",
       "1  2  800xA System Guide Summary                                                                                                                                                                                                                                                                                                                                                                                                                                                                                                                                                                                                                                                                                                                                                                                                                                                                                                                                                                                                                                                                                                                                                                                                                                                                                                                                                                                                                                                                                                                                                                                                                                                                                                                                                                                                                                                                                                                                                                                                                                                                                                                                                                                                                                                                                                                               \n",
       "2  800xA System Guide Summary  3IndexSystem 800xA Œ System IntroSystem Guide Summary........................................4Power of Integration .............................................6Automation and Power Integration .........................7Operator Effectiveness ..........................................8High Integrity Safety Automation ...........................9Enterprise Asset Management .............................10Fieldbus Technologies .........................................11Evolution ............................................................12OperationsOperations .........................................................13Control ...............................................................18Process I/O ........................................................22Fieldbus support.................................................26Field device management ...................................28Electrical integration ...........................................30History services ..................................................32Batch management ............................................36Asset optimization ..............................................40Heritage systems evolution support .....................43Connectivity to third-party controllers ..................50Connectivity to third-party PLC™s .........................51Engineering ........................................................52Application libraries ............................................56Safety ................................................................58System functionsSystem security ..................................................61FDA 21 CFR Part 11 Support ..............................63External application interfaces .............................64System infrastructure ..........................................65Supporting functions ..........................................66Life cycle services ..............................................67Supervision and diagnostics ................................69Key technical dataKey technical data ..............................................70Deployment alternatives ......................................72References .........................................................75   \n",
       "\n",
       "   pageNum  dataLenB4  \n",
       "0  0        32         \n",
       "1  1        29         \n",
       "2  2        2265       "
      ]
     },
     "execution_count": 29,
     "metadata": {},
     "output_type": "execute_result"
    }
   ],
   "source": [
    "dfin.head(3)"
   ]
  },
  {
   "cell_type": "code",
   "execution_count": 30,
   "metadata": {},
   "outputs": [],
   "source": [
    "from nltk import sent_tokenize, word_tokenize\n",
    "# https://www.datacamp.com/community/tutorials/text-analytics-beginners-nltk\n",
    "# https://medium.com/analytics-vidhya/sentence-extraction-using-textrank-algorithm-7f5c8fd568cd"
   ]
  },
  {
   "cell_type": "code",
   "execution_count": 31,
   "metadata": {},
   "outputs": [],
   "source": [
    "### extract all the sentences and write to a CSV file"
   ]
  },
  {
   "cell_type": "code",
   "execution_count": 32,
   "metadata": {},
   "outputs": [],
   "source": [
    "#\n",
    "dfOutColumns = ['sentence', 'pageNum']\n",
    "#\n",
    "dfOutColumnsDtypes = [str, int]\n",
    "dfOut = pd.DataFrame(columns = dfOutColumns)\n",
    "#dfOut = dfOut.astype({\"sentence\": str, \"pageNum\": int})\n",
    "dfOut = dfOut.astype(dict(zip(dfOutColumns, dfOutColumnsDtypes)))"
   ]
  },
  {
   "cell_type": "code",
   "execution_count": 33,
   "metadata": {},
   "outputs": [
    {
     "data": {
      "text/plain": [
       "sentence    object\n",
       "pageNum     int64 \n",
       "dtype: object"
      ]
     },
     "execution_count": 33,
     "metadata": {},
     "output_type": "execute_result"
    }
   ],
   "source": [
    "dfOut.dtypes"
   ]
  },
  {
   "cell_type": "code",
   "execution_count": 34,
   "metadata": {},
   "outputs": [
    {
     "data": {
      "text/html": [
       "<div>\n",
       "<style scoped>\n",
       "    .dataframe tbody tr th:only-of-type {\n",
       "        vertical-align: middle;\n",
       "    }\n",
       "\n",
       "    .dataframe tbody tr th {\n",
       "        vertical-align: top;\n",
       "    }\n",
       "\n",
       "    .dataframe thead th {\n",
       "        text-align: right;\n",
       "    }\n",
       "</style>\n",
       "<table border=\"1\" class=\"dataframe\">\n",
       "  <thead>\n",
       "    <tr style=\"text-align: right;\">\n",
       "      <th></th>\n",
       "      <th>sentence</th>\n",
       "      <th>pageNum</th>\n",
       "    </tr>\n",
       "  </thead>\n",
       "  <tbody>\n",
       "  </tbody>\n",
       "</table>\n",
       "</div>"
      ],
      "text/plain": [
       "Empty DataFrame\n",
       "Columns: [sentence, pageNum]\n",
       "Index: []"
      ]
     },
     "execution_count": 34,
     "metadata": {},
     "output_type": "execute_result"
    }
   ],
   "source": [
    "dfOut.head(1)"
   ]
  },
  {
   "cell_type": "code",
   "execution_count": 35,
   "metadata": {},
   "outputs": [],
   "source": [
    "## perform abbreivations replacement\n",
    "##  SN    - original value -     - replaced value -\n",
    "##  1     - e.g. -               - for example -\n",
    "##  2     - viz. -               - namely -\n",
    "##  3     - etc. -               - et cetera -\n",
    "##  4     - i.e. -               - that is -\n",
    "##  5\n",
    "##  6\n",
    "##  7\n",
    "## \n",
    "def cleanUpSentenceAbbreviations(inSent):\n",
    "    #\n",
    "    outSent = \"\".join(inSent.strip().lower())  # make a new copy\n",
    "    ## for example\n",
    "    outSent = re.sub( r'e\\.g\\.' , r' for example ' , outSent )\n",
    "    #\n",
    "    ## namely\n",
    "    outSent = re.sub( r'viz\\.' , r' namely ' , outSent )\n",
    "    #\n",
    "    ## et cetera\n",
    "    outSent = re.sub( r'etc\\.' , r' et cetera ' , outSent )\n",
    "    #\n",
    "    ## et cetera\n",
    "    outSent = re.sub( r'i\\.e\\.' , r' that is ' , outSent )\n",
    "    #\n",
    "    outSent = re.sub(r'  +', r' ' , outSent)  # collapse two or more spaces into one space\n",
    "    outSent = outSent.strip()\n",
    "    #\n",
    "    return outSent"
   ]
  },
  {
   "cell_type": "code",
   "execution_count": 36,
   "metadata": {},
   "outputs": [],
   "source": [
    "## perform cleaning up of a sentence -- Advanced\n",
    "## Actions performed in Advanced cleanup:\n",
    "##      - replace all digits with their word form. E.g. 123 is \"one two three\"\n",
    "##      - remove leading and trailing whitespace\n",
    "##      - various replacements of special characters\n",
    "##      - if the sentence has any word(s) that are longer than threshold (tooLongWordLimit) then\n",
    "##        the return value will be None and thus not processed later on.\n",
    "## \n",
    "def cleanUpSentenceAdvanced(inSentAdv, inTooLongWordLimit = 18):\n",
    "    outSentAdv = \"\".join(inSentAdv.strip())  # make a new copy\n",
    "    #\n",
    "    # if the line starts with a number, drop that line\n",
    "    if outSentAdv[0].isdigit():\n",
    "        counters['countSentStartsWithNumber'] += 1\n",
    "        return None\n",
    "    #\n",
    "    # deal with special characters\n",
    "    outSentAdv = outSentAdv.replace(\"-\"  , \"\")\n",
    "    outSentAdv = outSentAdv.replace(\"–\"  , \"\")\n",
    "    outSentAdv = outSentAdv.replace(\",\"  , \"\")\n",
    "    outSentAdv = outSentAdv.replace(\"?\"  , \".\")\n",
    "    outSentAdv = outSentAdv.replace(\"\\\\\" , \" backslash \")\n",
    "    outSentAdv = outSentAdv.replace(\"/\"  , \" forwardslash \")\n",
    "    outSentAdv = outSentAdv.replace(\"´\"  , \"'\")\n",
    "    outSentAdv = outSentAdv.replace(\"`\"  , \"'\")\n",
    "    outSentAdv = outSentAdv.replace(\"’\"  , \"'\")\n",
    "    outSentAdv = outSentAdv.replace(\"!\"  , \".\")\n",
    "    outSentAdv = outSentAdv.replace(\";\"  , \" \")\n",
    "    outSentAdv = outSentAdv.replace(\":\"  , \" \")\n",
    "    outSentAdv = outSentAdv.replace(\"&\"  , \" and \")\n",
    "    #outSentAdv = outSentAdv.replace(\".\"  , \".\")  # DO NOT UNCOMMENT - leave any dot as it is\n",
    "    outSentAdv = outSentAdv.replace(\"‚\"  , \"\")  ## different comman\n",
    "    outSentAdv = outSentAdv.replace(r\"™\" , \"\")\n",
    "    outSentAdv = outSentAdv.replace(\"Œ\"  , \"\")\n",
    "    outSentAdv = outSentAdv.replace(\"˚\"  , \"\")\n",
    "    outSentAdv = outSentAdv.replace(\"˜\"  , \"\")\n",
    "    outSentAdv = outSentAdv.replace(\"œ\"  , \"\")\n",
    "    outSentAdv = outSentAdv.replace(\"ﬁ\"  , \"\")\n",
    "    outSentAdv = outSentAdv.replace(\"ﬂ\"  , \"\")\n",
    "    outSentAdv = outSentAdv.replace(\"˛\"  , \"\")\n",
    "    outSentAdv = outSentAdv.replace(\"|\"  , \"\")\n",
    "    outSentAdv = outSentAdv.replace(\"®\"  , \"\")\n",
    "    outSentAdv = outSentAdv.replace(\"ž\"  , \"\")\n",
    "    outSentAdv = outSentAdv.replace(\"˝\"  , \"\")\n",
    "    outSentAdv = outSentAdv.replace(\"%\"  , \" percent \")\n",
    "    outSentAdv = outSentAdv.replace(\"%\"  , \" percent \")\n",
    "    \n",
    "    #\n",
    "    ## remove anything within and including the brackets\n",
    "    ##         -- regular, square and curly brackets checked one at a time\n",
    "    outSentAdv = re.sub( r'\\(.*?\\)' , r'' , outSentAdv )\n",
    "    outSentAdv = re.sub( r'\\[.*?\\]' , r'' , outSentAdv )\n",
    "    outSentAdv = re.sub( r'\\{.*?\\}' , r'' , outSentAdv )\n",
    "    #\n",
    "    ## replace all numerals with the word of the digits\n",
    "    outSentAdv = re.sub(\"0\", \" zero \", outSentAdv)\n",
    "    outSentAdv = re.sub(\"1\", \" one \", outSentAdv)\n",
    "    outSentAdv = re.sub(\"2\", \" two \", outSentAdv)\n",
    "    outSentAdv = re.sub(\"3\", \" three \", outSentAdv)\n",
    "    outSentAdv = re.sub(\"4\", \" four \", outSentAdv)\n",
    "    outSentAdv = re.sub(\"5\", \" five \", outSentAdv)\n",
    "    outSentAdv = re.sub(\"6\", \" six \", outSentAdv)\n",
    "    outSentAdv = re.sub(\"7\", \" seven \", outSentAdv)\n",
    "    outSentAdv = re.sub(\"8\", \" eight \", outSentAdv)\n",
    "    outSentAdv = re.sub(\"9\", \" nine \", outSentAdv)\n",
    "    #outSentAdv = re.sub(r'  +', r' ' , outSentAdv)  # collapse two or more spaces into one space\n",
    "    #\n",
    "    outSentAdv = \" \".join(outSentAdv.strip().lower().split())\n",
    "    #\n",
    "    ## check if sentence has any words that are too long (could be accidental concat of unique words)\n",
    "    tooLongWordLimit = 18\n",
    "    longWordsInSent = []\n",
    "    for word in word_tokenize(outSentAdv):\n",
    "        if len(word) > tooLongWordLimit:\n",
    "            longWordsInSent.append(word)\n",
    "    if len(longWordsInSent) > 0:\n",
    "        logging.warning(f\"\\t\\tToo long word sentence: outSentAdv=\\n{outSentAdv}\\nlong words found:\\n{longWordsInSent}\")\n",
    "        counters['countSentWithLongWords'] += 1\n",
    "        return None\n",
    "    #\n",
    "    return outSentAdv"
   ]
  },
  {
   "cell_type": "code",
   "execution_count": 37,
   "metadata": {},
   "outputs": [],
   "source": [
    "## perform cleaning up of a sentence -- Basic\n",
    "## Actions performed in Basic cleanup:\n",
    "##      - convert to lowercase\n",
    "##      - remove leading and trailing whitespace\n",
    "##      - ONLY if the advance cleanup required flag is set as True during function call, then\n",
    "##             then that logic will be performed\n",
    "## \n",
    "def cleanUpSentenceBasic(inSentBasic, advancedCleanupFlag = False, inTooLongWordLimit = 18):\n",
    "    outSent = \"\".join(inSentBasic.strip().lower())   # made a new copy of inSent after stripping, lower casing\n",
    "    if outSent == \"\":\n",
    "        return None\n",
    "    #\n",
    "    if advancedCleanupFlag == True:\n",
    "        outSent = cleanUpSentenceAdvanced(outSent, inTooLongWordLimit)\n",
    "        if outSent is not None:\n",
    "            outSent = \" \".join(outSent.strip().split())\n",
    "            if outSent == \"\":\n",
    "                return None\n",
    "            else:\n",
    "                return outSent\n",
    "    else:\n",
    "        return outSent   ## return the basic cleaned up sentence"
   ]
  },
  {
   "cell_type": "code",
   "execution_count": 38,
   "metadata": {},
   "outputs": [
    {
     "name": "stdout",
     "output_type": "stream",
     "text": [
      "\n",
      "\n",
      " ########## SUMMARY ######### SUMMARY ######### SUMMARY #########\n",
      "\n",
      "\n",
      "# Sentences read in                          = 978\n",
      "\n",
      "# Sentences written to dataframe dfOut       = 812\n",
      "\n",
      "# Sentences NOT written to dataframe dfOut   = 166\n",
      "\n",
      "\t# Sentences with Long words                = 76\n",
      "\n",
      "\t# Sentences started with number            = 90\n",
      "Done\n"
     ]
    }
   ],
   "source": [
    "counters = { 'countSentReadIn': 0 , 'countSentWrittenToDfOut': 0 , 'countSentNOTWrittenToDfOut': 0 , \\\n",
    "            'countSentWithLongWords': 0 , 'countSentStartsWithNumber': 0}\n",
    "#\n",
    "abbreviationsCleanupRequiredFlag = True\n",
    "#\n",
    "basicCleanupRequiredFlag = True\n",
    "advancedCleanupRequiredFlag = True\n",
    "#\n",
    "#basicCleanupRequiredFlag = False\n",
    "#advancedCleanupRequiredFlag = False\n",
    "#\n",
    "tooLongWordLimit = 18  ## in advanced cleanup, any sentence with any word(s) longer than this value will be rejected.\n",
    "#\n",
    "for pageNum in range(len(dfin)):\n",
    "    #print(f\"{pageNum}\")\n",
    "    fullSentOnPage = dfin['textOnPage'][pageNum].strip().lower()\n",
    "    #\n",
    "    ## perform abbreviations processing if the flag is True\n",
    "    if abbreviationsCleanupRequiredFlag == True:\n",
    "        fullSentOnPage = cleanUpSentenceAbbreviations(fullSentOnPage)\n",
    "    #\n",
    "    sentencesOnPage = sent_tokenize(fullSentOnPage)\n",
    "    for eachSentOnPage in sentencesOnPage:\n",
    "        counters['countSentReadIn'] += 1\n",
    "        #print(f\"\\n\\t\\tb4=\\n{eachSentOnPage}\")\n",
    "        logging.warning(f\"\\n******* sentence number = {counters['countSentReadIn']} *******\")\n",
    "        logging.warning(f\"\\n\\t\\tBefore cleanup=\\n{eachSentOnPage}\")\n",
    "        #\n",
    "        if basicCleanupRequiredFlag == True:\n",
    "            cleanedSentence = cleanUpSentenceBasic(eachSentOnPage, advancedCleanupRequiredFlag, tooLongWordLimit)\n",
    "        else:\n",
    "            cleanedSentence = eachSentOnPage   ## no clean up done at all!\n",
    "        #\n",
    "        ## after clean up, basic and advanced return with None value if the sentence is to be rejected\n",
    "        if cleanedSentence is not None:\n",
    "            dataToWrite = [cleanedSentence, pageNum]\n",
    "            dfOut = dfOut.append( dict( zip( dfOutColumns , dataToWrite )) , ignore_index=True )\n",
    "            counters['countSentWrittenToDfOut'] += 1\n",
    "            logging.warning(f\"\\t...Written sentence...\")\n",
    "            logging.warning(f\"sentenceIN = {counters['countSentReadIn']} , sentenceOUT = {counters['countSentWrittenToDfOut']}\")\n",
    "            logging.warning(f\"\\n\\t\\tafter cleanup=\\n{cleanedSentence}\")\n",
    "        else:\n",
    "            counters['countSentNOTWrittenToDfOut'] += 1\n",
    "            logging.warning(f\"\\t...NOT Written sentence...\")\n",
    "            logging.warning(f\"sentenceIN = {counters['countSentReadIn']} , sentence_NOT_OUT = {counters['countSentNOTWrittenToDfOut']}\")\n",
    "            logging.warning(f\"\\n\\t\\tafter cleanup=\\n{cleanedSentence}\")\n",
    "#\n",
    "print(f\"\\n\\n ########## SUMMARY ######### SUMMARY ######### SUMMARY #########\\n\")\n",
    "print(f\"\\n# Sentences read in                          = {counters['countSentReadIn']}\")\n",
    "print(f\"\\n# Sentences written to dataframe dfOut       = {counters['countSentWrittenToDfOut']}\")\n",
    "print(f\"\\n# Sentences NOT written to dataframe dfOut   = {counters['countSentNOTWrittenToDfOut']}\")\n",
    "print(f\"\\n\\t# Sentences with Long words                = {counters['countSentWithLongWords']}\")\n",
    "print(f\"\\n\\t# Sentences started with number            = {counters['countSentStartsWithNumber']}\")\n",
    "logging.warning(f\"\\n\\n ########## SUMMARY ######### SUMMARY ######### SUMMARY #########\\n\")\n",
    "logging.warning(f\"\\n# Sentences read in                          = {counters['countSentReadIn']}\")\n",
    "logging.warning(f\"\\n# Sentences written to dataframe dfOut       = {counters['countSentWrittenToDfOut']}\")\n",
    "logging.warning(f\"\\n# Sentences NOT written to dataframe dfOut   = {counters['countSentNOTWrittenToDfOut']}\")\n",
    "logging.warning(f\"\\n\\t# Sentences with Long words                = {counters['countSentWithLongWords']}\")\n",
    "logging.warning(f\"\\n\\t# Sentences started with number            = {counters['countSentStartsWithNumber']}\")\n",
    "#\n",
    "print(f\"Done\")\n",
    "logging.warning(f\"Done\")"
   ]
  },
  {
   "cell_type": "code",
   "execution_count": 39,
   "metadata": {
    "scrolled": false
   },
   "outputs": [
    {
     "data": {
      "text/html": [
       "<div>\n",
       "<style scoped>\n",
       "    .dataframe tbody tr th:only-of-type {\n",
       "        vertical-align: middle;\n",
       "    }\n",
       "\n",
       "    .dataframe tbody tr th {\n",
       "        vertical-align: top;\n",
       "    }\n",
       "\n",
       "    .dataframe thead th {\n",
       "        text-align: right;\n",
       "    }\n",
       "</style>\n",
       "<table border=\"1\" class=\"dataframe\">\n",
       "  <thead>\n",
       "    <tr style=\"text-align: right;\">\n",
       "      <th></th>\n",
       "      <th>sentence</th>\n",
       "      <th>pageNum</th>\n",
       "    </tr>\n",
       "  </thead>\n",
       "  <tbody>\n",
       "    <tr>\n",
       "      <th>0</th>\n",
       "      <td>system eight zero zero xasystem guide summary</td>\n",
       "      <td>0</td>\n",
       "    </tr>\n",
       "    <tr>\n",
       "      <th>1</th>\n",
       "      <td>it thus summarizes the main eight zero zero xa system guide.</td>\n",
       "      <td>3</td>\n",
       "    </tr>\n",
       "    <tr>\n",
       "      <th>2</th>\n",
       "      <td>this summary describes the functionality and capabilities of system eight zero zero xa five . one including feature pack four . for more detailed information please use the eight zero zero xa system guide</td>\n",
       "      <td>3</td>\n",
       "    </tr>\n",
       "    <tr>\n",
       "      <th>3</th>\n",
       "      <td>system eight zero zero xa extends the reach of traditional automation systems beyond control of the process to increase energy efficiency asset utilization energy savings and operator effectiveness.</td>\n",
       "      <td>5</td>\n",
       "    </tr>\n",
       "    <tr>\n",
       "      <th>4</th>\n",
       "      <td>the power of integration in order to be competitive various plant entities departments and personnel have to work as one flexible integrated collaborative team.</td>\n",
       "      <td>5</td>\n",
       "    </tr>\n",
       "    <tr>\n",
       "      <th>...</th>\n",
       "      <td>...</td>\n",
       "      <td>...</td>\n",
       "    </tr>\n",
       "    <tr>\n",
       "      <th>807</th>\n",
       "      <td>essentially the same configuration and dimensioning rules as well as technical specification for an eight zero zero xa system apply when the system is installed in a virtual environment.an engineering system is intended for engineering functions only with no production or control operations.</td>\n",
       "      <td>73</td>\n",
       "    </tr>\n",
       "    <tr>\n",
       "      <th>808</th>\n",
       "      <td>there are four alternatives regarding the domain membership the engineering system can be added to an existing domain .</td>\n",
       "      <td>73</td>\n",
       "    </tr>\n",
       "    <tr>\n",
       "      <th>809</th>\n",
       "      <td>the engineering system can be defined as a new domain added to an existing domain controller.</td>\n",
       "      <td>73</td>\n",
       "    </tr>\n",
       "    <tr>\n",
       "      <th>810</th>\n",
       "      <td>the engineering system can be defined as a new domain in a separate domain controller .</td>\n",
       "      <td>73</td>\n",
       "    </tr>\n",
       "    <tr>\n",
       "      <th>811</th>\n",
       "      <td>the engineering system can be defined as a workgroup.system communication in system eight zero zero xa is based on ethernet and tcp forwardslash ip networks which are functionally and in most cases also physically built in levels.plant networkclient server networkcontrol networkfield networkinternet</td>\n",
       "      <td>73</td>\n",
       "    </tr>\n",
       "  </tbody>\n",
       "</table>\n",
       "<p>812 rows × 2 columns</p>\n",
       "</div>"
      ],
      "text/plain": [
       "                                                                                                                                                                                                                                                                                                         sentence  \\\n",
       "0    system eight zero zero xasystem guide summary                                                                                                                                                                                                                                                                  \n",
       "1    it thus summarizes the main eight zero zero xa system guide.                                                                                                                                                                                                                                                   \n",
       "2    this summary describes the functionality and capabilities of system eight zero zero xa five . one including feature pack four . for more detailed information please use the eight zero zero xa system guide                                                                                                   \n",
       "3    system eight zero zero xa extends the reach of traditional automation systems beyond control of the process to increase energy efficiency asset utilization energy savings and operator effectiveness.                                                                                                         \n",
       "4    the power of integration in order to be competitive various plant entities departments and personnel have to work as one flexible integrated collaborative team.                                                                                                                                               \n",
       "..                                                                                                                                                                ...                                                                                                                                               \n",
       "807  essentially the same configuration and dimensioning rules as well as technical specification for an eight zero zero xa system apply when the system is installed in a virtual environment.an engineering system is intended for engineering functions only with no production or control operations.           \n",
       "808  there are four alternatives regarding the domain membership the engineering system can be added to an existing domain .                                                                                                                                                                                        \n",
       "809  the engineering system can be defined as a new domain added to an existing domain controller.                                                                                                                                                                                                                  \n",
       "810  the engineering system can be defined as a new domain in a separate domain controller .                                                                                                                                                                                                                        \n",
       "811  the engineering system can be defined as a workgroup.system communication in system eight zero zero xa is based on ethernet and tcp forwardslash ip networks which are functionally and in most cases also physically built in levels.plant networkclient server networkcontrol networkfield networkinternet   \n",
       "\n",
       "     pageNum  \n",
       "0    0        \n",
       "1    3        \n",
       "2    3        \n",
       "3    5        \n",
       "4    5        \n",
       "..  ..        \n",
       "807  73       \n",
       "808  73       \n",
       "809  73       \n",
       "810  73       \n",
       "811  73       \n",
       "\n",
       "[812 rows x 2 columns]"
      ]
     },
     "execution_count": 39,
     "metadata": {},
     "output_type": "execute_result"
    }
   ],
   "source": [
    "dfOut"
   ]
  },
  {
   "cell_type": "code",
   "execution_count": 40,
   "metadata": {},
   "outputs": [],
   "source": [
    "dfOut.to_csv(opFileTxt, index=False)"
   ]
  },
  {
   "cell_type": "code",
   "execution_count": null,
   "metadata": {},
   "outputs": [],
   "source": []
  },
  {
   "cell_type": "code",
   "execution_count": 41,
   "metadata": {},
   "outputs": [],
   "source": [
    "##################\n",
    "##################"
   ]
  },
  {
   "cell_type": "code",
   "execution_count": 42,
   "metadata": {},
   "outputs": [],
   "source": [
    "# Many lines in output file actually had multiple sentences still.\n",
    "# So splitting the cell values on the dot into multiple rows, while retaining the page numbers.\n",
    "# This dataframe then written to a new output file."
   ]
  },
  {
   "cell_type": "code",
   "execution_count": 43,
   "metadata": {},
   "outputs": [],
   "source": [
    "import nltk\n",
    "import numpy as np\n",
    "import pandas as pd\n",
    "import re\n",
    "import os"
   ]
  },
  {
   "cell_type": "code",
   "execution_count": 44,
   "metadata": {},
   "outputs": [],
   "source": [
    "pd.set_option('max_columns', 500)\n",
    "pd.set_option('max_colwidth', -1)\n",
    "pd.set_option('max_rows', 500)"
   ]
  },
  {
   "cell_type": "code",
   "execution_count": 45,
   "metadata": {},
   "outputs": [],
   "source": [
    "extensionString = '_extractedText_' + str(3) + '.csv'\n",
    "ipFileTxt = outputFilesPath + pdfFileName + extensionString\n",
    "extensionString = '_extractedText_' + str(4) + '.csv'\n",
    "opFileTxt = outputFilesPath + pdfFileName + extensionString"
   ]
  },
  {
   "cell_type": "code",
   "execution_count": 46,
   "metadata": {},
   "outputs": [
    {
     "name": "stdout",
     "output_type": "stream",
     "text": [
      "\n",
      "    *************************************************************** \n",
      "    *************************************************************** \n",
      "    *************************************************************** \n",
      " Read in the file, strip the contents and rewrite to new output file.\n",
      "\n",
      "    *************************************************************** \n",
      "    *************************************************************** \n",
      "    ***************************************************************  \n",
      "\n",
      "\n"
     ]
    }
   ],
   "source": [
    "print(f\"\\n    *************************************************************** \\n    *************************************************************** \\n    *************************************************************** \")\n",
    "print(f\" Read in the file, strip the contents and rewrite to new output file.\")\n",
    "print(f\"\\n    *************************************************************** \\n    *************************************************************** \\n    ***************************************************************  \\n\\n\")\n",
    "logging.warning(f\"\\n    *************************************************************** \\n    *************************************************************** \\n    *************************************************************** \")\n",
    "logging.warning(f\" Read in the file, strip the contents and rewrite to new output file.\")\n",
    "logging.warning(f\"\\n    *************************************************************** \\n    *************************************************************** \\n    ***************************************************************  \\n\\n\")"
   ]
  },
  {
   "cell_type": "code",
   "execution_count": 47,
   "metadata": {},
   "outputs": [
    {
     "name": "stdout",
     "output_type": "stream",
     "text": [
      "\n",
      "\t# Rows read into dataframe = all the rows\n",
      "dfin.shape = (812, 2)\n"
     ]
    }
   ],
   "source": [
    "# set rowsToRead = -1 to read the whole dataframe in one shot, else specify the number accordingly\n",
    "rowsToRead = -1\n",
    "#rowsToRead = 7\n",
    "if rowsToRead == -1:\n",
    "    dfin = pd.read_csv( ipFileTxt, sep=',', header=0, low_memory=False )\n",
    "else:\n",
    "    dfin = pd.read_csv( ipFileTxt, sep=',', header=0, nrows=rowsToRead, low_memory=False )\n",
    "print(f'\\n\\t# Rows read into dataframe = {rowsToRead if rowsToRead != -1 else \"all the rows\"}')\n",
    "logging.warning(f'\\n\\t# Rows read into dataframe = {rowsToRead if rowsToRead != -1 else \"all the rows\"}')\n",
    "print(f\"dfin.shape = {dfin.shape}\")\n",
    "logging.warning(f\"\\n\\tdfin.shape = {dfin.shape}\\n\")"
   ]
  },
  {
   "cell_type": "code",
   "execution_count": 48,
   "metadata": {
    "scrolled": true
   },
   "outputs": [
    {
     "data": {
      "text/plain": [
       "['sentence', 'pageNum']"
      ]
     },
     "execution_count": 48,
     "metadata": {},
     "output_type": "execute_result"
    }
   ],
   "source": [
    "list(dfin)"
   ]
  },
  {
   "cell_type": "code",
   "execution_count": 49,
   "metadata": {},
   "outputs": [],
   "source": [
    "# https://medium.com/@sureshssarda/pandas-splitting-exploding-a-column-into-multiple-rows-b1b1d59ea12e\n",
    "dfTemp = pd.DataFrame(dfin.sentence.str.split('.').tolist(), index=dfin.pageNum).stack()\n",
    "del dfin"
   ]
  },
  {
   "cell_type": "code",
   "execution_count": 50,
   "metadata": {},
   "outputs": [
    {
     "data": {
      "text/plain": [
       "pageNum   \n",
       "0        0    system eight zero zero xasystem guide summary                                                                                                                                                        \n",
       "3        0    it thus summarizes the main eight zero zero xa system guide                                                                                                                                          \n",
       "         1                                                                                                                                                                                                         \n",
       "         0    this summary describes the functionality and capabilities of system eight zero zero xa five                                                                                                          \n",
       "         1     one including feature pack four                                                                                                                                                                     \n",
       "         2     for more detailed information please use the eight zero zero xa system guide                                                                                                                        \n",
       "5        0    system eight zero zero xa extends the reach of traditional automation systems beyond control of the process to increase energy efficiency asset utilization energy savings and operator effectiveness\n",
       "         1                                                                                                                                                                                                         \n",
       "         0    the power of integration in order to be competitive various plant entities departments and personnel have to work as one flexible integrated collaborative team                                      \n",
       "         1                                                                                                                                                                                                         \n",
       "dtype: object"
      ]
     },
     "execution_count": 50,
     "metadata": {},
     "output_type": "execute_result"
    }
   ],
   "source": [
    "dfTemp.head(10)"
   ]
  },
  {
   "cell_type": "code",
   "execution_count": 51,
   "metadata": {},
   "outputs": [],
   "source": [
    "dfTemp = dfTemp.reset_index([0, 'pageNum'])\n",
    "dfTemp.columns = ['pageNum' , 'sentence']"
   ]
  },
  {
   "cell_type": "code",
   "execution_count": 52,
   "metadata": {},
   "outputs": [
    {
     "data": {
      "text/html": [
       "<div>\n",
       "<style scoped>\n",
       "    .dataframe tbody tr th:only-of-type {\n",
       "        vertical-align: middle;\n",
       "    }\n",
       "\n",
       "    .dataframe tbody tr th {\n",
       "        vertical-align: top;\n",
       "    }\n",
       "\n",
       "    .dataframe thead th {\n",
       "        text-align: right;\n",
       "    }\n",
       "</style>\n",
       "<table border=\"1\" class=\"dataframe\">\n",
       "  <thead>\n",
       "    <tr style=\"text-align: right;\">\n",
       "      <th></th>\n",
       "      <th>pageNum</th>\n",
       "      <th>sentence</th>\n",
       "    </tr>\n",
       "  </thead>\n",
       "  <tbody>\n",
       "    <tr>\n",
       "      <th>0</th>\n",
       "      <td>0</td>\n",
       "      <td>system eight zero zero xasystem guide summary</td>\n",
       "    </tr>\n",
       "    <tr>\n",
       "      <th>1</th>\n",
       "      <td>3</td>\n",
       "      <td>it thus summarizes the main eight zero zero xa system guide</td>\n",
       "    </tr>\n",
       "    <tr>\n",
       "      <th>2</th>\n",
       "      <td>3</td>\n",
       "      <td></td>\n",
       "    </tr>\n",
       "    <tr>\n",
       "      <th>3</th>\n",
       "      <td>3</td>\n",
       "      <td>this summary describes the functionality and capabilities of system eight zero zero xa five</td>\n",
       "    </tr>\n",
       "    <tr>\n",
       "      <th>4</th>\n",
       "      <td>3</td>\n",
       "      <td>one including feature pack four</td>\n",
       "    </tr>\n",
       "    <tr>\n",
       "      <th>5</th>\n",
       "      <td>3</td>\n",
       "      <td>for more detailed information please use the eight zero zero xa system guide</td>\n",
       "    </tr>\n",
       "    <tr>\n",
       "      <th>6</th>\n",
       "      <td>5</td>\n",
       "      <td>system eight zero zero xa extends the reach of traditional automation systems beyond control of the process to increase energy efficiency asset utilization energy savings and operator effectiveness</td>\n",
       "    </tr>\n",
       "    <tr>\n",
       "      <th>7</th>\n",
       "      <td>5</td>\n",
       "      <td></td>\n",
       "    </tr>\n",
       "    <tr>\n",
       "      <th>8</th>\n",
       "      <td>5</td>\n",
       "      <td>the power of integration in order to be competitive various plant entities departments and personnel have to work as one flexible integrated collaborative team</td>\n",
       "    </tr>\n",
       "    <tr>\n",
       "      <th>9</th>\n",
       "      <td>5</td>\n",
       "      <td></td>\n",
       "    </tr>\n",
       "  </tbody>\n",
       "</table>\n",
       "</div>"
      ],
      "text/plain": [
       "   pageNum  \\\n",
       "0  0         \n",
       "1  3         \n",
       "2  3         \n",
       "3  3         \n",
       "4  3         \n",
       "5  3         \n",
       "6  5         \n",
       "7  5         \n",
       "8  5         \n",
       "9  5         \n",
       "\n",
       "                                                                                                                                                                                                sentence  \n",
       "0  system eight zero zero xasystem guide summary                                                                                                                                                          \n",
       "1  it thus summarizes the main eight zero zero xa system guide                                                                                                                                            \n",
       "2                                                                                                                                                                                                         \n",
       "3  this summary describes the functionality and capabilities of system eight zero zero xa five                                                                                                            \n",
       "4   one including feature pack four                                                                                                                                                                       \n",
       "5   for more detailed information please use the eight zero zero xa system guide                                                                                                                          \n",
       "6  system eight zero zero xa extends the reach of traditional automation systems beyond control of the process to increase energy efficiency asset utilization energy savings and operator effectiveness  \n",
       "7                                                                                                                                                                                                         \n",
       "8  the power of integration in order to be competitive various plant entities departments and personnel have to work as one flexible integrated collaborative team                                        \n",
       "9                                                                                                                                                                                                         "
      ]
     },
     "execution_count": 52,
     "metadata": {},
     "output_type": "execute_result"
    }
   ],
   "source": [
    "dfTemp.head(10)"
   ]
  },
  {
   "cell_type": "code",
   "execution_count": 53,
   "metadata": {},
   "outputs": [
    {
     "name": "stdout",
     "output_type": "stream",
     "text": [
      "dfTemp.shape before dropping any rows with NaN = (1789, 2)\n",
      "dfTemp.shape AFTER dropping any rows with NaN = (1004, 2)\n"
     ]
    }
   ],
   "source": [
    "#dfTemp = dfTemp[['sentence' , 'pageNum']]\n",
    "dfTemp = dfTemp.replace(r'^\\s*$', np.nan, regex=True) ## replace any empty cells with nan\n",
    "#\n",
    "print(f\"dfTemp.shape before dropping any rows with NaN = {dfTemp.shape}\")\n",
    "logging.warning(f\"dfTemp.shape before dropping any rows with NaN = {dfTemp.shape}\")\n",
    "#\n",
    "dfTemp = dfTemp.dropna()\n",
    "#\n",
    "print(f\"dfTemp.shape AFTER dropping any rows with NaN = {dfTemp.shape}\")\n",
    "logging.warning(f\"dfTemp.shape AFTER dropping any rows with NaN = {dfTemp.shape}\")\n",
    "#\n",
    "dfTemp = dfTemp.reset_index(drop=True)\n",
    "dfTemp['sentenceLen'] = dfTemp['sentence'].apply(len)\n",
    "dfTemp['sentence'] = dfTemp['sentence'].str.strip()\n",
    "#"
   ]
  },
  {
   "cell_type": "code",
   "execution_count": 55,
   "metadata": {},
   "outputs": [
    {
     "name": "stdout",
     "output_type": "stream",
     "text": [
      "\n",
      "Valid characters specified = \n",
      "abcdefghijklmnopqrstuvwxyz' \n",
      "\n",
      "Count of Invalid Rows = 0\n",
      "Count of Valid   Rows = 1003\n",
      "\n",
      "\n",
      "\n",
      "Final cleaned file writtent to:\n",
      "/home/rohit/dpspTraining/data/azure/pdfExtraction/TestFile1.pdf_extractedText_4.csv\n"
     ]
    }
   ],
   "source": [
    "## retain only sentences with valid characters specified in the input string\n",
    "#\n",
    "#\n",
    "## specify the column to check\n",
    "colToCheck = 'sentence'\n",
    "#\n",
    "## write ALL the valid characters once in the square brackets\n",
    "##       this has the lower case alphas, apostrophe and space\n",
    "validCharsString = r'''abcdefghijklmnopqrstuvwxyz' '''\n",
    "#\n",
    "print(f\"\\nValid characters specified = \\n{validCharsString}\")\n",
    "logging.warning(f\"\\nValid characters specified = \\n{validCharsString}\")\n",
    "#\n",
    "validCharsStringRegex = r\"^[\" + validCharsString + r\"]+$\"\n",
    "#\n",
    "validRowsPos = dfTemp[colToCheck].str.match(validCharsStringRegex)\n",
    "invalidRowsPos = ~validRowsPos\n",
    "countInvalidRows = invalidRowsPos[invalidRowsPos == True].count()\n",
    "countValidRows = validRowsPos[validRowsPos == True].count()\n",
    "#\n",
    "myStr = f\"\\n\" + \\\n",
    "f\"Count of Invalid Rows = {countInvalidRows}\\n\" + \\\n",
    "f\"Count of Valid   Rows = {countValidRows}\"   + \\\n",
    "f\"\\n\"\n",
    "print(f\"{myStr}\")\n",
    "logging.warning(f\"{myStr}\")\n",
    "#\n",
    "dfTemp = dfTemp.loc[validRowsPos]\n",
    "dfTemp.to_csv(opFileTxt, index=False)\n",
    "#\n",
    "print(f\"\\n\\nFinal cleaned file writtent to:\\n{opFileTxt}\")\n",
    "logging.warning(f\"\\n\\nFinal cleaned file writtent to:\\n{opFileTxt}\")"
   ]
  },
  {
   "cell_type": "code",
   "execution_count": null,
   "metadata": {},
   "outputs": [],
   "source": []
  },
  {
   "cell_type": "code",
   "execution_count": null,
   "metadata": {},
   "outputs": [],
   "source": []
  }
 ],
 "metadata": {
  "kernelspec": {
   "display_name": "Python 3",
   "language": "python",
   "name": "python3"
  },
  "language_info": {
   "codemirror_mode": {
    "name": "ipython",
    "version": 3
   },
   "file_extension": ".py",
   "mimetype": "text/x-python",
   "name": "python",
   "nbconvert_exporter": "python",
   "pygments_lexer": "ipython3",
   "version": "3.6.9"
  }
 },
 "nbformat": 4,
 "nbformat_minor": 2
}
